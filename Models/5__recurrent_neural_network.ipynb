{
 "cells": [
  {
   "cell_type": "markdown",
   "id": "e430cef0",
   "metadata": {},
   "source": [
    "## Recurrent Neural Networks\n",
    "\n",
    "Author: Calvin Chan \n",
    "\n",
    "### Introduction \n",
    "\n",
    "In this final notebook we will look at an advance model known as Recurrent Neural Networks or RNNs. We will be utilizing Gated Reccurent Units or (GRUs) in our model. Since our data consists of time series, we expect RNNs to work much better since they are meant for processing time series data such as ours. First we will import our full data set and add some minor changes such as reducing the data from multiclass to binary classification. \n",
    "\n",
    "At the end of this notebook, we incldued a summary to go through how our model helps with the problem space we are in, what are some of the limitations that we encountered, and possible some next steps if this process were on going. \n",
    "\n",
    "### Table of Contents\n",
    "- [Full Data Import](#import)\n",
    "- [Data Preprocessing](#preprocessing)\n",
    "- [First Model](#first)\n",
    "- [Second Model](#model2)\n",
    "- [GridSearch](#gridsearch)\n",
    "- [Summary](#summary)"
   ]
  },
  {
   "cell_type": "markdown",
   "id": "4412a1d3",
   "metadata": {},
   "source": [
    "Let's begin by importing our required packages."
   ]
  },
  {
   "cell_type": "code",
   "execution_count": 1,
   "id": "94b43bf2",
   "metadata": {},
   "outputs": [
    {
     "name": "stdout",
     "output_type": "stream",
     "text": [
      "/opt/anaconda3/envs/ecgcap/bin/python3.10\n"
     ]
    }
   ],
   "source": [
    "import sys\n",
    "print(sys.executable)"
   ]
  },
  {
   "cell_type": "code",
   "execution_count": 2,
   "id": "dba6fde5",
   "metadata": {},
   "outputs": [],
   "source": [
    "import numpy as np\n",
    "import pandas as pd\n",
    "import matplotlib.pyplot as plt\n",
    "import seaborn as sns\n",
    "import ast\n",
    "import pickle\n",
    "import load_functions as f\n",
    "import tensorflow as tf\n",
    "from sklearn.model_selection import train_test_split, GridSearchCV\n",
    "from sklearn.preprocessing import StandardScaler, LabelEncoder\n",
    "from tensorflow import keras\n",
    "from tensorflow.keras import Sequential\n",
    "from tensorflow.keras import layers\n",
    "from tensorflow.keras.optimizers import Adam\n",
    "from tensorflow.keras.losses import SparseCategoricalCrossentropy\n",
    "from tensorflow.keras.metrics import SparseCategoricalAccuracy\n",
    "from tensorflow.keras.layers import Dense, Dropout, GRU, BatchNormalization, LeakyReLU\n",
    "from sklearn.metrics import classification_report, confusion_matrix, ConfusionMatrixDisplay, roc_curve, roc_auc_score\n",
    "\n",
    "import sys\n",
    "sys.path.append('..')\n",
    "from Notebooks import ecg_cleaning as c"
   ]
  },
  {
   "cell_type": "markdown",
   "id": "a7e8287e",
   "metadata": {},
   "source": [
    "<a id='import'></a>\n",
    "### Full Data Import\n",
    "\n",
    "We will read in our full data set now."
   ]
  },
  {
   "cell_type": "code",
   "execution_count": 3,
   "id": "d60e1ae9",
   "metadata": {},
   "outputs": [],
   "source": [
    "# File Path\n",
    "path = '../data/physionet.org/files/ptb-xl/1.0.3/'\n",
    "metadata = pd.read_csv('../data/cleaned_metadata.csv')\n",
    "\n",
    "# Import data\n",
    "full_data = f.load_signal(path, metadata)"
   ]
  },
  {
   "cell_type": "code",
   "execution_count": 4,
   "id": "eed1c1e9",
   "metadata": {},
   "outputs": [
    {
     "data": {
      "text/plain": [
       "((15677, 1000, 12), (15677,))"
      ]
     },
     "execution_count": 4,
     "metadata": {},
     "output_type": "execute_result"
    }
   ],
   "source": [
    "# Data shape\n",
    "full_data[0].shape, full_data[1].shape"
   ]
  },
  {
   "cell_type": "code",
   "execution_count": 5,
   "id": "629063e1",
   "metadata": {},
   "outputs": [
    {
     "data": {
      "text/plain": [
       "((15677, 1000), (15677,))"
      ]
     },
     "execution_count": 5,
     "metadata": {},
     "output_type": "execute_result"
    }
   ],
   "source": [
    "# Only looking at Lead II\n",
    "\n",
    "X = full_data[0][:,:,1]\n",
    "\n",
    "y = full_data[1]\n",
    "\n",
    "X.shape, y.shape"
   ]
  },
  {
   "cell_type": "markdown",
   "id": "8f23f58c",
   "metadata": {},
   "source": [
    "<a id='preprocessing'></a>\n",
    "### Data Preprocessing \n",
    "\n",
    "We need to do some preprocessing of our data, that is using our function in `load_functions.py` to make the target classes binary. Then using our functions for ECG cleaning (`ecg_cleaning.py`), we denoise them before they are fed into respective models. \n",
    "\n"
   ]
  },
  {
   "cell_type": "markdown",
   "id": "eb9e53b9",
   "metadata": {},
   "source": [
    "#### Binary Classification"
   ]
  },
  {
   "cell_type": "code",
   "execution_count": 6,
   "id": "18ba1331",
   "metadata": {},
   "outputs": [],
   "source": [
    "# Transform our target column into binary classes\n",
    "y = y.apply(lambda x: f.binary(x))"
   ]
  },
  {
   "cell_type": "code",
   "execution_count": 7,
   "id": "5a1d8851",
   "metadata": {},
   "outputs": [
    {
     "data": {
      "text/plain": [
       "diagnostic_superclass\n",
       "ABNO    8645\n",
       "NORM    7032\n",
       "Name: count, dtype: int64"
      ]
     },
     "execution_count": 7,
     "metadata": {},
     "output_type": "execute_result"
    }
   ],
   "source": [
    "# Sanity check\n",
    "y.value_counts()"
   ]
  },
  {
   "cell_type": "markdown",
   "id": "950ef5d3",
   "metadata": {},
   "source": [
    "With the number of classes defined, we have to label them using numbers before we can feed them into models. We do this using `LabelEncoder` from scikit-learn. "
   ]
  },
  {
   "cell_type": "code",
   "execution_count": 8,
   "id": "40544e16",
   "metadata": {},
   "outputs": [],
   "source": [
    "# Instantiate LabelEncoder\n",
    "label = LabelEncoder()\n",
    "\n",
    "# Fit target column\n",
    "label.fit(y)\n",
    "\n",
    "# Transform target column \n",
    "y = label.transform(y)"
   ]
  },
  {
   "cell_type": "code",
   "execution_count": 9,
   "id": "c0d05ebd",
   "metadata": {},
   "outputs": [
    {
     "data": {
      "text/plain": [
       "array([0, 1])"
      ]
     },
     "execution_count": 9,
     "metadata": {},
     "output_type": "execute_result"
    }
   ],
   "source": [
    "# Checking how our label is encoded \n",
    "label.transform(['ABNO', 'NORM'])"
   ]
  },
  {
   "cell_type": "markdown",
   "id": "a6fa7d53",
   "metadata": {},
   "source": [
    "#### Signal Denoising using `ecg_cleaning.py`\n",
    "\n",
    "Here, we denoise our signal using functions we created that implements Fourier Tranforms for signal cleaning. We have to specify frequencies in which we want to take out for baseline wandering and high frequencies, including powerline interference. "
   ]
  },
  {
   "cell_type": "code",
   "execution_count": 10,
   "id": "5002db52",
   "metadata": {},
   "outputs": [],
   "source": [
    "# Low sampling frequency\n",
    "sig_len = 1000\n",
    "sampling_frequency = 100\n",
    "time = np.arange(0, sig_len) / sampling_frequency\n",
    "\n",
    "# Baseline and PLI removal\n",
    "\n",
    "signal_bl = np.apply_along_axis(c.baseline_removal, axis=1, arr=X, freq_start=0.1, freq_stop=1.5)\n",
    "signal_pli = np.apply_along_axis(c.high_freq_removal, axis=1, arr=signal_bl, freq_start=40)"
   ]
  },
  {
   "cell_type": "markdown",
   "id": "bae430fa",
   "metadata": {},
   "source": [
    "For the model to work properly, it requires our time series signals in a 3D shape. Therefore, we reshape our data. "
   ]
  },
  {
   "cell_type": "code",
   "execution_count": 11,
   "id": "c75d9928",
   "metadata": {},
   "outputs": [
    {
     "data": {
      "text/plain": [
       "(15677, 1000)"
      ]
     },
     "execution_count": 11,
     "metadata": {},
     "output_type": "execute_result"
    }
   ],
   "source": [
    "signal_pli.shape"
   ]
  },
  {
   "cell_type": "code",
   "execution_count": 12,
   "id": "84f444fd",
   "metadata": {},
   "outputs": [],
   "source": [
    "# Reshape it into 3D \n",
    "signal_pli = signal_pli.reshape(-1, 1000, 1).astype(\"float\")"
   ]
  },
  {
   "cell_type": "code",
   "execution_count": 13,
   "id": "b5ea4996",
   "metadata": {},
   "outputs": [
    {
     "data": {
      "text/plain": [
       "((12541, 1000, 1), (12541,))"
      ]
     },
     "execution_count": 13,
     "metadata": {},
     "output_type": "execute_result"
    }
   ],
   "source": [
    "X_train, X_test, y_train, y_test = train_test_split(signal_pli, y, test_size=0.2, stratify=y, random_state=42)\n",
    "\n",
    "X_train.shape, y_train.shape"
   ]
  },
  {
   "cell_type": "code",
   "execution_count": 14,
   "id": "dcec1b19",
   "metadata": {},
   "outputs": [
    {
     "data": {
      "text/plain": [
       "((3136, 1000, 1), (3136,))"
      ]
     },
     "execution_count": 14,
     "metadata": {},
     "output_type": "execute_result"
    }
   ],
   "source": [
    "X_test.shape, y_test.shape"
   ]
  },
  {
   "cell_type": "markdown",
   "id": "7d660bcb",
   "metadata": {},
   "source": [
    "<a id='first'></a>\n",
    "### First Model \n",
    "\n",
    "In this first model, we will use a softmax output layer and sparse categorical cross entropy."
   ]
  },
  {
   "cell_type": "code",
   "execution_count": 15,
   "id": "49802b0e",
   "metadata": {},
   "outputs": [],
   "source": [
    "rnn_model = keras.Sequential([\n",
    "    # the intermediate recurrent layers should return full sequences\n",
    "    GRU(16, activation='relu', return_sequences=True),\n",
    "    BatchNormalization(),\n",
    "    Dropout(0.15),\n",
    "\n",
    "    # the last recurrent layer only returns the final output\n",
    "    GRU(16, activation='relu', return_sequences=False),\n",
    "    BatchNormalization(),\n",
    "    Dropout(0.15),\n",
    "\n",
    "    # output layer\n",
    "    Dense(16, activation='relu'),\n",
    "    BatchNormalization(),\n",
    "    Dropout(0.15),\n",
    "    Dense(2, activation='softmax')],\n",
    ")"
   ]
  },
  {
   "cell_type": "code",
   "execution_count": 18,
   "id": "12619334",
   "metadata": {},
   "outputs": [],
   "source": [
    "# Compile our model with an optimizer, loss function and metric to look at\n",
    "rnn_model.compile(\n",
    "    # Optimizer\n",
    "    optimizer=keras.optimizers.Adam(learning_rate=0.001),  # learning rate can be adjusted here\n",
    "    # Loss function to minimize\n",
    "    loss=keras.losses.SparseCategoricalCrossentropy(),\n",
    "    # Metric used to evaluate model\n",
    "    metrics=[keras.metrics.SparseCategoricalAccuracy()]\n",
    ")"
   ]
  },
  {
   "cell_type": "markdown",
   "id": "7c17f207",
   "metadata": {},
   "source": [
    "Setting our early stop and training the model. "
   ]
  },
  {
   "cell_type": "code",
   "execution_count": 28,
   "id": "7a7a41c9",
   "metadata": {},
   "outputs": [],
   "source": [
    "# Parameters\n",
    "epoch = 10"
   ]
  },
  {
   "cell_type": "code",
   "execution_count": 19,
   "id": "7d23cade",
   "metadata": {},
   "outputs": [
    {
     "name": "stdout",
     "output_type": "stream",
     "text": [
      "Epoch 1/10\n",
      "353/353 [==============================] - 90s 254ms/step - loss: 0.6365 - sparse_categorical_accuracy: 0.5995 - val_loss: 0.6217 - val_sparse_categorical_accuracy: 0.6438\n",
      "Epoch 2/10\n",
      "353/353 [==============================] - 121s 344ms/step - loss: 0.5690 - sparse_categorical_accuracy: 0.6979 - val_loss: 0.5396 - val_sparse_categorical_accuracy: 0.7291\n",
      "Epoch 3/10\n",
      "353/353 [==============================] - 146s 415ms/step - loss: 0.5005 - sparse_categorical_accuracy: 0.7636 - val_loss: 1.1612 - val_sparse_categorical_accuracy: 0.5482\n",
      "Epoch 4/10\n",
      "353/353 [==============================] - 113s 319ms/step - loss: 0.4597 - sparse_categorical_accuracy: 0.7935 - val_loss: 0.4437 - val_sparse_categorical_accuracy: 0.7793\n",
      "Epoch 5/10\n",
      "353/353 [==============================] - 161s 449ms/step - loss: 0.4464 - sparse_categorical_accuracy: 0.8000 - val_loss: 0.4403 - val_sparse_categorical_accuracy: 0.7920\n",
      "Epoch 6/10\n",
      "353/353 [==============================] - 140s 398ms/step - loss: 0.4323 - sparse_categorical_accuracy: 0.8063 - val_loss: 0.4278 - val_sparse_categorical_accuracy: 0.8104\n",
      "Epoch 7/10\n",
      "353/353 [==============================] - 126s 358ms/step - loss: 0.4293 - sparse_categorical_accuracy: 0.8103 - val_loss: 0.4317 - val_sparse_categorical_accuracy: 0.8151\n",
      "Epoch 8/10\n",
      "353/353 [==============================] - 142s 403ms/step - loss: 0.4191 - sparse_categorical_accuracy: 0.8197 - val_loss: 0.4012 - val_sparse_categorical_accuracy: 0.8255\n",
      "Epoch 9/10\n",
      "353/353 [==============================] - 129s 365ms/step - loss: 0.4209 - sparse_categorical_accuracy: 0.8164 - val_loss: 0.3721 - val_sparse_categorical_accuracy: 0.8375\n",
      "Epoch 10/10\n",
      "353/353 [==============================] - 140s 397ms/step - loss: 0.4130 - sparse_categorical_accuracy: 0.8208 - val_loss: 0.3671 - val_sparse_categorical_accuracy: 0.8406\n"
     ]
    }
   ],
   "source": [
    "# Set callbacks\n",
    "callbacks = keras.callbacks.EarlyStopping(monitor='val_loss', \n",
    "                                          verbose=1, \n",
    "                                          restore_best_weights=True,\n",
    "                                          patience=3\n",
    ")\n",
    "\n",
    "# Fit our model, adding a validation set as well \n",
    "history = rnn_model.fit(X_train, \n",
    "                    y_train, \n",
    "                    batch_size=32,\n",
    "                    epochs=epoch, \n",
    "                    validation_split=0.1,\n",
    "                    callbacks=[callbacks]\n",
    ")"
   ]
  },
  {
   "cell_type": "code",
   "execution_count": 20,
   "id": "c39002bb",
   "metadata": {
    "scrolled": false
   },
   "outputs": [
    {
     "name": "stdout",
     "output_type": "stream",
     "text": [
      "Model: \"sequential\"\n",
      "_________________________________________________________________\n",
      " Layer (type)                Output Shape              Param #   \n",
      "=================================================================\n",
      " gru (GRU)                   (None, 1000, 16)          912       \n",
      "                                                                 \n",
      " batch_normalization (BatchN  (None, 1000, 16)         64        \n",
      " ormalization)                                                   \n",
      "                                                                 \n",
      " dropout (Dropout)           (None, 1000, 16)          0         \n",
      "                                                                 \n",
      " gru_1 (GRU)                 (None, 16)                1632      \n",
      "                                                                 \n",
      " batch_normalization_1 (Batc  (None, 16)               64        \n",
      " hNormalization)                                                 \n",
      "                                                                 \n",
      " dropout_1 (Dropout)         (None, 16)                0         \n",
      "                                                                 \n",
      " dense (Dense)               (None, 16)                272       \n",
      "                                                                 \n",
      " batch_normalization_2 (Batc  (None, 16)               64        \n",
      " hNormalization)                                                 \n",
      "                                                                 \n",
      " dropout_2 (Dropout)         (None, 16)                0         \n",
      "                                                                 \n",
      " dense_1 (Dense)             (None, 2)                 34        \n",
      "                                                                 \n",
      "=================================================================\n",
      "Total params: 3,042\n",
      "Trainable params: 2,946\n",
      "Non-trainable params: 96\n",
      "_________________________________________________________________\n"
     ]
    }
   ],
   "source": [
    "rnn_model.summary()"
   ]
  },
  {
   "cell_type": "code",
   "execution_count": 25,
   "id": "417a3b74",
   "metadata": {},
   "outputs": [
    {
     "name": "stdout",
     "output_type": "stream",
     "text": [
      "Train Accuracy: 0.8208\n",
      "Test Accuracy: 0.8438\n"
     ]
    }
   ],
   "source": [
    "# Evaluate the model using the test data and generate predictions\n",
    "train_accuracy = history.history[\"sparse_categorical_accuracy\"][np.argmax(\n",
    "    history.history[\"sparse_categorical_accuracy\"])]\n",
    "result = rnn_model.evaluate(X_test, y_test, verbose=0)\n",
    "#result = rnn_model.evaluate(np.real(X_test.values.reshape(-1, 1000, 1)), y_test, verbose=0)\n",
    "\n",
    "print(f\"Train Accuracy: {train_accuracy:.4f}\")\n",
    "print(f\"Test Accuracy: {result[1]:.4f}\")"
   ]
  },
  {
   "cell_type": "markdown",
   "id": "874db452",
   "metadata": {},
   "source": [
    "Looking at our training and testing accuracy we see that using RNNs broke us through into the +80% range. This is a great milestone for us. Let's do some more evaluation. "
   ]
  },
  {
   "cell_type": "code",
   "execution_count": 29,
   "id": "1e539a84",
   "metadata": {},
   "outputs": [
    {
     "data": {
      "image/png": "[encoded data removed]",
      "text/plain": [
       "<Figure size 640x480 with 1 Axes>"
      ]
     },
     "metadata": {},
     "output_type": "display_data"
    }
   ],
   "source": [
    "epochs = range(0, epoch)\n",
    "\n",
    "# Plotting accuracy function \n",
    "plt.plot(epochs, history.history['sparse_categorical_accuracy'], marker='o')\n",
    "plt.plot(epochs, history.history['val_sparse_categorical_accuracy'], marker='o')\n",
    "plt.title('Model Accuracy')\n",
    "plt.ylabel('Accuracy')\n",
    "plt.xlabel('Epoch')\n",
    "plt.legend(['Train', 'Validation'])\n",
    "plt.show()"
   ]
  },
  {
   "cell_type": "markdown",
   "id": "cdc514dd",
   "metadata": {},
   "source": [
    "We see that the validation accuracy fluctuates up and down while the training accuracy has a clear increase and then a decrease. Given that we allowed for restoring the best weights using the `restore_best_weights` parameter in our callbacks, our model currently holds the best weight from all the epochs so far. "
   ]
  },
  {
   "cell_type": "code",
   "execution_count": 32,
   "id": "305463d4",
   "metadata": {},
   "outputs": [
    {
     "data": {
      "image/png": "[encoded data removed]",
      "text/plain": [
       "<Figure size 640x480 with 1 Axes>"
      ]
     },
     "metadata": {},
     "output_type": "display_data"
    }
   ],
   "source": [
    "# Plotting loss function \n",
    "plt.plot(epochs, history.history['loss'], marker='o')\n",
    "plt.plot(epochs, history.history['val_loss'], marker='o')\n",
    "plt.title('Model Loss')\n",
    "plt.ylabel('Loss')\n",
    "plt.xlabel('Epoch')\n",
    "#plt.xticks(epochs[:5:1])\n",
    "plt.legend(['Train', 'Validation'])\n",
    "plt.show()"
   ]
  },
  {
   "cell_type": "markdown",
   "id": "20f74fd6",
   "metadata": {},
   "source": [
    "Reflecting a similar pattern as accuracy, the loss score also fluctuates while the training score steadily decreases. "
   ]
  },
  {
   "cell_type": "code",
   "execution_count": 38,
   "id": "046b21bb",
   "metadata": {},
   "outputs": [
    {
     "name": "stdout",
     "output_type": "stream",
     "text": [
      "98/98 [==============================] - 3s 26ms/step\n"
     ]
    }
   ],
   "source": [
    "# Calculate the predicted labels for each test image.\n",
    "predict_probas = rnn_model.predict(X_test)\n",
    "y_predict = np.argmax(predict_probas, axis=1)"
   ]
  },
  {
   "cell_type": "code",
   "execution_count": 39,
   "id": "e098aa00",
   "metadata": {
    "scrolled": true
   },
   "outputs": [
    {
     "name": "stdout",
     "output_type": "stream",
     "text": [
      "              precision    recall  f1-score   support\n",
      "\n",
      "           0       0.87      0.84      0.86      1729\n",
      "           1       0.81      0.84      0.83      1407\n",
      "\n",
      "    accuracy                           0.84      3136\n",
      "   macro avg       0.84      0.84      0.84      3136\n",
      "weighted avg       0.84      0.84      0.84      3136\n",
      "\n"
     ]
    }
   ],
   "source": [
    "# Classification report \n",
    "cr = classification_report(y_test, y_predict)\n",
    "print(cr)"
   ]
  },
  {
   "cell_type": "markdown",
   "id": "bd7c0339",
   "metadata": {},
   "source": [
    "Looking at the classification report, we also see that actually `ABNO` ECGs have a pretty high recall, which is good for us since we want to catch those that may have even a small chance of having an abnormal heart rhythm. This is beneficial for many patients and can be applicable to smart watch devices. \n",
    "\n",
    "Now we can look into the confusion matrix. "
   ]
  },
  {
   "cell_type": "code",
   "execution_count": 40,
   "id": "ea6490df",
   "metadata": {},
   "outputs": [
    {
     "data": {
      "text/html": [
       "<div>\n",
       "<style scoped>\n",
       "    .dataframe tbody tr th:only-of-type {\n",
       "        vertical-align: middle;\n",
       "    }\n",
       "\n",
       "    .dataframe tbody tr th {\n",
       "        vertical-align: top;\n",
       "    }\n",
       "\n",
       "    .dataframe thead th {\n",
       "        text-align: right;\n",
       "    }\n",
       "</style>\n",
       "<table border=\"1\" class=\"dataframe\">\n",
       "  <thead>\n",
       "    <tr style=\"text-align: right;\">\n",
       "      <th></th>\n",
       "      <th>Predicted Abnormal</th>\n",
       "      <th>Predicted Normal</th>\n",
       "    </tr>\n",
       "  </thead>\n",
       "  <tbody>\n",
       "    <tr>\n",
       "      <th>True Abnormal</th>\n",
       "      <td>1459</td>\n",
       "      <td>270</td>\n",
       "    </tr>\n",
       "    <tr>\n",
       "      <th>True Normal</th>\n",
       "      <td>220</td>\n",
       "      <td>1187</td>\n",
       "    </tr>\n",
       "  </tbody>\n",
       "</table>\n",
       "</div>"
      ],
      "text/plain": [
       "               Predicted Abnormal  Predicted Normal\n",
       "True Abnormal                1459               270\n",
       "True Normal                   220              1187"
      ]
     },
     "metadata": {},
     "output_type": "display_data"
    }
   ],
   "source": [
    "# Generate confusion matrix\n",
    "cf_matrix = confusion_matrix(y_test, y_predict)\n",
    "\n",
    "# label rows and columns\n",
    "cf_df = pd.DataFrame(\n",
    "    cf_matrix, \n",
    "    columns=[\"Predicted Abnormal\", \"Predicted Normal\"],\n",
    "    index=[\"True Abnormal\", \"True Normal\"]\n",
    ")\n",
    "\n",
    "display(cf_df)"
   ]
  },
  {
   "cell_type": "code",
   "execution_count": 41,
   "id": "fb8c7039",
   "metadata": {
    "scrolled": false
   },
   "outputs": [
    {
     "data": {
      "image/png": "[encoded data removed]",
      "text/plain": [
       "<Figure size 700x500 with 2 Axes>"
      ]
     },
     "metadata": {},
     "output_type": "display_data"
    }
   ],
   "source": [
    "plt.figure(figsize=(7,5))\n",
    "sns.heatmap(cf_matrix,\n",
    "            annot=True,\n",
    "            cbar=True,\n",
    "            cmap=\"viridis\",\n",
    "            linewidths=1,\n",
    "            fmt='d'\n",
    ")\n",
    "plt.title('Confusion Matrix', size=15)\n",
    "plt.xlabel(\"Predicted Label\", size=12)\n",
    "plt.ylabel(\"True Label\", size=12)\n",
    "plt.show()"
   ]
  },
  {
   "cell_type": "markdown",
   "id": "0596adc6",
   "metadata": {},
   "source": [
    "Again looking at our confusion matrix, we can understand why we have a high recall score. Looking at the true labels that are 0, aka `ABNO`, our model seems to have caught a majority of them.\n",
    "\n",
    "Finally, looking into the ROC curve and AUC score. "
   ]
  },
  {
   "cell_type": "code",
   "execution_count": 43,
   "id": "4e853be2",
   "metadata": {
    "scrolled": false
   },
   "outputs": [
    {
     "data": {
      "image/png": "[encoded data removed]",
      "text/plain": [
       "<Figure size 640x480 with 1 Axes>"
      ]
     },
     "metadata": {},
     "output_type": "display_data"
    },
    {
     "name": "stdout",
     "output_type": "stream",
     "text": [
      "Area under curve (AUC):0.9161586926147582\n",
      "\n"
     ]
    }
   ],
   "source": [
    "fprs, tprs, thresholds = roc_curve(y_test, predict_probas[:, 1])\n",
    "roc_auc = roc_auc_score(y_test, predict_probas[:, 1])\n",
    "\n",
    "plt.figure()\n",
    "plt.plot(fprs, tprs, color='darkorange',\n",
    "         lw=2, label='AUC = %0.2f' % roc_auc)\n",
    "plt.plot([0, 1], [0, 1], color='navy', lw=2, linestyle='--')\n",
    "plt.xlabel('False Positive Rate (FPR)')\n",
    "plt.ylabel('True Positive Rate (TPR)')\n",
    "plt.title('ROC Curve for ECG Rhythm Prediction Using RNN')\n",
    "plt.legend(loc=\"best\")\n",
    "plt.savefig('roc_curve.jpg')\n",
    "plt.show()\n",
    "\n",
    "print(f'Area under curve (AUC):{roc_auc}')\n",
    "print()"
   ]
  },
  {
   "cell_type": "markdown",
   "id": "aa26219a",
   "metadata": {},
   "source": [
    "Our high AUC score is suggestive that our model is great at predicting normal ECGs being actually normal and abnormal ECGs being actually abnormal. This gives us confidence that our model is representing our data well. \n",
    "\n",
    "We will document down our models as we go. "
   ]
  },
  {
   "cell_type": "markdown",
   "id": "fc1e9edf",
   "metadata": {},
   "source": [
    "| Model | Activation             | Loss | LR    | Train Accuracy | Test Accuracy | AUC |\n",
    "|-------|------------------------|------|-------|----------------|---------------|-----|\n",
    "| 1     | relu, softmax          | SCCE | 0.01  | 82             | 84            | 92  |"
   ]
  },
  {
   "cell_type": "markdown",
   "id": "3fde7f23",
   "metadata": {},
   "source": [
    "#### Save model as pickle\n",
    "\n",
    "- https://edwarda-johnson.medium.com/ai-as-ghostwriter-different-ways-to-save-your-machine-learning-model-f8d4432e893\n",
    "\n",
    "We can save our models as pickle files for using them to predict in the future using the following code below. "
   ]
  },
  {
   "cell_type": "code",
   "execution_count": 46,
   "id": "b0a8e6ee",
   "metadata": {
    "collapsed": true
   },
   "outputs": [
    {
     "name": "stdout",
     "output_type": "stream",
     "text": [
      "Keras weights file (<HDF5 file \"variables.h5\" (mode r+)>) saving:\n",
      "...layers\n",
      "......batch_normalization\n",
      ".........vars\n",
      "............0\n",
      "............1\n",
      "............2\n",
      "............3\n",
      "......batch_normalization_1\n",
      ".........vars\n",
      "............0\n",
      "............1\n",
      "............2\n",
      "............3\n",
      "......batch_normalization_2\n",
      ".........vars\n",
      "............0\n",
      "............1\n",
      "............2\n",
      "............3\n",
      "......dense\n",
      ".........vars\n",
      "............0\n",
      "............1\n",
      "......dense_1\n",
      ".........vars\n",
      "............0\n",
      "............1\n",
      "......dropout\n",
      ".........vars\n",
      "......dropout_1\n",
      ".........vars\n",
      "......dropout_2\n",
      ".........vars\n",
      "......gru\n",
      ".........cell\n",
      "............vars\n",
      "...............0\n",
      "...............1\n",
      "...............2\n",
      ".........vars\n",
      "......gru_1\n",
      ".........cell\n",
      "............vars\n",
      "...............0\n",
      "...............1\n",
      "...............2\n",
      ".........vars\n",
      "...metrics\n",
      "......mean\n",
      ".........vars\n",
      "............0\n",
      "............1\n",
      "......sparse_categorical_accuracy\n",
      ".........vars\n",
      "............0\n",
      "............1\n",
      "...optimizer\n",
      "......vars\n",
      ".........0\n",
      ".........1\n",
      ".........10\n",
      ".........11\n",
      ".........12\n",
      ".........13\n",
      ".........14\n",
      ".........15\n",
      ".........16\n",
      ".........17\n",
      ".........18\n",
      ".........19\n",
      ".........2\n",
      ".........20\n",
      ".........21\n",
      ".........22\n",
      ".........23\n",
      ".........24\n",
      ".........25\n",
      ".........26\n",
      ".........27\n",
      ".........28\n",
      ".........29\n",
      ".........3\n",
      ".........30\n",
      ".........31\n",
      ".........32\n",
      ".........4\n",
      ".........5\n",
      ".........6\n",
      ".........7\n",
      ".........8\n",
      ".........9\n",
      "...vars\n",
      "Keras model archive saving:\n",
      "File Name                                             Modified             Size\n",
      "config.json                                    2024-07-01 01:42:45         5947\n",
      "metadata.json                                  2024-07-01 01:42:45           64\n",
      "variables.h5                                   2024-07-01 01:42:45        88312\n"
     ]
    }
   ],
   "source": [
    "with open('rnn_model.pkl', 'wb') as file:\n",
    "    pickle.dump(rnn_model, file)"
   ]
  },
  {
   "cell_type": "markdown",
   "id": "5c4268a3",
   "metadata": {},
   "source": [
    "To reload our model, we can use the following code: "
   ]
  },
  {
   "cell_type": "code",
   "execution_count": 47,
   "id": "0300c9c9",
   "metadata": {
    "collapsed": true
   },
   "outputs": [
    {
     "name": "stdout",
     "output_type": "stream",
     "text": [
      "Keras model archive loading:\n",
      "File Name                                             Modified             Size\n",
      "config.json                                    2024-07-01 01:42:44         5947\n",
      "metadata.json                                  2024-07-01 01:42:44           64\n",
      "variables.h5                                   2024-07-01 01:42:44        88312\n",
      "Keras weights file (<HDF5 file \"variables.h5\" (mode r)>) loading:\n",
      "...layers\n",
      "......batch_normalization\n",
      ".........vars\n",
      "............0\n",
      "............1\n",
      "............2\n",
      "............3\n",
      "......batch_normalization_1\n",
      ".........vars\n",
      "............0\n",
      "............1\n",
      "............2\n",
      "............3\n",
      "......batch_normalization_2\n",
      ".........vars\n",
      "............0\n",
      "............1\n",
      "............2\n",
      "............3\n",
      "......dense\n",
      ".........vars\n",
      "............0\n",
      "............1\n",
      "......dense_1\n",
      ".........vars\n",
      "............0\n",
      "............1\n",
      "......dropout\n",
      ".........vars\n",
      "......dropout_1\n",
      ".........vars\n",
      "......dropout_2\n",
      ".........vars\n",
      "......gru\n",
      ".........cell\n",
      "............vars\n",
      "...............0\n",
      "...............1\n",
      "...............2\n",
      ".........vars\n",
      "......gru_1\n",
      ".........cell\n",
      "............vars\n",
      "...............0\n",
      "...............1\n",
      "...............2\n",
      ".........vars\n",
      "...metrics\n",
      "......mean\n",
      ".........vars\n",
      "............0\n",
      "............1\n",
      "......sparse_categorical_accuracy\n",
      ".........vars\n",
      "............0\n",
      "............1\n",
      "...optimizer\n",
      "......vars\n",
      ".........0\n",
      ".........1\n",
      ".........10\n",
      ".........11\n",
      ".........12\n",
      ".........13\n",
      ".........14\n",
      ".........15\n",
      ".........16\n",
      ".........17\n",
      ".........18\n",
      ".........19\n",
      ".........2\n",
      ".........20\n",
      ".........21\n",
      ".........22\n",
      ".........23\n",
      ".........24\n",
      ".........25\n",
      ".........26\n",
      ".........27\n",
      ".........28\n",
      ".........29\n",
      ".........3\n",
      ".........30\n",
      ".........31\n",
      ".........32\n",
      ".........4\n",
      ".........5\n",
      ".........6\n",
      ".........7\n",
      ".........8\n",
      ".........9\n",
      "...vars\n"
     ]
    }
   ],
   "source": [
    "new_rnn_model = pickle.load(open('rnn_model.pkl', 'rb'))"
   ]
  },
  {
   "cell_type": "code",
   "execution_count": 48,
   "id": "e275776a",
   "metadata": {},
   "outputs": [
    {
     "name": "stdout",
     "output_type": "stream",
     "text": [
      "98/98 [==============================] - 3s 27ms/step\n"
     ]
    },
    {
     "data": {
      "text/plain": [
       "array([[0.1318157 , 0.8681843 ],\n",
       "       [0.9760384 , 0.02396154],\n",
       "       [0.1650286 , 0.8349713 ],\n",
       "       ...,\n",
       "       [0.27087963, 0.7291203 ],\n",
       "       [0.12843953, 0.87156045],\n",
       "       [0.9007669 , 0.09923314]], dtype=float32)"
      ]
     },
     "execution_count": 48,
     "metadata": {},
     "output_type": "execute_result"
    }
   ],
   "source": [
    "new_rnn_model.predict(X_test)"
   ]
  },
  {
   "cell_type": "markdown",
   "id": "dd708170",
   "metadata": {},
   "source": [
    "<a id='model2'></a>\n",
    "### Second Model\n",
    "\n",
    "Moving on to model two, in this next model, we make appropriate adjustments to a few parameters to allow a better performing model. The following changes include:\n",
    "- **Loss function**: `SparseCategoricalCrossentropy()` -> `BinaryCrossentropy()`\n",
    "- **Metric**: `SparseCategoricalAccuracy()` -> `BinaryAccuracy()` \n",
    "- **Learning Rate**: `0.001` -> `0.005`\n",
    "- **Output layer**: `softmax` -> `sigmoid`\n",
    "\n",
    "The main difference in this model is using a sigmoid activation function and binary crossentropy. "
   ]
  },
  {
   "cell_type": "code",
   "execution_count": 95,
   "id": "1640714e",
   "metadata": {},
   "outputs": [],
   "source": [
    "rnn_model_2 = keras.Sequential([\n",
    "    # the intermediate recurrent layers should return full sequences\n",
    "    GRU(16, activation='relu', return_sequences=True),\n",
    "    BatchNormalization(),\n",
    "    Dropout(0.15),\n",
    "\n",
    "    # the last recurrent layer only returns the final output\n",
    "    GRU(16, activation='relu', return_sequences=False),\n",
    "    BatchNormalization(),\n",
    "    Dropout(0.15),\n",
    "\n",
    "    # output layer\n",
    "    Dense(16, activation='relu'),\n",
    "    BatchNormalization(),\n",
    "    Dropout(0.15),\n",
    "    Dense(1, activation='sigmoid')],\n",
    ")"
   ]
  },
  {
   "cell_type": "code",
   "execution_count": 96,
   "id": "b264f951",
   "metadata": {},
   "outputs": [],
   "source": [
    "lr = 0.005\n",
    "epoch = 20"
   ]
  },
  {
   "cell_type": "code",
   "execution_count": 97,
   "id": "71aea96d",
   "metadata": {},
   "outputs": [],
   "source": [
    "# Compile our model with an optimizer, loss function and metric to look at\n",
    "rnn_model_2.compile(\n",
    "    # Optimizer\n",
    "    optimizer=keras.optimizers.Adam(learning_rate=lr),  # learning rate can be adjusted here\n",
    "    # Loss function to minimize\n",
    "    loss=keras.losses.BinaryCrossentropy(),\n",
    "    # Metric used to evaluate model\n",
    "    metrics=[keras.metrics.BinaryAccuracy(),]\n",
    "             #keras.metrics.Recall()]\n",
    ")"
   ]
  },
  {
   "cell_type": "markdown",
   "id": "e6142f3f",
   "metadata": {},
   "source": [
    "Training our neural network with our data set now. "
   ]
  },
  {
   "cell_type": "code",
   "execution_count": 98,
   "id": "920ee169",
   "metadata": {},
   "outputs": [
    {
     "name": "stdout",
     "output_type": "stream",
     "text": [
      "Epoch 1/20\n",
      "314/314 [==============================] - 67s 211ms/step - loss: 0.7163 - binary_accuracy: 0.5338 - val_loss: 0.6915 - val_binary_accuracy: 0.5464\n",
      "Epoch 2/20\n",
      "314/314 [==============================] - 63s 202ms/step - loss: 0.6194 - binary_accuracy: 0.6267 - val_loss: 0.5888 - val_binary_accuracy: 0.6772\n",
      "Epoch 3/20\n",
      "314/314 [==============================] - 65s 206ms/step - loss: 0.4906 - binary_accuracy: 0.7647 - val_loss: 0.4514 - val_binary_accuracy: 0.7959\n",
      "Epoch 4/20\n",
      "314/314 [==============================] - 66s 209ms/step - loss: 0.4312 - binary_accuracy: 0.8123 - val_loss: 0.4635 - val_binary_accuracy: 0.7979\n",
      "Epoch 5/20\n",
      "314/314 [==============================] - 61s 195ms/step - loss: 0.4216 - binary_accuracy: 0.8157 - val_loss: 0.4123 - val_binary_accuracy: 0.8139\n",
      "Epoch 6/20\n",
      "314/314 [==============================] - 65s 207ms/step - loss: 0.4418 - binary_accuracy: 0.7980 - val_loss: 0.5085 - val_binary_accuracy: 0.7445\n",
      "Epoch 7/20\n",
      "314/314 [==============================] - 65s 206ms/step - loss: 0.4372 - binary_accuracy: 0.8048 - val_loss: 0.3932 - val_binary_accuracy: 0.8282\n",
      "Epoch 8/20\n",
      "314/314 [==============================] - 65s 206ms/step - loss: 0.4112 - binary_accuracy: 0.8199 - val_loss: 0.4031 - val_binary_accuracy: 0.8274\n",
      "Epoch 9/20\n",
      "314/314 [==============================] - 63s 201ms/step - loss: 0.4052 - binary_accuracy: 0.8246 - val_loss: 0.3853 - val_binary_accuracy: 0.8306\n",
      "Epoch 10/20\n",
      "314/314 [==============================] - 66s 210ms/step - loss: 0.3988 - binary_accuracy: 0.8237 - val_loss: 0.3814 - val_binary_accuracy: 0.8342\n",
      "Epoch 11/20\n",
      "314/314 [==============================] - 65s 207ms/step - loss: 0.4000 - binary_accuracy: 0.8275 - val_loss: 0.3744 - val_binary_accuracy: 0.8378\n",
      "Epoch 12/20\n",
      "314/314 [==============================] - 64s 205ms/step - loss: 0.3976 - binary_accuracy: 0.8284 - val_loss: 0.3743 - val_binary_accuracy: 0.8398\n",
      "Epoch 13/20\n",
      "314/314 [==============================] - 65s 208ms/step - loss: 0.3986 - binary_accuracy: 0.8271 - val_loss: 0.4103 - val_binary_accuracy: 0.8131\n",
      "Epoch 14/20\n",
      "314/314 [==============================] - 65s 207ms/step - loss: 0.3946 - binary_accuracy: 0.8304 - val_loss: 0.3984 - val_binary_accuracy: 0.8230\n",
      "Epoch 15/20\n",
      "314/314 [==============================] - ETA: 0s - loss: 0.3915 - binary_accuracy: 0.8317Restoring model weights from the end of the best epoch: 12.\n",
      "314/314 [==============================] - 65s 208ms/step - loss: 0.3915 - binary_accuracy: 0.8317 - val_loss: 0.4139 - val_binary_accuracy: 0.8095\n",
      "Epoch 15: early stopping\n"
     ]
    }
   ],
   "source": [
    "# Set callbacks\n",
    "callbacks = keras.callbacks.EarlyStopping(monitor='val_loss', \n",
    "                                          verbose=1, \n",
    "                                          restore_best_weights=True,\n",
    "                                          patience=3\n",
    ")\n",
    "\n",
    "# Fit our model, adding a validation set as well \n",
    "history = rnn_model_2.fit(X_train, \n",
    "                    y_train, \n",
    "                    batch_size=32,\n",
    "                    epochs=epoch, \n",
    "                    validation_split=0.2,\n",
    "                    callbacks=[callbacks]\n",
    ")"
   ]
  },
  {
   "cell_type": "code",
   "execution_count": 99,
   "id": "3e9592ce",
   "metadata": {
    "scrolled": false
   },
   "outputs": [
    {
     "name": "stdout",
     "output_type": "stream",
     "text": [
      "Model: \"sequential_9\"\n",
      "_________________________________________________________________\n",
      " Layer (type)                Output Shape              Param #   \n",
      "=================================================================\n",
      " gru_18 (GRU)                (None, 1000, 16)          912       \n",
      "                                                                 \n",
      " batch_normalization_27 (Bat  (None, 1000, 16)         64        \n",
      " chNormalization)                                                \n",
      "                                                                 \n",
      " dropout_27 (Dropout)        (None, 1000, 16)          0         \n",
      "                                                                 \n",
      " gru_19 (GRU)                (None, 16)                1632      \n",
      "                                                                 \n",
      " batch_normalization_28 (Bat  (None, 16)               64        \n",
      " chNormalization)                                                \n",
      "                                                                 \n",
      " dropout_28 (Dropout)        (None, 16)                0         \n",
      "                                                                 \n",
      " dense_18 (Dense)            (None, 16)                272       \n",
      "                                                                 \n",
      " batch_normalization_29 (Bat  (None, 16)               64        \n",
      " chNormalization)                                                \n",
      "                                                                 \n",
      " dropout_29 (Dropout)        (None, 16)                0         \n",
      "                                                                 \n",
      " dense_19 (Dense)            (None, 1)                 17        \n",
      "                                                                 \n",
      "=================================================================\n",
      "Total params: 3,025\n",
      "Trainable params: 2,929\n",
      "Non-trainable params: 96\n",
      "_________________________________________________________________\n"
     ]
    }
   ],
   "source": [
    "rnn_model_2.summary()"
   ]
  },
  {
   "cell_type": "code",
   "execution_count": 100,
   "id": "0bd14ab9",
   "metadata": {},
   "outputs": [
    {
     "name": "stdout",
     "output_type": "stream",
     "text": [
      "Train Accuracy: 0.8284\n",
      "Test Accuracy: 0.8428\n"
     ]
    }
   ],
   "source": [
    "# Evaluate the model using the test data and generate predictions\n",
    "train_accuracy = history.history[\"binary_accuracy\"][np.argmin(history.history['val_loss'])]\n",
    "result = rnn_model_2.evaluate(X_test, y_test, verbose=0)\n",
    "#result = rnn_model.evaluate(np.real(X_test.values.reshape(-1, 1000, 1)), y_test, verbose=0)\n",
    "\n",
    "print(f\"Train Accuracy: {train_accuracy:.4f}\")\n",
    "print(f\"Test Accuracy: {result[1]:.4f}\")"
   ]
  },
  {
   "cell_type": "markdown",
   "id": "82076f35",
   "metadata": {},
   "source": [
    "This time our accuracy became slightly better for training, our testing accuracy is still relatively the same. "
   ]
  },
  {
   "cell_type": "code",
   "execution_count": 101,
   "id": "f44bdd3b",
   "metadata": {},
   "outputs": [
    {
     "data": {
      "image/png": "[encoded data removed]",
      "text/plain": [
       "<Figure size 640x480 with 1 Axes>"
      ]
     },
     "metadata": {},
     "output_type": "display_data"
    }
   ],
   "source": [
    "# Plotting accuracy function \n",
    "plt.plot(history.history['binary_accuracy'], marker='o')\n",
    "plt.plot(history.history['val_binary_accuracy'], marker='o')\n",
    "plt.title('Model Accuracy')\n",
    "plt.ylabel('Accuracy')\n",
    "plt.xlabel('Epoch')\n",
    "plt.legend(['Train', 'Validation'])\n",
    "plt.show()"
   ]
  },
  {
   "cell_type": "markdown",
   "id": "e7929582",
   "metadata": {},
   "source": [
    "Looking at the model accuracy we see that other than a massive drop in accuracy during one of the epochs, the model has generally been improving along with the training set. At this moment, it is unknown why this drop appears. "
   ]
  },
  {
   "cell_type": "code",
   "execution_count": 102,
   "id": "4652c195",
   "metadata": {},
   "outputs": [
    {
     "data": {
      "image/png": "[encoded data removed]",
      "text/plain": [
       "<Figure size 640x480 with 1 Axes>"
      ]
     },
     "metadata": {},
     "output_type": "display_data"
    }
   ],
   "source": [
    "# Plotting loss function \n",
    "plt.plot(history.history['loss'], marker='o')\n",
    "plt.plot(history.history['val_loss'], marker='o')\n",
    "plt.title('Model Loss')\n",
    "plt.ylabel('Loss')\n",
    "plt.xlabel('Epoch')\n",
    "#plt.xticks(epochs[:5:1])\n",
    "plt.legend(['Train', 'Validation'])\n",
    "plt.show()"
   ]
  },
  {
   "cell_type": "code",
   "execution_count": 24,
   "id": "2ef7115c",
   "metadata": {},
   "outputs": [
    {
     "name": "stderr",
     "output_type": "stream",
     "text": [
      "2024-04-17 14:14:00.226272: W tensorflow/python/util/util.cc:368] Sets are not currently considered sequences, but this may change in the future, so consider avoiding using them.\n"
     ]
    },
    {
     "name": "stdout",
     "output_type": "stream",
     "text": [
      "INFO:tensorflow:Assets written to: ram://ada5879e-6483-496b-9101-f75ff0bd1119/assets\n"
     ]
    },
    {
     "name": "stderr",
     "output_type": "stream",
     "text": [
      "WARNING:absl:<keras.layers.recurrent.GRUCell object at 0x7fb5f715ed30> has the same name 'GRUCell' as a built-in Keras object. Consider renaming <class 'keras.layers.recurrent.GRUCell'> to avoid naming conflicts when loading with `tf.keras.models.load_model`. If renaming is not possible, pass the object in the `custom_objects` parameter of the load function.\n",
      "WARNING:absl:<keras.layers.recurrent.GRUCell object at 0x7fb5f4940040> has the same name 'GRUCell' as a built-in Keras object. Consider renaming <class 'keras.layers.recurrent.GRUCell'> to avoid naming conflicts when loading with `tf.keras.models.load_model`. If renaming is not possible, pass the object in the `custom_objects` parameter of the load function.\n"
     ]
    },
    {
     "data": {
      "text/plain": [
       "['new_model_2.pkl']"
      ]
     },
     "execution_count": 24,
     "metadata": {},
     "output_type": "execute_result"
    }
   ],
   "source": [
    "joblib.dump(rnn_model_2, 'new_model_2.pkl')"
   ]
  },
  {
   "cell_type": "code",
   "execution_count": 25,
   "id": "8954b154",
   "metadata": {},
   "outputs": [],
   "source": [
    "model = joblib.load('new_model_2.pkl')"
   ]
  },
  {
   "cell_type": "code",
   "execution_count": 43,
   "id": "5136ded1",
   "metadata": {},
   "outputs": [
    {
     "ename": "AttributeError",
     "evalue": "'BatchNormalization' object has no attribute 'save_weights'",
     "output_type": "error",
     "traceback": [
      "\u001b[0;31m---------------------------------------------------------------------------\u001b[0m",
      "\u001b[0;31mAttributeError\u001b[0m                            Traceback (most recent call last)",
      "Cell \u001b[0;32mIn[43], line 2\u001b[0m\n\u001b[1;32m      1\u001b[0m \u001b[38;5;66;03m# Saving weights\u001b[39;00m\n\u001b[0;32m----> 2\u001b[0m \u001b[43mrnn_model_2\u001b[49m\u001b[38;5;241;43m.\u001b[39;49m\u001b[43mlayers\u001b[49m\u001b[43m[\u001b[49m\u001b[38;5;241;43m1\u001b[39;49m\u001b[43m]\u001b[49m\u001b[38;5;241;43m.\u001b[39;49m\u001b[43msave_weights\u001b[49m(\u001b[38;5;124m\"\u001b[39m\u001b[38;5;124mrnn_model_2_weights.h5\u001b[39m\u001b[38;5;124m\"\u001b[39m)\n",
      "\u001b[0;31mAttributeError\u001b[0m: 'BatchNormalization' object has no attribute 'save_weights'"
     ]
    }
   ],
   "source": [
    "# Saving weights\n",
    "rnn_model_2.layers.save_weights(\"rnn_model_2_weights.h5\")"
   ]
  },
  {
   "cell_type": "code",
   "execution_count": 60,
   "id": "653ebb39",
   "metadata": {},
   "outputs": [],
   "source": [
    "rnn_model_3 = keras.Sequential([\n",
    "    # the intermediate recurrent layers should return full sequences\n",
    "    GRU(16, activation='relu', return_sequences=True),\n",
    "    BatchNormalization(),\n",
    "    Dropout(0.15),\n",
    "\n",
    "    # the last recurrent layer only returns the final output\n",
    "    GRU(16, activation='relu', return_sequences=False),\n",
    "    BatchNormalization(),\n",
    "    Dropout(0.15),\n",
    "\n",
    "    # output layer\n",
    "    Dense(16, activation='relu'),\n",
    "    BatchNormalization(),\n",
    "    Dropout(0.15),\n",
    "    Dense(1, activation='sigmoid')],\n",
    ")\n",
    "\n",
    "rnn_model_3.build(input_shape=(None, 1000, 1))"
   ]
  },
  {
   "cell_type": "code",
   "execution_count": 61,
   "id": "2cadca1e",
   "metadata": {},
   "outputs": [
    {
     "name": "stdout",
     "output_type": "stream",
     "text": [
      "Model: \"sequential_9\"\n",
      "_________________________________________________________________\n",
      " Layer (type)                Output Shape              Param #   \n",
      "=================================================================\n",
      " gru_18 (GRU)                (None, 1000, 16)          912       \n",
      "                                                                 \n",
      " batch_normalization_27 (Bat  (None, 1000, 16)         64        \n",
      " chNormalization)                                                \n",
      "                                                                 \n",
      " dropout_27 (Dropout)        (None, 1000, 16)          0         \n",
      "                                                                 \n",
      " gru_19 (GRU)                (None, 16)                1632      \n",
      "                                                                 \n",
      " batch_normalization_28 (Bat  (None, 16)               64        \n",
      " chNormalization)                                                \n",
      "                                                                 \n",
      " dropout_28 (Dropout)        (None, 16)                0         \n",
      "                                                                 \n",
      " dense_18 (Dense)            (None, 16)                272       \n",
      "                                                                 \n",
      " batch_normalization_29 (Bat  (None, 16)               64        \n",
      " chNormalization)                                                \n",
      "                                                                 \n",
      " dropout_29 (Dropout)        (None, 16)                0         \n",
      "                                                                 \n",
      " dense_19 (Dense)            (None, 1)                 17        \n",
      "                                                                 \n",
      "=================================================================\n",
      "Total params: 3,025\n",
      "Trainable params: 2,929\n",
      "Non-trainable params: 96\n",
      "_________________________________________________________________\n"
     ]
    }
   ],
   "source": [
    "rnn_model_3.summary()"
   ]
  },
  {
   "cell_type": "code",
   "execution_count": 62,
   "id": "d746abee",
   "metadata": {},
   "outputs": [],
   "source": [
    "rnn_model_3.load_weights(\"../Streamlit/rnn_model_2_weights.h5\")"
   ]
  },
  {
   "cell_type": "code",
   "execution_count": 63,
   "id": "f0cab77d",
   "metadata": {},
   "outputs": [
    {
     "name": "stdout",
     "output_type": "stream",
     "text": [
      "Model: \"sequential_1\"\n",
      "_________________________________________________________________\n",
      " Layer (type)                Output Shape              Param #   \n",
      "=================================================================\n",
      " gru_2 (GRU)                 (None, 1000, 16)          912       \n",
      "                                                                 \n",
      " batch_normalization_3 (Batc  (None, 1000, 16)         64        \n",
      " hNormalization)                                                 \n",
      "                                                                 \n",
      " dropout_3 (Dropout)         (None, 1000, 16)          0         \n",
      "                                                                 \n",
      " gru_3 (GRU)                 (None, 16)                1632      \n",
      "                                                                 \n",
      " batch_normalization_4 (Batc  (None, 16)               64        \n",
      " hNormalization)                                                 \n",
      "                                                                 \n",
      " dropout_4 (Dropout)         (None, 16)                0         \n",
      "                                                                 \n",
      " dense_2 (Dense)             (None, 16)                272       \n",
      "                                                                 \n",
      " batch_normalization_5 (Batc  (None, 16)               64        \n",
      " hNormalization)                                                 \n",
      "                                                                 \n",
      " dropout_5 (Dropout)         (None, 16)                0         \n",
      "                                                                 \n",
      " dense_3 (Dense)             (None, 1)                 17        \n",
      "                                                                 \n",
      "=================================================================\n",
      "Total params: 3,025\n",
      "Trainable params: 2,929\n",
      "Non-trainable params: 96\n",
      "_________________________________________________________________\n"
     ]
    }
   ],
   "source": [
    "rnn_model_2.summary()"
   ]
  },
  {
   "cell_type": "code",
   "execution_count": 64,
   "id": "2b3b2e79",
   "metadata": {},
   "outputs": [
    {
     "name": "stdout",
     "output_type": "stream",
     "text": [
      "Model: \"sequential_9\"\n",
      "_________________________________________________________________\n",
      " Layer (type)                Output Shape              Param #   \n",
      "=================================================================\n",
      " gru_18 (GRU)                (None, 1000, 16)          912       \n",
      "                                                                 \n",
      " batch_normalization_27 (Bat  (None, 1000, 16)         64        \n",
      " chNormalization)                                                \n",
      "                                                                 \n",
      " dropout_27 (Dropout)        (None, 1000, 16)          0         \n",
      "                                                                 \n",
      " gru_19 (GRU)                (None, 16)                1632      \n",
      "                                                                 \n",
      " batch_normalization_28 (Bat  (None, 16)               64        \n",
      " chNormalization)                                                \n",
      "                                                                 \n",
      " dropout_28 (Dropout)        (None, 16)                0         \n",
      "                                                                 \n",
      " dense_18 (Dense)            (None, 16)                272       \n",
      "                                                                 \n",
      " batch_normalization_29 (Bat  (None, 16)               64        \n",
      " chNormalization)                                                \n",
      "                                                                 \n",
      " dropout_29 (Dropout)        (None, 16)                0         \n",
      "                                                                 \n",
      " dense_19 (Dense)            (None, 1)                 17        \n",
      "                                                                 \n",
      "=================================================================\n",
      "Total params: 3,025\n",
      "Trainable params: 2,929\n",
      "Non-trainable params: 96\n",
      "_________________________________________________________________\n"
     ]
    }
   ],
   "source": [
    "rnn_model_3.summary()"
   ]
  },
  {
   "cell_type": "code",
   "execution_count": 26,
   "id": "637559f7",
   "metadata": {
    "collapsed": true
   },
   "outputs": [
    {
     "ename": "NameError",
     "evalue": "name 'signals' is not defined",
     "output_type": "error",
     "traceback": [
      "\u001b[0;31m---------------------------------------------------------------------------\u001b[0m",
      "\u001b[0;31mNameError\u001b[0m                                 Traceback (most recent call last)",
      "Cell \u001b[0;32mIn[26], line 1\u001b[0m\n\u001b[0;32m----> 1\u001b[0m prediction \u001b[38;5;241m=\u001b[39m model\u001b[38;5;241m.\u001b[39mpredict(\u001b[43msignals\u001b[49m\u001b[38;5;241m.\u001b[39mreshape(\u001b[38;5;241m-\u001b[39m\u001b[38;5;241m1\u001b[39m, \u001b[38;5;241m1000\u001b[39m, \u001b[38;5;241m1\u001b[39m)\u001b[38;5;241m.\u001b[39mastype(\u001b[38;5;124m\"\u001b[39m\u001b[38;5;124mfloat\u001b[39m\u001b[38;5;124m\"\u001b[39m))\n\u001b[1;32m      2\u001b[0m prediction\n",
      "\u001b[0;31mNameError\u001b[0m: name 'signals' is not defined"
     ]
    }
   ],
   "source": [
    "prediction = model.predict(signals.reshape(-1, 1000, 1).astype(\"float\"))\n",
    "prediction"
   ]
  },
  {
   "cell_type": "markdown",
   "id": "3d41bb98",
   "metadata": {},
   "source": [
    "Again showing the major increase in validation score, it is still unknown where this comes from. However, in other areas of the graph, there has been steady improvements in the loss. \n",
    "\n",
    "Below we actually document a few more models that were ran that got overwritten by other code. We keep track of the activation functions used, loss, learning rate, and training and testing accuracy. \n",
    "\n",
    "| Model | Activation             | Loss | LR    | Train Accuracy | Test Accuracy | AUC | File   |\n",
    "|-------|------------------------|------|-------|----------------|---------------|-----|--------|\n",
    "| 1     | relu, softmax          | SCCE | 0.01  | 80.58          | 80.10         | 90  | model  |\n",
    "| 2     | relu, sigmoid, softmax | SCCE | 0.01  | 71.29          | 74.90         | --- | ------ | \n",
    "| 3     | relu, sigmoid          | SCCE | 0.005 | 81.24          | 82.53         | 70  | model2 |\n",
    "| 4     | relu, sigmoid          | BCE  | 0.005 | 82.01          | 80.74         | 88  | model3 |\n",
    "\n",
    "Next, looking into the confusion matrix."
   ]
  },
  {
   "cell_type": "code",
   "execution_count": 50,
   "id": "11106cea",
   "metadata": {},
   "outputs": [
    {
     "data": {
      "text/html": [
       "<div>\n",
       "<style scoped>\n",
       "    .dataframe tbody tr th:only-of-type {\n",
       "        vertical-align: middle;\n",
       "    }\n",
       "\n",
       "    .dataframe tbody tr th {\n",
       "        vertical-align: top;\n",
       "    }\n",
       "\n",
       "    .dataframe thead th {\n",
       "        text-align: right;\n",
       "    }\n",
       "</style>\n",
       "<table border=\"1\" class=\"dataframe\">\n",
       "  <thead>\n",
       "    <tr style=\"text-align: right;\">\n",
       "      <th></th>\n",
       "      <th>Predicted Abnormal</th>\n",
       "      <th>Predicted Normal</th>\n",
       "    </tr>\n",
       "  </thead>\n",
       "  <tbody>\n",
       "    <tr>\n",
       "      <th>True Abnormal</th>\n",
       "      <td>1392</td>\n",
       "      <td>337</td>\n",
       "    </tr>\n",
       "    <tr>\n",
       "      <th>True Normal</th>\n",
       "      <td>267</td>\n",
       "      <td>1140</td>\n",
       "    </tr>\n",
       "  </tbody>\n",
       "</table>\n",
       "</div>"
      ],
      "text/plain": [
       "               Predicted Abnormal  Predicted Normal\n",
       "True Abnormal                1392               337\n",
       "True Normal                   267              1140"
      ]
     },
     "metadata": {},
     "output_type": "display_data"
    }
   ],
   "source": [
    "# Calculate the predicted labels for each test image.\n",
    "predict_probas = rnn_model_2.predict(X_test)\n",
    "binary_array = (predict_probas > 0.5).astype(int).reshape(-1) # Binary classification requires only has 1 output\n",
    "\n",
    "# Generate confusion matrix\n",
    "cf_matrix = confusion_matrix(y_test, binary_array)\n",
    "\n",
    "# label rows and columns\n",
    "cf_df = pd.DataFrame(\n",
    "    cf_matrix, \n",
    "    columns=[\"Predicted Abnormal\", \"Predicted Normal\"],\n",
    "    index=[\"True Abnormal\", \"True Normal\"]\n",
    ")\n",
    "\n",
    "display(cf_df)"
   ]
  },
  {
   "cell_type": "code",
   "execution_count": 52,
   "id": "f6c5d45c",
   "metadata": {
    "scrolled": false
   },
   "outputs": [
    {
     "data": {
      "image/png": "[encoded data removed]",
      "text/plain": [
       "<Figure size 700x500 with 2 Axes>"
      ]
     },
     "metadata": {},
     "output_type": "display_data"
    }
   ],
   "source": [
    "plt.figure(figsize=(7,5))\n",
    "sns.heatmap(cf_matrix,\n",
    "            annot=True,\n",
    "            cbar=True,\n",
    "            cmap=\"viridis\",\n",
    "            linewidths=1,\n",
    "            fmt='d'\n",
    ")\n",
    "plt.title('Confusion Matrix', size=15)\n",
    "plt.xlabel(\"Predicted Label\", size=12)\n",
    "plt.ylabel(\"True Label\", size=12)\n",
    "plt.show()"
   ]
  },
  {
   "cell_type": "code",
   "execution_count": 93,
   "id": "698cc9e4",
   "metadata": {
    "scrolled": false
   },
   "outputs": [
    {
     "name": "stdout",
     "output_type": "stream",
     "text": [
      "              precision    recall  f1-score   support\n",
      "\n",
      "           0       0.76      0.92      0.84      1729\n",
      "           1       0.87      0.65      0.75      1407\n",
      "\n",
      "    accuracy                           0.80      3136\n",
      "   macro avg       0.82      0.79      0.79      3136\n",
      "weighted avg       0.81      0.80      0.80      3136\n",
      "\n"
     ]
    }
   ],
   "source": [
    "from sklearn.metrics import classification_report\n",
    "cr = classification_report(y_test, binary_array)\n",
    "print(cr)"
   ]
  },
  {
   "cell_type": "markdown",
   "id": "c367f4d2",
   "metadata": {},
   "source": [
    "Looking at our confusion matrix and classification report above, we see incredibly high scores for recall on the abnormal samples. Again this is great for us as we want our model to be sensitive of these smallest possibility for having an abnormal ECG. Test accuracy scores remain the same, suggesting that we can choose between models depending on our preference."
   ]
  },
  {
   "cell_type": "code",
   "execution_count": 97,
   "id": "3ba2bd56",
   "metadata": {},
   "outputs": [
    {
     "data": {
      "image/png": "[encoded data removed]",
      "text/plain": [
       "<Figure size 640x480 with 1 Axes>"
      ]
     },
     "metadata": {},
     "output_type": "display_data"
    },
    {
     "name": "stdout",
     "output_type": "stream",
     "text": [
      "Area under curve (AUC):0.9136454388390198\n",
      "\n"
     ]
    }
   ],
   "source": [
    "from sklearn.metrics import roc_curve, roc_auc_score\n",
    "\n",
    "fprs, tprs, thresholds = roc_curve(y_test, predict_probas[:, 0])\n",
    "roc_auc = roc_auc_score(y_test, predict_probas[:, 0])\n",
    "\n",
    "plt.figure()\n",
    "plt.plot(fprs, tprs, color='darkorange',\n",
    "         lw=2, label='AUC = %0.2f' % roc_auc)\n",
    "plt.plot([0, 1], [0, 1], color='navy', lw=2, linestyle='--')\n",
    "plt.xlabel('False Positive Rate (FPR)')\n",
    "plt.ylabel('True Positive Rate (TPR)')\n",
    "plt.title('ROC Curve for ECG Rhythm Prediction Using RNN')\n",
    "plt.legend(loc=\"best\")\n",
    "plt.savefig('roc_curve.jpg')\n",
    "plt.show()\n",
    "\n",
    "print(f'Area under curve (AUC):{roc_auc}')\n",
    "print()"
   ]
  },
  {
   "cell_type": "markdown",
   "id": "924ee6e1",
   "metadata": {},
   "source": [
    "AUC scores are also really high, giving us confidence that we can classify signals correctly. \n",
    "\n",
    "Let's save this model as well."
   ]
  },
  {
   "cell_type": "code",
   "execution_count": 59,
   "id": "7b4686ba",
   "metadata": {},
   "outputs": [
    {
     "name": "stderr",
     "output_type": "stream",
     "text": [
      "2024-04-13 21:59:21.864869: W tensorflow/python/util/util.cc:368] Sets are not currently considered sequences, but this may change in the future, so consider avoiding using them.\n"
     ]
    },
    {
     "name": "stdout",
     "output_type": "stream",
     "text": [
      "INFO:tensorflow:Assets written to: ram://33f18296-d1c6-4f32-9fdf-35d2127231de/assets\n"
     ]
    },
    {
     "name": "stderr",
     "output_type": "stream",
     "text": [
      "WARNING:absl:<keras.layers.recurrent.GRUCell object at 0x7fcac8db0490> has the same name 'GRUCell' as a built-in Keras object. Consider renaming <class 'keras.layers.recurrent.GRUCell'> to avoid naming conflicts when loading with `tf.keras.models.load_model`. If renaming is not possible, pass the object in the `custom_objects` parameter of the load function.\n",
      "WARNING:absl:<keras.layers.recurrent.GRUCell object at 0x7fcac8db0fd0> has the same name 'GRUCell' as a built-in Keras object. Consider renaming <class 'keras.layers.recurrent.GRUCell'> to avoid naming conflicts when loading with `tf.keras.models.load_model`. If renaming is not possible, pass the object in the `custom_objects` parameter of the load function.\n"
     ]
    }
   ],
   "source": [
    "with open('rnn_binary3.pkl', 'wb') as file:\n",
    "    pickle.dump(rnn_model_2, file)"
   ]
  },
  {
   "cell_type": "markdown",
   "id": "3b5f17fe",
   "metadata": {},
   "source": [
    "<a id='gridsearch'></a>\n",
    "### Using GridSearchCV\n",
    "\n",
    "Now we attempt to perform a gridsearch. Below we use a gridsearch to try to look for the best performing model parameters. We utilize another package known as `scikeras`. "
   ]
  },
  {
   "cell_type": "code",
   "execution_count": 16,
   "id": "8c2a17c9",
   "metadata": {},
   "outputs": [],
   "source": [
    "from sklearn.model_selection import GridSearchCV\n",
    "from scikeras.wrappers import KerasClassifier\n",
    "\n",
    "# Setting random seed for reproducibility\n",
    "tf.random.set_seed(42)"
   ]
  },
  {
   "cell_type": "markdown",
   "id": "591445b3",
   "metadata": {},
   "source": [
    "`scikeras` has a specific format for using `GridSearchCV` with, we will follow the guide outlined [here](https://machinelearningmastery.com/grid-search-hyperparameters-deep-learning-models-python-keras/) for different parameter optimizations. First we need to create a function that creates our neural network when called upon. "
   ]
  },
  {
   "cell_type": "code",
   "execution_count": 73,
   "id": "7ddef182",
   "metadata": {},
   "outputs": [],
   "source": [
    "def create_model():\n",
    "    \n",
    "    # Create model\n",
    "    model = keras.Sequential()\n",
    "    # the intermediate recurrent layers should return full sequences\n",
    "    model.add(GRU(16, activation='relu', input_shape=(1000, 1), return_sequences=True))\n",
    "    model.add(BatchNormalization())\n",
    "    model.add(Dropout(0.15))\n",
    "\n",
    "    # the last recurrent layer only returns the final output\n",
    "    model.add(GRU(16, activation='relu', return_sequences=False))\n",
    "    model.add(BatchNormalization())\n",
    "    model.add(Dropout(0.15))\n",
    "\n",
    "    # output layer\n",
    "    model.add(Dense(16, activation='relu'))\n",
    "    model.add(BatchNormalization())\n",
    "    model.add(Dropout(0.15))\n",
    "    model.add(Dense(1, activation='sigmoid'))\n",
    "\n",
    "    # Compile model\n",
    "    model.compile(\n",
    "    # Optimizer\n",
    "    optimizer=keras.optimizers.Adam(learning_rate=0.005),  # learning rate can be adjusted here\n",
    "    # Loss function to minimize\n",
    "    loss=keras.losses.BinaryCrossentropy(),\n",
    "    # Metric used to evaluate model\n",
    "    metrics=[keras.metrics.BinaryAccuracy()]\n",
    "    )\n",
    "    \n",
    "    return model"
   ]
  },
  {
   "cell_type": "markdown",
   "id": "16cd5ced",
   "metadata": {},
   "source": [
    "We set our callback requirements and parameter grid. "
   ]
  },
  {
   "cell_type": "code",
   "execution_count": 74,
   "id": "45681bd0",
   "metadata": {},
   "outputs": [],
   "source": [
    "# Set callbacks\n",
    "callbacks = keras.callbacks.EarlyStopping(monitor='val_loss', \n",
    "                                          verbose=1, \n",
    "                                          restore_best_weights=True,\n",
    "                                          patience=3\n",
    ")\n",
    "\n",
    "# Set our parameter grid with different batch sizes, epochs and learning rate\n",
    "param_grid = dict(batch_size=[32, 64, 128], \n",
    "                  epochs=[10, 25], \n",
    "                  optimizer__learning_rate=[0.001, 0.005, 0.01])\n",
    "\n",
    "# Create an instance of the KerasClassifier to be used in GridSearchCV\n",
    "models = KerasClassifier(model=create_model, validation_split=0.1)"
   ]
  },
  {
   "cell_type": "markdown",
   "id": "17020b50",
   "metadata": {},
   "source": [
    "Next, we initialize the grid itself and fit it to our training data. "
   ]
  },
  {
   "cell_type": "code",
   "execution_count": 75,
   "id": "bd84d855",
   "metadata": {
    "scrolled": true
   },
   "outputs": [
    {
     "name": "stdout",
     "output_type": "stream",
     "text": [
      "Epoch 1/10\n",
      "236/236 [==============================] - 128s 525ms/step - loss: 0.7327 - binary_accuracy: 0.5279 - val_loss: 0.6937 - val_binary_accuracy: 0.5371\n",
      "Epoch 2/10\n",
      "236/236 [==============================] - 126s 536ms/step - loss: 0.6563 - binary_accuracy: 0.5805 - val_loss: 0.6641 - val_binary_accuracy: 0.5526\n",
      "Epoch 3/10\n",
      "236/236 [==============================] - 123s 521ms/step - loss: 0.6235 - binary_accuracy: 0.6091 - val_loss: 0.6314 - val_binary_accuracy: 0.5789\n",
      "Epoch 4/10\n",
      "236/236 [==============================] - 125s 529ms/step - loss: 0.5281 - binary_accuracy: 0.7341 - val_loss: 0.5885 - val_binary_accuracy: 0.7117\n",
      "Epoch 5/10\n",
      "236/236 [==============================] - 121s 513ms/step - loss: 0.4675 - binary_accuracy: 0.7790 - val_loss: 0.5738 - val_binary_accuracy: 0.7344\n",
      "Epoch 6/10\n",
      "236/236 [==============================] - 124s 524ms/step - loss: 0.4520 - binary_accuracy: 0.7852 - val_loss: 0.8515 - val_binary_accuracy: 0.6495\n",
      "Epoch 7/10\n",
      "236/236 [==============================] - 122s 518ms/step - loss: 0.4503 - binary_accuracy: 0.7944 - val_loss: 0.4338 - val_binary_accuracy: 0.7907\n",
      "Epoch 8/10\n",
      "236/236 [==============================] - 128s 542ms/step - loss: 0.4292 - binary_accuracy: 0.8052 - val_loss: 0.5087 - val_binary_accuracy: 0.7356\n",
      "Epoch 9/10\n",
      "236/236 [==============================] - 124s 527ms/step - loss: 0.4208 - binary_accuracy: 0.8161 - val_loss: 0.5270 - val_binary_accuracy: 0.7273\n",
      "Epoch 10/10\n",
      "236/236 [==============================] - 120s 509ms/step - loss: 0.4193 - binary_accuracy: 0.8107 - val_loss: 0.4168 - val_binary_accuracy: 0.8134\n",
      "131/131 [==============================] - 11s 84ms/step\n",
      "Epoch 1/10\n",
      "236/236 [==============================] - 124s 515ms/step - loss: 0.7241 - binary_accuracy: 0.5335 - val_loss: 0.6988 - val_binary_accuracy: 0.5352\n",
      "Epoch 2/10\n",
      "236/236 [==============================] - 124s 526ms/step - loss: 0.6906 - binary_accuracy: 0.5509 - val_loss: 0.6879 - val_binary_accuracy: 0.5269\n",
      "Epoch 3/10\n",
      "236/236 [==============================] - 126s 533ms/step - loss: 0.6237 - binary_accuracy: 0.6361 - val_loss: 0.5862 - val_binary_accuracy: 0.7025\n",
      "Epoch 4/10\n",
      "236/236 [==============================] - 124s 526ms/step - loss: 0.5109 - binary_accuracy: 0.7509 - val_loss: 0.8985 - val_binary_accuracy: 0.5066\n",
      "Epoch 5/10\n",
      "236/236 [==============================] - 125s 530ms/step - loss: 0.4785 - binary_accuracy: 0.7770 - val_loss: 0.5718 - val_binary_accuracy: 0.7288\n",
      "Epoch 6/10\n",
      "236/236 [==============================] - 126s 532ms/step - loss: 0.4460 - binary_accuracy: 0.8037 - val_loss: 1.3407 - val_binary_accuracy: 0.5341\n",
      "Epoch 7/10\n",
      "236/236 [==============================] - 125s 531ms/step - loss: 0.4375 - binary_accuracy: 0.8009 - val_loss: 0.6027 - val_binary_accuracy: 0.7503\n",
      "Epoch 8/10\n",
      "236/236 [==============================] - 122s 516ms/step - loss: 0.4293 - binary_accuracy: 0.8053 - val_loss: 0.5143 - val_binary_accuracy: 0.7766\n",
      "Epoch 9/10\n",
      "236/236 [==============================] - 122s 515ms/step - loss: 0.4162 - binary_accuracy: 0.8155 - val_loss: 0.6041 - val_binary_accuracy: 0.7539\n",
      "Epoch 10/10\n",
      "236/236 [==============================] - 124s 527ms/step - loss: 0.4115 - binary_accuracy: 0.8145 - val_loss: 0.5181 - val_binary_accuracy: 0.7766\n",
      "131/131 [==============================] - 11s 85ms/step\n",
      "Epoch 1/10\n",
      "236/236 [==============================] - 124s 515ms/step - loss: 0.7027 - binary_accuracy: 0.5400 - val_loss: 0.6827 - val_binary_accuracy: 0.5735\n",
      "Epoch 2/10\n",
      "236/236 [==============================] - 123s 522ms/step - loss: 0.6421 - binary_accuracy: 0.6144 - val_loss: 0.6623 - val_binary_accuracy: 0.6165\n",
      "Epoch 3/10\n",
      "236/236 [==============================] - 126s 534ms/step - loss: 0.5411 - binary_accuracy: 0.7301 - val_loss: 1.7433 - val_binary_accuracy: 0.5735\n",
      "Epoch 4/10\n",
      "236/236 [==============================] - 135s 571ms/step - loss: 0.4801 - binary_accuracy: 0.7784 - val_loss: 0.4515 - val_binary_accuracy: 0.8005\n",
      "Epoch 5/10\n",
      "236/236 [==============================] - 124s 523ms/step - loss: 0.4614 - binary_accuracy: 0.7881 - val_loss: 0.5093 - val_binary_accuracy: 0.7670\n",
      "Epoch 6/10\n",
      "236/236 [==============================] - 128s 544ms/step - loss: 0.4454 - binary_accuracy: 0.7976 - val_loss: 0.8383 - val_binary_accuracy: 0.5974\n",
      "Epoch 7/10\n",
      "236/236 [==============================] - 123s 523ms/step - loss: 0.4335 - binary_accuracy: 0.8014 - val_loss: 0.4168 - val_binary_accuracy: 0.8088\n",
      "Epoch 8/10\n",
      "236/236 [==============================] - 125s 530ms/step - loss: 0.4242 - binary_accuracy: 0.8125 - val_loss: 0.7519 - val_binary_accuracy: 0.6057\n",
      "Epoch 9/10\n",
      "236/236 [==============================] - 122s 516ms/step - loss: 0.4134 - binary_accuracy: 0.8178 - val_loss: 0.6882 - val_binary_accuracy: 0.6703\n",
      "Epoch 10/10\n",
      "236/236 [==============================] - 126s 533ms/step - loss: 0.4135 - binary_accuracy: 0.8154 - val_loss: 0.4807 - val_binary_accuracy: 0.7599\n",
      "131/131 [==============================] - 12s 86ms/step\n",
      "Epoch 1/10\n",
      "236/236 [==============================] - 128s 536ms/step - loss: 0.7209 - binary_accuracy: 0.5355 - val_loss: 0.6940 - val_binary_accuracy: 0.5359\n",
      "Epoch 2/10\n",
      "236/236 [==============================] - 125s 532ms/step - loss: 0.6791 - binary_accuracy: 0.5647 - val_loss: 0.7068 - val_binary_accuracy: 0.4725\n",
      "Epoch 3/10\n",
      "236/236 [==============================] - 125s 532ms/step - loss: 0.5434 - binary_accuracy: 0.7212 - val_loss: 0.6620 - val_binary_accuracy: 0.6746\n",
      "Epoch 4/10\n",
      "236/236 [==============================] - 122s 518ms/step - loss: 0.4684 - binary_accuracy: 0.7800 - val_loss: 0.6295 - val_binary_accuracy: 0.7667\n",
      "Epoch 5/10\n",
      "236/236 [==============================] - 124s 527ms/step - loss: 0.4574 - binary_accuracy: 0.7908 - val_loss: 0.5145 - val_binary_accuracy: 0.7883\n",
      "Epoch 6/10\n",
      "236/236 [==============================] - 128s 541ms/step - loss: 0.6315 - binary_accuracy: 0.6147 - val_loss: 0.7301 - val_binary_accuracy: 0.5347\n",
      "Epoch 7/10\n",
      "236/236 [==============================] - 125s 530ms/step - loss: 0.6549 - binary_accuracy: 0.5856 - val_loss: 0.6633 - val_binary_accuracy: 0.5443\n",
      "Epoch 8/10\n",
      "236/236 [==============================] - 126s 532ms/step - loss: 0.6213 - binary_accuracy: 0.6411 - val_loss: 0.6909 - val_binary_accuracy: 0.5371\n",
      "Epoch 9/10\n",
      "236/236 [==============================] - 124s 526ms/step - loss: 0.5692 - binary_accuracy: 0.7012 - val_loss: 0.8904 - val_binary_accuracy: 0.5359\n",
      "Epoch 10/10\n",
      "236/236 [==============================] - 127s 539ms/step - loss: 0.5498 - binary_accuracy: 0.7108 - val_loss: 0.5183 - val_binary_accuracy: 0.7368\n",
      "131/131 [==============================] - 13s 94ms/step\n",
      "Epoch 1/10\n",
      "236/236 [==============================] - 124s 516ms/step - loss: 0.7208 - binary_accuracy: 0.5387 - val_loss: 0.6979 - val_binary_accuracy: 0.5352\n",
      "Epoch 2/10\n",
      "236/236 [==============================] - 124s 526ms/step - loss: 0.6898 - binary_accuracy: 0.5528 - val_loss: 0.6908 - val_binary_accuracy: 0.5293\n",
      "Epoch 3/10\n",
      "236/236 [==============================] - 121s 514ms/step - loss: 0.6842 - binary_accuracy: 0.5533 - val_loss: 0.6770 - val_binary_accuracy: 0.5520\n",
      "Epoch 4/10\n",
      "236/236 [==============================] - 121s 511ms/step - loss: 0.6256 - binary_accuracy: 0.6313 - val_loss: 0.6912 - val_binary_accuracy: 0.6416\n",
      "Epoch 5/10\n",
      "236/236 [==============================] - 119s 504ms/step - loss: 0.6403 - binary_accuracy: 0.6140 - val_loss: 0.7534 - val_binary_accuracy: 0.5364\n",
      "Epoch 6/10\n",
      "236/236 [==============================] - 123s 520ms/step - loss: 0.6525 - binary_accuracy: 0.5934 - val_loss: 0.6590 - val_binary_accuracy: 0.5460\n",
      "Epoch 7/10\n",
      "236/236 [==============================] - 119s 506ms/step - loss: 0.6112 - binary_accuracy: 0.6462 - val_loss: 0.6016 - val_binary_accuracy: 0.6810\n",
      "Epoch 8/10\n",
      "236/236 [==============================] - 121s 514ms/step - loss: 0.5201 - binary_accuracy: 0.7453 - val_loss: 0.7462 - val_binary_accuracy: 0.6332\n",
      "Epoch 9/10\n",
      "236/236 [==============================] - 121s 515ms/step - loss: 0.4831 - binary_accuracy: 0.7681 - val_loss: 0.6788 - val_binary_accuracy: 0.6786\n",
      "Epoch 10/10\n",
      "236/236 [==============================] - 121s 512ms/step - loss: 0.4619 - binary_accuracy: 0.7895 - val_loss: 0.6095 - val_binary_accuracy: 0.6726\n"
     ]
    },
    {
     "name": "stdout",
     "output_type": "stream",
     "text": [
      "131/131 [==============================] - 12s 86ms/step\n",
      "Epoch 1/10\n",
      "236/236 [==============================] - 126s 526ms/step - loss: 0.7080 - binary_accuracy: 0.5416 - val_loss: 0.6793 - val_binary_accuracy: 0.5663\n",
      "Epoch 2/10\n",
      "236/236 [==============================] - 122s 518ms/step - loss: 0.5670 - binary_accuracy: 0.7031 - val_loss: 2.3194 - val_binary_accuracy: 0.4265\n",
      "Epoch 3/10\n",
      "236/236 [==============================] - 120s 509ms/step - loss: 0.4752 - binary_accuracy: 0.7751 - val_loss: 0.8977 - val_binary_accuracy: 0.6081\n",
      "Epoch 4/10\n",
      "236/236 [==============================] - 120s 510ms/step - loss: 0.4522 - binary_accuracy: 0.7925 - val_loss: 0.6120 - val_binary_accuracy: 0.7037\n",
      "Epoch 5/10\n",
      "236/236 [==============================] - 121s 513ms/step - loss: 0.4380 - binary_accuracy: 0.7977 - val_loss: 0.5398 - val_binary_accuracy: 0.6977\n",
      "Epoch 6/10\n",
      "236/236 [==============================] - 120s 509ms/step - loss: 0.4242 - binary_accuracy: 0.8107 - val_loss: 0.5075 - val_binary_accuracy: 0.7384\n",
      "Epoch 7/10\n",
      "236/236 [==============================] - 119s 504ms/step - loss: 0.4191 - binary_accuracy: 0.8073 - val_loss: 0.4887 - val_binary_accuracy: 0.7670\n",
      "Epoch 8/10\n",
      "236/236 [==============================] - 118s 500ms/step - loss: 0.4118 - binary_accuracy: 0.8161 - val_loss: 0.4578 - val_binary_accuracy: 0.7778\n",
      "Epoch 9/10\n",
      "236/236 [==============================] - 117s 497ms/step - loss: 0.4129 - binary_accuracy: 0.8110 - val_loss: 0.4763 - val_binary_accuracy: 0.7933\n",
      "Epoch 10/10\n",
      "236/236 [==============================] - 118s 499ms/step - loss: 0.4128 - binary_accuracy: 0.8171 - val_loss: 0.4073 - val_binary_accuracy: 0.8196\n",
      "131/131 [==============================] - 11s 82ms/step\n",
      "Epoch 1/10\n",
      "236/236 [==============================] - 117s 489ms/step - loss: 0.7144 - binary_accuracy: 0.5304 - val_loss: 0.6911 - val_binary_accuracy: 0.5371\n",
      "Epoch 2/10\n",
      "236/236 [==============================] - 114s 485ms/step - loss: 0.6567 - binary_accuracy: 0.5805 - val_loss: 0.6549 - val_binary_accuracy: 0.5455\n",
      "Epoch 3/10\n",
      "236/236 [==============================] - 115s 489ms/step - loss: 0.6263 - binary_accuracy: 0.6257 - val_loss: 0.6727 - val_binary_accuracy: 0.6268\n",
      "Epoch 4/10\n",
      "236/236 [==============================] - 115s 489ms/step - loss: 0.6103 - binary_accuracy: 0.6474 - val_loss: 0.7572 - val_binary_accuracy: 0.5371\n",
      "Epoch 5/10\n",
      "236/236 [==============================] - 115s 488ms/step - loss: 0.5144 - binary_accuracy: 0.7477 - val_loss: 0.5464 - val_binary_accuracy: 0.7165\n",
      "Epoch 6/10\n",
      "236/236 [==============================] - 115s 485ms/step - loss: 0.4801 - binary_accuracy: 0.7764 - val_loss: 0.5248 - val_binary_accuracy: 0.7644\n",
      "Epoch 7/10\n",
      "236/236 [==============================] - 115s 489ms/step - loss: 0.4586 - binary_accuracy: 0.7956 - val_loss: 0.4814 - val_binary_accuracy: 0.7751\n",
      "Epoch 8/10\n",
      "236/236 [==============================] - 115s 485ms/step - loss: 0.4332 - binary_accuracy: 0.8082 - val_loss: 0.4438 - val_binary_accuracy: 0.8002\n",
      "Epoch 9/10\n",
      "236/236 [==============================] - 115s 486ms/step - loss: 0.4238 - binary_accuracy: 0.8135 - val_loss: 0.4649 - val_binary_accuracy: 0.7811\n",
      "Epoch 10/10\n",
      "236/236 [==============================] - 116s 491ms/step - loss: 0.4172 - binary_accuracy: 0.8145 - val_loss: 0.3903 - val_binary_accuracy: 0.8301\n",
      "131/131 [==============================] - 11s 83ms/step\n",
      "Epoch 1/10\n",
      "236/236 [==============================] - 118s 489ms/step - loss: 0.7121 - binary_accuracy: 0.5344 - val_loss: 0.6949 - val_binary_accuracy: 0.5364\n",
      "Epoch 2/10\n",
      "236/236 [==============================] - 116s 490ms/step - loss: 0.6809 - binary_accuracy: 0.5611 - val_loss: 0.6618 - val_binary_accuracy: 0.5400\n",
      "Epoch 3/10\n",
      "236/236 [==============================] - 116s 491ms/step - loss: 0.6317 - binary_accuracy: 0.6212 - val_loss: 0.5820 - val_binary_accuracy: 0.7204\n",
      "Epoch 4/10\n",
      "236/236 [==============================] - 115s 489ms/step - loss: 0.4922 - binary_accuracy: 0.7725 - val_loss: 0.5729 - val_binary_accuracy: 0.6941\n",
      "Epoch 5/10\n",
      "236/236 [==============================] - 116s 491ms/step - loss: 0.4589 - binary_accuracy: 0.7885 - val_loss: 0.4728 - val_binary_accuracy: 0.7670\n",
      "Epoch 6/10\n",
      "236/236 [==============================] - 116s 490ms/step - loss: 0.4331 - binary_accuracy: 0.8075 - val_loss: 0.4859 - val_binary_accuracy: 0.7814\n",
      "Epoch 7/10\n",
      "236/236 [==============================] - 116s 490ms/step - loss: 0.4254 - binary_accuracy: 0.8126 - val_loss: 0.4509 - val_binary_accuracy: 0.7838\n",
      "Epoch 8/10\n",
      "236/236 [==============================] - 115s 489ms/step - loss: 0.4125 - binary_accuracy: 0.8146 - val_loss: 0.4102 - val_binary_accuracy: 0.8112\n",
      "Epoch 9/10\n",
      "236/236 [==============================] - 116s 490ms/step - loss: 0.4162 - binary_accuracy: 0.8180 - val_loss: 0.4900 - val_binary_accuracy: 0.7455\n",
      "Epoch 10/10\n",
      "236/236 [==============================] - 116s 490ms/step - loss: 0.4141 - binary_accuracy: 0.8151 - val_loss: 0.8097 - val_binary_accuracy: 0.5018\n",
      "131/131 [==============================] - 11s 82ms/step\n",
      "Epoch 1/10\n",
      "236/236 [==============================] - 118s 493ms/step - loss: 0.7162 - binary_accuracy: 0.5367 - val_loss: 0.6834 - val_binary_accuracy: 0.5687\n",
      "Epoch 2/10\n",
      "236/236 [==============================] - 116s 493ms/step - loss: 0.6871 - binary_accuracy: 0.5502 - val_loss: 0.6824 - val_binary_accuracy: 0.5663\n",
      "Epoch 3/10\n",
      "236/236 [==============================] - 116s 492ms/step - loss: 0.6760 - binary_accuracy: 0.5647 - val_loss: 0.6871 - val_binary_accuracy: 0.5830\n",
      "Epoch 4/10\n",
      "236/236 [==============================] - 116s 491ms/step - loss: 0.5946 - binary_accuracy: 0.6722 - val_loss: 0.9210 - val_binary_accuracy: 0.5795\n",
      "Epoch 5/10\n",
      "236/236 [==============================] - 116s 492ms/step - loss: 0.4873 - binary_accuracy: 0.7625 - val_loss: 0.5123 - val_binary_accuracy: 0.7336\n",
      "Epoch 6/10\n",
      "236/236 [==============================] - 116s 491ms/step - loss: 0.4512 - binary_accuracy: 0.7947 - val_loss: 0.4912 - val_binary_accuracy: 0.7790\n",
      "Epoch 7/10\n",
      "236/236 [==============================] - 117s 494ms/step - loss: 0.4636 - binary_accuracy: 0.7889 - val_loss: 0.5445 - val_binary_accuracy: 0.7133\n",
      "Epoch 8/10\n",
      "236/236 [==============================] - 117s 495ms/step - loss: 0.4401 - binary_accuracy: 0.8025 - val_loss: 0.5727 - val_binary_accuracy: 0.7551\n",
      "Epoch 9/10\n",
      "236/236 [==============================] - 116s 492ms/step - loss: 0.4411 - binary_accuracy: 0.7990 - val_loss: 0.4549 - val_binary_accuracy: 0.8100\n",
      "Epoch 10/10\n",
      "236/236 [==============================] - 116s 492ms/step - loss: 0.4409 - binary_accuracy: 0.8032 - val_loss: 0.4123 - val_binary_accuracy: 0.8184\n",
      "131/131 [==============================] - 11s 82ms/step\n",
      "Epoch 1/25\n",
      "236/236 [==============================] - 118s 493ms/step - loss: 0.7192 - binary_accuracy: 0.5316 - val_loss: 0.6926 - val_binary_accuracy: 0.5371\n",
      "Epoch 2/25\n",
      "236/236 [==============================] - 116s 492ms/step - loss: 0.6898 - binary_accuracy: 0.5472 - val_loss: 0.6912 - val_binary_accuracy: 0.5287\n",
      "Epoch 3/25\n",
      "236/236 [==============================] - 116s 493ms/step - loss: 0.6572 - binary_accuracy: 0.5941 - val_loss: 0.6451 - val_binary_accuracy: 0.5897\n",
      "Epoch 4/25\n",
      "236/236 [==============================] - 117s 494ms/step - loss: 0.5209 - binary_accuracy: 0.7460 - val_loss: 0.5852 - val_binary_accuracy: 0.7297\n",
      "Epoch 5/25\n",
      "236/236 [==============================] - 116s 493ms/step - loss: 0.4685 - binary_accuracy: 0.7916 - val_loss: 0.4265 - val_binary_accuracy: 0.8218\n",
      "Epoch 6/25\n",
      "236/236 [==============================] - 117s 496ms/step - loss: 0.4429 - binary_accuracy: 0.8005 - val_loss: 0.4223 - val_binary_accuracy: 0.7955\n",
      "Epoch 7/25\n",
      "236/236 [==============================] - 116s 494ms/step - loss: 0.4382 - binary_accuracy: 0.8068 - val_loss: 0.8057 - val_binary_accuracy: 0.6328\n",
      "Epoch 8/25\n",
      "236/236 [==============================] - 116s 491ms/step - loss: 0.4217 - binary_accuracy: 0.8150 - val_loss: 0.3802 - val_binary_accuracy: 0.8373\n",
      "Epoch 9/25\n",
      "236/236 [==============================] - 118s 502ms/step - loss: 0.4221 - binary_accuracy: 0.8127 - val_loss: 0.4111 - val_binary_accuracy: 0.8278\n",
      "Epoch 10/25\n",
      "236/236 [==============================] - 117s 495ms/step - loss: 0.4186 - binary_accuracy: 0.8151 - val_loss: 0.5376 - val_binary_accuracy: 0.7249\n",
      "Epoch 11/25\n",
      "236/236 [==============================] - 116s 493ms/step - loss: 0.4066 - binary_accuracy: 0.8242 - val_loss: 1.4056 - val_binary_accuracy: 0.5359\n",
      "Epoch 12/25\n",
      "236/236 [==============================] - 118s 499ms/step - loss: 0.4127 - binary_accuracy: 0.8211 - val_loss: 0.4082 - val_binary_accuracy: 0.8182\n",
      "Epoch 13/25\n",
      "236/236 [==============================] - 118s 501ms/step - loss: 0.4787 - binary_accuracy: 0.7764 - val_loss: 0.4400 - val_binary_accuracy: 0.8038\n",
      "Epoch 14/25\n",
      "236/236 [==============================] - 118s 501ms/step - loss: 0.4034 - binary_accuracy: 0.8198 - val_loss: 0.3648 - val_binary_accuracy: 0.8313\n",
      "Epoch 15/25\n",
      "236/236 [==============================] - 117s 494ms/step - loss: 0.4075 - binary_accuracy: 0.8235 - val_loss: 0.7197 - val_binary_accuracy: 0.6519\n",
      "Epoch 16/25\n",
      "236/236 [==============================] - 117s 498ms/step - loss: 0.4061 - binary_accuracy: 0.8188 - val_loss: 0.6121 - val_binary_accuracy: 0.6627\n",
      "Epoch 17/25\n",
      "236/236 [==============================] - 116s 493ms/step - loss: 0.3964 - binary_accuracy: 0.8226 - val_loss: 0.3849 - val_binary_accuracy: 0.8349\n",
      "Epoch 18/25\n",
      "236/236 [==============================] - 116s 493ms/step - loss: 0.3981 - binary_accuracy: 0.8239 - val_loss: 0.4898 - val_binary_accuracy: 0.7727\n",
      "Epoch 19/25\n",
      "236/236 [==============================] - 116s 492ms/step - loss: 0.3982 - binary_accuracy: 0.8240 - val_loss: 0.3621 - val_binary_accuracy: 0.8385\n",
      "Epoch 20/25\n",
      "236/236 [==============================] - 116s 493ms/step - loss: 0.3919 - binary_accuracy: 0.8272 - val_loss: 0.3811 - val_binary_accuracy: 0.8254\n",
      "Epoch 21/25\n",
      "236/236 [==============================] - 116s 492ms/step - loss: 0.3887 - binary_accuracy: 0.8279 - val_loss: 0.3990 - val_binary_accuracy: 0.8182\n",
      "Epoch 22/25\n",
      "236/236 [==============================] - 117s 496ms/step - loss: 0.3956 - binary_accuracy: 0.8256 - val_loss: 0.4209 - val_binary_accuracy: 0.8170\n",
      "Epoch 23/25\n",
      "236/236 [==============================] - 116s 492ms/step - loss: 0.3929 - binary_accuracy: 0.8313 - val_loss: 0.3570 - val_binary_accuracy: 0.8349\n",
      "Epoch 24/25\n",
      "236/236 [==============================] - 116s 492ms/step - loss: 0.3862 - binary_accuracy: 0.8262 - val_loss: 0.3715 - val_binary_accuracy: 0.8373\n",
      "Epoch 25/25\n",
      "236/236 [==============================] - 116s 493ms/step - loss: 0.3844 - binary_accuracy: 0.8313 - val_loss: 0.3582 - val_binary_accuracy: 0.8361\n",
      "131/131 [==============================] - 11s 82ms/step\n",
      "Epoch 1/25\n",
      "236/236 [==============================] - 118s 492ms/step - loss: 0.7105 - binary_accuracy: 0.5344 - val_loss: 0.6891 - val_binary_accuracy: 0.5364\n",
      "Epoch 2/25\n",
      "236/236 [==============================] - 116s 493ms/step - loss: 0.6524 - binary_accuracy: 0.6070 - val_loss: 0.6160 - val_binary_accuracy: 0.6476\n",
      "Epoch 3/25\n",
      "236/236 [==============================] - 116s 491ms/step - loss: 0.5226 - binary_accuracy: 0.7384 - val_loss: 0.4850 - val_binary_accuracy: 0.7730\n",
      "Epoch 4/25\n",
      "236/236 [==============================] - 116s 491ms/step - loss: 0.4600 - binary_accuracy: 0.7900 - val_loss: 0.4421 - val_binary_accuracy: 0.8088\n",
      "Epoch 5/25\n",
      "236/236 [==============================] - 116s 492ms/step - loss: 0.4641 - binary_accuracy: 0.7869 - val_loss: 0.7444 - val_binary_accuracy: 0.6165\n",
      "Epoch 6/25\n",
      "236/236 [==============================] - 116s 491ms/step - loss: 0.4309 - binary_accuracy: 0.8046 - val_loss: 0.4345 - val_binary_accuracy: 0.8112\n",
      "Epoch 7/25\n",
      "236/236 [==============================] - 116s 490ms/step - loss: 0.4159 - binary_accuracy: 0.8159 - val_loss: 0.3630 - val_binary_accuracy: 0.8459\n",
      "Epoch 8/25\n",
      "236/236 [==============================] - 117s 494ms/step - loss: 0.4120 - binary_accuracy: 0.8138 - val_loss: 0.4401 - val_binary_accuracy: 0.7969\n",
      "Epoch 9/25\n",
      "236/236 [==============================] - 116s 492ms/step - loss: 0.4090 - binary_accuracy: 0.8157 - val_loss: 0.7202 - val_binary_accuracy: 0.5771\n",
      "Epoch 10/25\n",
      "236/236 [==============================] - 116s 492ms/step - loss: 0.4007 - binary_accuracy: 0.8196 - val_loss: 0.4321 - val_binary_accuracy: 0.8017\n",
      "Epoch 11/25\n",
      "236/236 [==============================] - 117s 495ms/step - loss: 0.3944 - binary_accuracy: 0.8289 - val_loss: 0.4588 - val_binary_accuracy: 0.7838\n",
      "Epoch 12/25\n",
      "236/236 [==============================] - 116s 491ms/step - loss: 0.3936 - binary_accuracy: 0.8256 - val_loss: 0.3873 - val_binary_accuracy: 0.8280\n",
      "Epoch 13/25\n",
      "236/236 [==============================] - 116s 492ms/step - loss: 0.3917 - binary_accuracy: 0.8289 - val_loss: 0.3739 - val_binary_accuracy: 0.8292\n",
      "Epoch 14/25\n",
      "236/236 [==============================] - 116s 492ms/step - loss: 0.3872 - binary_accuracy: 0.8308 - val_loss: 0.3589 - val_binary_accuracy: 0.8363\n",
      "Epoch 15/25\n",
      "236/236 [==============================] - 116s 492ms/step - loss: 0.3806 - binary_accuracy: 0.8297 - val_loss: 0.3958 - val_binary_accuracy: 0.8112\n",
      "Epoch 16/25\n",
      "236/236 [==============================] - 116s 491ms/step - loss: 0.3831 - binary_accuracy: 0.8335 - val_loss: 0.4033 - val_binary_accuracy: 0.8053\n",
      "Epoch 17/25\n",
      "236/236 [==============================] - 116s 494ms/step - loss: 0.3835 - binary_accuracy: 0.8320 - val_loss: 0.3877 - val_binary_accuracy: 0.8256\n",
      "Epoch 18/25\n",
      "236/236 [==============================] - 116s 491ms/step - loss: 0.3825 - binary_accuracy: 0.8328 - val_loss: 0.4120 - val_binary_accuracy: 0.8220\n",
      "Epoch 19/25\n",
      "236/236 [==============================] - 116s 491ms/step - loss: 0.3828 - binary_accuracy: 0.8285 - val_loss: 0.4977 - val_binary_accuracy: 0.7718\n",
      "Epoch 20/25\n",
      "236/236 [==============================] - 117s 494ms/step - loss: 0.3877 - binary_accuracy: 0.8312 - val_loss: 0.3560 - val_binary_accuracy: 0.8375\n",
      "Epoch 21/25\n",
      "236/236 [==============================] - 116s 493ms/step - loss: 0.3758 - binary_accuracy: 0.8339 - val_loss: 0.3694 - val_binary_accuracy: 0.8387\n",
      "Epoch 22/25\n",
      "236/236 [==============================] - 116s 490ms/step - loss: 0.3812 - binary_accuracy: 0.8396 - val_loss: 0.3331 - val_binary_accuracy: 0.8495\n",
      "Epoch 23/25\n",
      "236/236 [==============================] - 116s 491ms/step - loss: 0.3751 - binary_accuracy: 0.8344 - val_loss: 0.3620 - val_binary_accuracy: 0.8411\n",
      "Epoch 24/25\n",
      "236/236 [==============================] - 117s 495ms/step - loss: 0.3756 - binary_accuracy: 0.8396 - val_loss: 0.4128 - val_binary_accuracy: 0.7933\n",
      "Epoch 25/25\n",
      "236/236 [==============================] - 116s 490ms/step - loss: 0.3711 - binary_accuracy: 0.8384 - val_loss: 0.3488 - val_binary_accuracy: 0.8447\n",
      "131/131 [==============================] - 11s 82ms/step\n",
      "Epoch 1/25\n",
      "236/236 [==============================] - 119s 495ms/step - loss: 0.7232 - binary_accuracy: 0.5381 - val_loss: 0.6818 - val_binary_accuracy: 0.5735\n",
      "Epoch 2/25\n",
      "236/236 [==============================] - 116s 491ms/step - loss: 0.6912 - binary_accuracy: 0.5534 - val_loss: 0.6846 - val_binary_accuracy: 0.5747\n",
      "Epoch 3/25\n",
      "236/236 [==============================] - 117s 494ms/step - loss: 0.6069 - binary_accuracy: 0.6591 - val_loss: 0.5233 - val_binary_accuracy: 0.7479\n",
      "Epoch 4/25\n",
      "236/236 [==============================] - 117s 496ms/step - loss: 0.4873 - binary_accuracy: 0.7709 - val_loss: 0.6937 - val_binary_accuracy: 0.6428\n",
      "Epoch 5/25\n",
      "236/236 [==============================] - 116s 493ms/step - loss: 0.4598 - binary_accuracy: 0.7928 - val_loss: 0.4473 - val_binary_accuracy: 0.7814\n",
      "Epoch 6/25\n",
      "236/236 [==============================] - 116s 491ms/step - loss: 0.4373 - binary_accuracy: 0.8028 - val_loss: 0.4001 - val_binary_accuracy: 0.8076\n",
      "Epoch 7/25\n",
      "236/236 [==============================] - 117s 494ms/step - loss: 0.4328 - binary_accuracy: 0.8093 - val_loss: 0.4205 - val_binary_accuracy: 0.7981\n",
      "Epoch 8/25\n",
      "236/236 [==============================] - 116s 491ms/step - loss: 0.4196 - binary_accuracy: 0.8150 - val_loss: 0.4471 - val_binary_accuracy: 0.7993\n",
      "Epoch 9/25\n",
      "236/236 [==============================] - 116s 492ms/step - loss: 0.4158 - binary_accuracy: 0.8147 - val_loss: 0.3832 - val_binary_accuracy: 0.8339\n",
      "Epoch 10/25\n"
     ]
    },
    {
     "name": "stdout",
     "output_type": "stream",
     "text": [
      "236/236 [==============================] - 116s 494ms/step - loss: 0.4122 - binary_accuracy: 0.8170 - val_loss: 0.3882 - val_binary_accuracy: 0.8268\n",
      "Epoch 11/25\n",
      "236/236 [==============================] - 116s 492ms/step - loss: 0.4086 - binary_accuracy: 0.8232 - val_loss: 0.7864 - val_binary_accuracy: 0.6679\n",
      "Epoch 12/25\n",
      "236/236 [==============================] - 116s 492ms/step - loss: 0.4008 - binary_accuracy: 0.8270 - val_loss: 0.4017 - val_binary_accuracy: 0.8172\n",
      "Epoch 13/25\n",
      "236/236 [==============================] - 117s 496ms/step - loss: 0.4067 - binary_accuracy: 0.8203 - val_loss: 0.3603 - val_binary_accuracy: 0.8399\n",
      "Epoch 14/25\n",
      "236/236 [==============================] - 116s 492ms/step - loss: 0.4002 - binary_accuracy: 0.8270 - val_loss: 0.5224 - val_binary_accuracy: 0.7563\n",
      "Epoch 15/25\n",
      "236/236 [==============================] - 117s 496ms/step - loss: 0.4022 - binary_accuracy: 0.8250 - val_loss: 0.5133 - val_binary_accuracy: 0.7455\n",
      "Epoch 16/25\n",
      "236/236 [==============================] - 117s 495ms/step - loss: 0.3959 - binary_accuracy: 0.8274 - val_loss: 0.3937 - val_binary_accuracy: 0.8292\n",
      "Epoch 17/25\n",
      "236/236 [==============================] - 116s 492ms/step - loss: 0.3992 - binary_accuracy: 0.8251 - val_loss: 0.3657 - val_binary_accuracy: 0.8327\n",
      "Epoch 18/25\n",
      "236/236 [==============================] - 116s 493ms/step - loss: 0.3938 - binary_accuracy: 0.8307 - val_loss: 0.4799 - val_binary_accuracy: 0.7778\n",
      "Epoch 19/25\n",
      "236/236 [==============================] - 117s 494ms/step - loss: 0.3913 - binary_accuracy: 0.8264 - val_loss: 0.4675 - val_binary_accuracy: 0.7742\n",
      "Epoch 20/25\n",
      "236/236 [==============================] - 116s 492ms/step - loss: 0.3881 - binary_accuracy: 0.8316 - val_loss: 0.4620 - val_binary_accuracy: 0.7706\n",
      "Epoch 21/25\n",
      "236/236 [==============================] - 116s 492ms/step - loss: 0.3908 - binary_accuracy: 0.8272 - val_loss: 0.7534 - val_binary_accuracy: 0.6129\n",
      "Epoch 22/25\n",
      "236/236 [==============================] - 117s 495ms/step - loss: 0.3840 - binary_accuracy: 0.8283 - val_loss: 0.3581 - val_binary_accuracy: 0.8387\n",
      "Epoch 23/25\n",
      "236/236 [==============================] - 116s 492ms/step - loss: 0.3815 - binary_accuracy: 0.8339 - val_loss: 0.3791 - val_binary_accuracy: 0.8315\n",
      "Epoch 24/25\n",
      "236/236 [==============================] - 116s 494ms/step - loss: 0.3899 - binary_accuracy: 0.8305 - val_loss: 0.5300 - val_binary_accuracy: 0.7539\n",
      "Epoch 25/25\n",
      "236/236 [==============================] - 117s 494ms/step - loss: 0.3855 - binary_accuracy: 0.8300 - val_loss: 0.3842 - val_binary_accuracy: 0.8256\n",
      "131/131 [==============================] - 11s 82ms/step\n",
      "Epoch 1/25\n",
      "236/236 [==============================] - 120s 498ms/step - loss: 0.7333 - binary_accuracy: 0.5241 - val_loss: 0.6972 - val_binary_accuracy: 0.5371\n",
      "Epoch 2/25\n",
      "236/236 [==============================] - 117s 498ms/step - loss: 0.6926 - binary_accuracy: 0.5485 - val_loss: 0.6951 - val_binary_accuracy: 0.5359\n",
      "Epoch 3/25\n",
      "236/236 [==============================] - 118s 500ms/step - loss: 0.6609 - binary_accuracy: 0.5913 - val_loss: 0.6331 - val_binary_accuracy: 0.6567\n",
      "Epoch 4/25\n",
      "236/236 [==============================] - 118s 500ms/step - loss: 0.5491 - binary_accuracy: 0.7182 - val_loss: 0.5557 - val_binary_accuracy: 0.7500\n",
      "Epoch 5/25\n",
      "236/236 [==============================] - 117s 497ms/step - loss: 0.4863 - binary_accuracy: 0.7656 - val_loss: 0.6945 - val_binary_accuracy: 0.7225\n",
      "Epoch 6/25\n",
      "236/236 [==============================] - 118s 499ms/step - loss: 0.4791 - binary_accuracy: 0.7717 - val_loss: 0.4408 - val_binary_accuracy: 0.7811\n",
      "Epoch 7/25\n",
      "236/236 [==============================] - 118s 498ms/step - loss: 0.4680 - binary_accuracy: 0.7787 - val_loss: 0.6001 - val_binary_accuracy: 0.6950\n",
      "Epoch 8/25\n",
      "236/236 [==============================] - 118s 500ms/step - loss: 0.4493 - binary_accuracy: 0.7953 - val_loss: 0.5790 - val_binary_accuracy: 0.7309\n",
      "Epoch 9/25\n",
      "236/236 [==============================] - 118s 500ms/step - loss: 0.4431 - binary_accuracy: 0.7957 - val_loss: 0.6410 - val_binary_accuracy: 0.6878\n",
      "Epoch 10/25\n",
      "236/236 [==============================] - 118s 499ms/step - loss: 0.4301 - binary_accuracy: 0.8081 - val_loss: 0.4253 - val_binary_accuracy: 0.8074\n",
      "Epoch 11/25\n",
      "236/236 [==============================] - 118s 498ms/step - loss: nan - binary_accuracy: 0.7092 - val_loss: nan - val_binary_accuracy: 0.5371\n",
      "Epoch 12/25\n",
      "236/236 [==============================] - 118s 500ms/step - loss: nan - binary_accuracy: 0.5530 - val_loss: nan - val_binary_accuracy: 0.5371\n",
      "Epoch 13/25\n",
      "236/236 [==============================] - 118s 499ms/step - loss: nan - binary_accuracy: 0.5530 - val_loss: nan - val_binary_accuracy: 0.5371\n",
      "Epoch 14/25\n",
      "236/236 [==============================] - 118s 498ms/step - loss: nan - binary_accuracy: 0.5530 - val_loss: nan - val_binary_accuracy: 0.5371\n",
      "Epoch 15/25\n",
      "236/236 [==============================] - 118s 500ms/step - loss: nan - binary_accuracy: 0.5530 - val_loss: nan - val_binary_accuracy: 0.5371\n",
      "Epoch 16/25\n",
      "236/236 [==============================] - 118s 498ms/step - loss: nan - binary_accuracy: 0.5530 - val_loss: nan - val_binary_accuracy: 0.5371\n",
      "Epoch 17/25\n",
      "236/236 [==============================] - 118s 498ms/step - loss: nan - binary_accuracy: 0.5530 - val_loss: nan - val_binary_accuracy: 0.5371\n",
      "Epoch 18/25\n",
      "236/236 [==============================] - 118s 499ms/step - loss: nan - binary_accuracy: 0.5530 - val_loss: nan - val_binary_accuracy: 0.5371\n",
      "Epoch 19/25\n",
      "236/236 [==============================] - 118s 502ms/step - loss: nan - binary_accuracy: 0.5530 - val_loss: nan - val_binary_accuracy: 0.5371\n",
      "Epoch 20/25\n",
      "236/236 [==============================] - 118s 501ms/step - loss: nan - binary_accuracy: 0.5530 - val_loss: nan - val_binary_accuracy: 0.5371\n",
      "Epoch 21/25\n",
      "236/236 [==============================] - 118s 501ms/step - loss: nan - binary_accuracy: 0.5530 - val_loss: nan - val_binary_accuracy: 0.5371\n",
      "Epoch 22/25\n",
      "236/236 [==============================] - 118s 499ms/step - loss: nan - binary_accuracy: 0.5530 - val_loss: nan - val_binary_accuracy: 0.5371\n",
      "Epoch 23/25\n",
      "236/236 [==============================] - 118s 499ms/step - loss: nan - binary_accuracy: 0.5530 - val_loss: nan - val_binary_accuracy: 0.5371\n",
      "Epoch 24/25\n",
      "236/236 [==============================] - 120s 507ms/step - loss: nan - binary_accuracy: 0.5530 - val_loss: nan - val_binary_accuracy: 0.5371\n",
      "Epoch 25/25\n",
      "236/236 [==============================] - 117s 498ms/step - loss: nan - binary_accuracy: 0.5530 - val_loss: nan - val_binary_accuracy: 0.5371\n",
      "131/131 [==============================] - 11s 83ms/step\n",
      "Epoch 1/25\n",
      "236/236 [==============================] - 118s 494ms/step - loss: 0.7257 - binary_accuracy: 0.5266 - val_loss: 0.6919 - val_binary_accuracy: 0.5364\n",
      "Epoch 2/25\n",
      "236/236 [==============================] - 116s 490ms/step - loss: 0.6908 - binary_accuracy: 0.5528 - val_loss: 0.6877 - val_binary_accuracy: 0.5448\n",
      "Epoch 3/25\n",
      "236/236 [==============================] - 116s 490ms/step - loss: 0.6790 - binary_accuracy: 0.5633 - val_loss: 0.7111 - val_binary_accuracy: 0.4839\n",
      "Epoch 4/25\n",
      "236/236 [==============================] - 116s 490ms/step - loss: 0.5836 - binary_accuracy: 0.6790 - val_loss: 0.8139 - val_binary_accuracy: 0.6452\n",
      "Epoch 5/25\n",
      "236/236 [==============================] - 116s 492ms/step - loss: 0.5048 - binary_accuracy: 0.7577 - val_loss: 0.5203 - val_binary_accuracy: 0.7407\n",
      "Epoch 6/25\n",
      "236/236 [==============================] - 116s 492ms/step - loss: 0.4650 - binary_accuracy: 0.7822 - val_loss: 0.4621 - val_binary_accuracy: 0.7730\n",
      "Epoch 7/25\n",
      "236/236 [==============================] - 116s 491ms/step - loss: 0.4515 - binary_accuracy: 0.7937 - val_loss: 0.4672 - val_binary_accuracy: 0.7802\n",
      "Epoch 8/25\n",
      "236/236 [==============================] - 116s 492ms/step - loss: 0.4375 - binary_accuracy: 0.8022 - val_loss: 0.6744 - val_binary_accuracy: 0.5436\n",
      "Epoch 9/25\n",
      "236/236 [==============================] - 116s 490ms/step - loss: 0.4293 - binary_accuracy: 0.8070 - val_loss: 0.4130 - val_binary_accuracy: 0.8124\n",
      "Epoch 10/25\n",
      "236/236 [==============================] - 117s 494ms/step - loss: 0.4261 - binary_accuracy: 0.8099 - val_loss: 0.5212 - val_binary_accuracy: 0.7431\n"
     ]
    },
    {
     "name": "stdout",
     "output_type": "stream",
     "text": [
      "Epoch 11/25\n",
      "236/236 [==============================] - 116s 493ms/step - loss: 0.4175 - binary_accuracy: 0.8122 - val_loss: 0.5685 - val_binary_accuracy: 0.6894\n",
      "Epoch 12/25\n",
      "236/236 [==============================] - 116s 493ms/step - loss: 0.4165 - binary_accuracy: 0.8119 - val_loss: 0.3832 - val_binary_accuracy: 0.8208\n",
      "Epoch 13/25\n",
      "236/236 [==============================] - 117s 494ms/step - loss: 0.4118 - binary_accuracy: 0.8175 - val_loss: 0.4770 - val_binary_accuracy: 0.7670\n",
      "Epoch 14/25\n",
      "236/236 [==============================] - 116s 490ms/step - loss: 0.4086 - binary_accuracy: 0.8153 - val_loss: 0.6846 - val_binary_accuracy: 0.6523\n",
      "Epoch 15/25\n",
      "236/236 [==============================] - 116s 491ms/step - loss: 0.4045 - binary_accuracy: 0.8218 - val_loss: 0.5583 - val_binary_accuracy: 0.6977\n",
      "Epoch 16/25\n",
      "236/236 [==============================] - 117s 494ms/step - loss: 0.4474 - binary_accuracy: 0.7949 - val_loss: 0.8977 - val_binary_accuracy: 0.5412\n",
      "Epoch 17/25\n",
      "236/236 [==============================] - 116s 492ms/step - loss: 0.4234 - binary_accuracy: 0.8078 - val_loss: 0.4251 - val_binary_accuracy: 0.8172\n",
      "Epoch 18/25\n",
      "236/236 [==============================] - 116s 491ms/step - loss: 0.4735 - binary_accuracy: 0.7766 - val_loss: 1.4928 - val_binary_accuracy: 0.5711\n",
      "Epoch 19/25\n",
      "236/236 [==============================] - 117s 495ms/step - loss: 0.4242 - binary_accuracy: 0.8070 - val_loss: 0.7588 - val_binary_accuracy: 0.6404\n",
      "Epoch 20/25\n",
      "236/236 [==============================] - 116s 494ms/step - loss: 0.4156 - binary_accuracy: 0.8151 - val_loss: 0.5572 - val_binary_accuracy: 0.7073\n",
      "Epoch 21/25\n",
      "236/236 [==============================] - 117s 495ms/step - loss: 0.4100 - binary_accuracy: 0.8154 - val_loss: 0.4208 - val_binary_accuracy: 0.8053\n",
      "Epoch 22/25\n",
      "236/236 [==============================] - 117s 495ms/step - loss: 0.4035 - binary_accuracy: 0.8242 - val_loss: 0.4147 - val_binary_accuracy: 0.7993\n",
      "Epoch 23/25\n",
      "236/236 [==============================] - 118s 499ms/step - loss: 0.4005 - binary_accuracy: 0.8188 - val_loss: 1.1530 - val_binary_accuracy: 0.5699\n",
      "Epoch 24/25\n",
      "236/236 [==============================] - 121s 511ms/step - loss: 0.4278 - binary_accuracy: 0.8073 - val_loss: 0.9177 - val_binary_accuracy: 0.4827\n",
      "Epoch 25/25\n",
      "236/236 [==============================] - 122s 516ms/step - loss: 0.4201 - binary_accuracy: 0.8102 - val_loss: 0.4241 - val_binary_accuracy: 0.8005\n",
      "131/131 [==============================] - 11s 83ms/step\n",
      "Epoch 1/25\n",
      "236/236 [==============================] - 119s 495ms/step - loss: 0.7209 - binary_accuracy: 0.5383 - val_loss: 0.6816 - val_binary_accuracy: 0.5735\n",
      "Epoch 2/25\n",
      "236/236 [==============================] - 118s 500ms/step - loss: 0.6889 - binary_accuracy: 0.5550 - val_loss: 0.6779 - val_binary_accuracy: 0.5663\n",
      "Epoch 3/25\n",
      "236/236 [==============================] - 117s 496ms/step - loss: 0.6241 - binary_accuracy: 0.6328 - val_loss: 0.9457 - val_binary_accuracy: 0.5066\n",
      "Epoch 4/25\n",
      "236/236 [==============================] - 119s 504ms/step - loss: 0.5424 - binary_accuracy: 0.7220 - val_loss: 0.4729 - val_binary_accuracy: 0.7814\n",
      "Epoch 5/25\n",
      "236/236 [==============================] - 118s 499ms/step - loss: 0.4729 - binary_accuracy: 0.7776 - val_loss: 0.8060 - val_binary_accuracy: 0.5412\n",
      "Epoch 6/25\n",
      "236/236 [==============================] - 117s 496ms/step - loss: 0.4526 - binary_accuracy: 0.7923 - val_loss: 0.5283 - val_binary_accuracy: 0.7431\n",
      "Epoch 7/25\n",
      "236/236 [==============================] - 117s 497ms/step - loss: 0.4327 - binary_accuracy: 0.8018 - val_loss: 0.4054 - val_binary_accuracy: 0.8196\n",
      "Epoch 8/25\n",
      "236/236 [==============================] - 118s 500ms/step - loss: 0.4196 - binary_accuracy: 0.8105 - val_loss: 0.4493 - val_binary_accuracy: 0.7993\n",
      "Epoch 9/25\n",
      "236/236 [==============================] - 117s 495ms/step - loss: 0.4115 - binary_accuracy: 0.8165 - val_loss: 0.3961 - val_binary_accuracy: 0.8220\n",
      "Epoch 10/25\n",
      "236/236 [==============================] - 118s 500ms/step - loss: 0.4134 - binary_accuracy: 0.8158 - val_loss: 0.4818 - val_binary_accuracy: 0.7384\n",
      "Epoch 11/25\n",
      "236/236 [==============================] - 117s 495ms/step - loss: 0.4088 - binary_accuracy: 0.8174 - val_loss: 0.3918 - val_binary_accuracy: 0.8100\n",
      "Epoch 12/25\n",
      "236/236 [==============================] - 117s 496ms/step - loss: 0.4037 - binary_accuracy: 0.8215 - val_loss: 0.5027 - val_binary_accuracy: 0.7109\n",
      "Epoch 13/25\n",
      "236/236 [==============================] - 117s 496ms/step - loss: 0.4106 - binary_accuracy: 0.8204 - val_loss: 0.4735 - val_binary_accuracy: 0.7646\n",
      "Epoch 14/25\n",
      "236/236 [==============================] - 118s 498ms/step - loss: 0.3991 - binary_accuracy: 0.8230 - val_loss: 0.3994 - val_binary_accuracy: 0.8124\n",
      "Epoch 15/25\n",
      "236/236 [==============================] - 117s 498ms/step - loss: 0.3980 - binary_accuracy: 0.8259 - val_loss: 0.3894 - val_binary_accuracy: 0.8339\n",
      "Epoch 16/25\n",
      "236/236 [==============================] - 118s 501ms/step - loss: 0.5998 - binary_accuracy: 0.6396 - val_loss: 0.8344 - val_binary_accuracy: 0.5687\n",
      "Epoch 17/25\n",
      "236/236 [==============================] - 118s 501ms/step - loss: 0.6742 - binary_accuracy: 0.5732 - val_loss: 0.6591 - val_binary_accuracy: 0.5771\n",
      "Epoch 18/25\n",
      "236/236 [==============================] - 120s 508ms/step - loss: 0.6669 - binary_accuracy: 0.5844 - val_loss: 0.6489 - val_binary_accuracy: 0.5986\n",
      "Epoch 19/25\n",
      "236/236 [==============================] - 130s 552ms/step - loss: 0.6662 - binary_accuracy: 0.5909 - val_loss: 0.6463 - val_binary_accuracy: 0.6105\n",
      "Epoch 20/25\n",
      "236/236 [==============================] - 131s 555ms/step - loss: 0.6510 - binary_accuracy: 0.6034 - val_loss: 0.7061 - val_binary_accuracy: 0.5783\n",
      "Epoch 21/25\n",
      "236/236 [==============================] - 119s 503ms/step - loss: 0.5598 - binary_accuracy: 0.7135 - val_loss: 0.5021 - val_binary_accuracy: 0.7646\n",
      "Epoch 22/25\n",
      "236/236 [==============================] - 123s 520ms/step - loss: 0.5241 - binary_accuracy: 0.7378 - val_loss: 0.4756 - val_binary_accuracy: 0.7611\n",
      "Epoch 23/25\n",
      "236/236 [==============================] - 122s 517ms/step - loss: 0.4967 - binary_accuracy: 0.7614 - val_loss: 0.5463 - val_binary_accuracy: 0.7264\n",
      "Epoch 24/25\n",
      "236/236 [==============================] - 123s 522ms/step - loss: 0.4894 - binary_accuracy: 0.7695 - val_loss: 0.4939 - val_binary_accuracy: 0.7539\n",
      "Epoch 25/25\n",
      "236/236 [==============================] - 118s 502ms/step - loss: 0.4825 - binary_accuracy: 0.7764 - val_loss: 0.4391 - val_binary_accuracy: 0.8005\n",
      "131/131 [==============================] - 12s 85ms/step\n",
      "Epoch 1/25\n",
      "236/236 [==============================] - 118s 493ms/step - loss: 0.7285 - binary_accuracy: 0.5314 - val_loss: 0.7002 - val_binary_accuracy: 0.5371\n",
      "Epoch 2/25\n",
      "236/236 [==============================] - 119s 505ms/step - loss: 0.6899 - binary_accuracy: 0.5489 - val_loss: 0.6864 - val_binary_accuracy: 0.5371\n",
      "Epoch 3/25\n",
      "236/236 [==============================] - 118s 499ms/step - loss: 0.6593 - binary_accuracy: 0.5732 - val_loss: 0.8231 - val_binary_accuracy: 0.4629\n",
      "Epoch 4/25\n",
      "236/236 [==============================] - 119s 506ms/step - loss: 0.6162 - binary_accuracy: 0.6519 - val_loss: 0.6644 - val_binary_accuracy: 0.6065\n",
      "Epoch 5/25\n",
      "236/236 [==============================] - 122s 518ms/step - loss: 0.5345 - binary_accuracy: 0.7286 - val_loss: 0.6160 - val_binary_accuracy: 0.6459\n",
      "Epoch 6/25\n",
      "236/236 [==============================] - 121s 512ms/step - loss: 0.4831 - binary_accuracy: 0.7702 - val_loss: 0.5045 - val_binary_accuracy: 0.7464\n",
      "Epoch 7/25\n",
      "236/236 [==============================] - 122s 517ms/step - loss: 0.4458 - binary_accuracy: 0.8053 - val_loss: 0.5653 - val_binary_accuracy: 0.7033\n",
      "Epoch 8/25\n",
      "236/236 [==============================] - 132s 560ms/step - loss: 0.4274 - binary_accuracy: 0.8083 - val_loss: 0.4256 - val_binary_accuracy: 0.8182\n",
      "Epoch 9/25\n",
      "236/236 [==============================] - 125s 529ms/step - loss: 0.4214 - binary_accuracy: 0.8083 - val_loss: 0.4120 - val_binary_accuracy: 0.8158\n",
      "Epoch 10/25\n",
      "236/236 [==============================] - 126s 534ms/step - loss: 0.4110 - binary_accuracy: 0.8207 - val_loss: 0.4306 - val_binary_accuracy: 0.7967\n",
      "Epoch 11/25\n",
      "236/236 [==============================] - 118s 500ms/step - loss: 0.4035 - binary_accuracy: 0.8274 - val_loss: 0.3748 - val_binary_accuracy: 0.8218\n",
      "Epoch 12/25\n",
      "236/236 [==============================] - 117s 497ms/step - loss: 0.4011 - binary_accuracy: 0.8247 - val_loss: 0.3710 - val_binary_accuracy: 0.8289\n",
      "Epoch 13/25\n",
      "236/236 [==============================] - 119s 503ms/step - loss: 0.4268 - binary_accuracy: 0.8081 - val_loss: 0.6089 - val_binary_accuracy: 0.6615\n",
      "Epoch 14/25\n",
      "236/236 [==============================] - 118s 499ms/step - loss: 0.4110 - binary_accuracy: 0.8121 - val_loss: 0.3719 - val_binary_accuracy: 0.8289\n",
      "Epoch 15/25\n",
      "236/236 [==============================] - 118s 499ms/step - loss: 0.3911 - binary_accuracy: 0.8228 - val_loss: 0.3951 - val_binary_accuracy: 0.8110\n",
      "Epoch 16/25\n",
      "236/236 [==============================] - 119s 502ms/step - loss: 0.3931 - binary_accuracy: 0.8276 - val_loss: 0.4252 - val_binary_accuracy: 0.7955\n",
      "Epoch 17/25\n",
      "236/236 [==============================] - 118s 498ms/step - loss: 0.3962 - binary_accuracy: 0.8234 - val_loss: 0.4319 - val_binary_accuracy: 0.7883\n",
      "Epoch 18/25\n",
      "236/236 [==============================] - 120s 507ms/step - loss: 0.3939 - binary_accuracy: 0.8258 - val_loss: 0.3775 - val_binary_accuracy: 0.8242\n",
      "Epoch 19/25\n",
      "236/236 [==============================] - 119s 505ms/step - loss: 0.3951 - binary_accuracy: 0.8285 - val_loss: 0.4203 - val_binary_accuracy: 0.8050\n",
      "Epoch 20/25\n",
      "236/236 [==============================] - 118s 502ms/step - loss: 0.3932 - binary_accuracy: 0.8292 - val_loss: 0.4615 - val_binary_accuracy: 0.7632\n",
      "Epoch 21/25\n",
      "236/236 [==============================] - 119s 505ms/step - loss: 0.3874 - binary_accuracy: 0.8301 - val_loss: 0.4105 - val_binary_accuracy: 0.8170\n",
      "Epoch 22/25\n",
      "236/236 [==============================] - 119s 505ms/step - loss: 0.3898 - binary_accuracy: 0.8309 - val_loss: 1.1059 - val_binary_accuracy: 0.5383\n",
      "Epoch 23/25\n",
      "236/236 [==============================] - 118s 502ms/step - loss: 0.3891 - binary_accuracy: 0.8308 - val_loss: 0.3889 - val_binary_accuracy: 0.8289\n",
      "Epoch 24/25\n",
      "236/236 [==============================] - 118s 500ms/step - loss: 0.3829 - binary_accuracy: 0.8280 - val_loss: 0.3786 - val_binary_accuracy: 0.8313\n",
      "Epoch 25/25\n",
      "236/236 [==============================] - 119s 506ms/step - loss: 0.3857 - binary_accuracy: 0.8343 - val_loss: 0.3609 - val_binary_accuracy: 0.8481\n",
      "131/131 [==============================] - 11s 83ms/step\n",
      "Epoch 1/25\n",
      "236/236 [==============================] - 120s 498ms/step - loss: 0.7146 - binary_accuracy: 0.5310 - val_loss: 0.6904 - val_binary_accuracy: 0.5317\n",
      "Epoch 2/25\n",
      "236/236 [==============================] - 119s 505ms/step - loss: 0.6833 - binary_accuracy: 0.5538 - val_loss: 0.7740 - val_binary_accuracy: 0.5352\n",
      "Epoch 3/25\n",
      "236/236 [==============================] - 119s 503ms/step - loss: 0.5944 - binary_accuracy: 0.6636 - val_loss: 0.6448 - val_binary_accuracy: 0.6308\n",
      "Epoch 4/25\n",
      "236/236 [==============================] - 120s 510ms/step - loss: 0.4778 - binary_accuracy: 0.7807 - val_loss: 0.5927 - val_binary_accuracy: 0.6941\n",
      "Epoch 5/25\n",
      "236/236 [==============================] - 116s 493ms/step - loss: 0.4531 - binary_accuracy: 0.7939 - val_loss: 1.5336 - val_binary_accuracy: 0.5520\n",
      "Epoch 6/25\n",
      "236/236 [==============================] - 120s 510ms/step - loss: 0.4320 - binary_accuracy: 0.8054 - val_loss: 1.1067 - val_binary_accuracy: 0.5950\n",
      "Epoch 7/25\n",
      "236/236 [==============================] - 120s 509ms/step - loss: 0.4305 - binary_accuracy: 0.8082 - val_loss: 0.4279 - val_binary_accuracy: 0.8088\n",
      "Epoch 8/25\n",
      "236/236 [==============================] - 120s 508ms/step - loss: 0.4181 - binary_accuracy: 0.8125 - val_loss: 0.9673 - val_binary_accuracy: 0.5914\n",
      "Epoch 9/25\n",
      "236/236 [==============================] - 117s 498ms/step - loss: 0.4123 - binary_accuracy: 0.8177 - val_loss: 0.4355 - val_binary_accuracy: 0.8041\n",
      "Epoch 10/25\n",
      "236/236 [==============================] - 118s 500ms/step - loss: 0.4136 - binary_accuracy: 0.8183 - val_loss: 0.4506 - val_binary_accuracy: 0.7849\n",
      "Epoch 11/25\n",
      "236/236 [==============================] - 119s 505ms/step - loss: 0.4081 - binary_accuracy: 0.8178 - val_loss: 0.4232 - val_binary_accuracy: 0.8208\n",
      "Epoch 12/25\n",
      "236/236 [==============================] - 123s 521ms/step - loss: 0.4039 - binary_accuracy: 0.8231 - val_loss: 0.4142 - val_binary_accuracy: 0.8256\n",
      "Epoch 13/25\n",
      "236/236 [==============================] - 121s 511ms/step - loss: 0.4048 - binary_accuracy: 0.8231 - val_loss: 0.6113 - val_binary_accuracy: 0.7563\n",
      "Epoch 14/25\n",
      "236/236 [==============================] - 121s 511ms/step - loss: 0.3954 - binary_accuracy: 0.8243 - val_loss: 0.4277 - val_binary_accuracy: 0.8136\n",
      "Epoch 15/25\n",
      "236/236 [==============================] - 121s 513ms/step - loss: 0.3908 - binary_accuracy: 0.8285 - val_loss: 0.4504 - val_binary_accuracy: 0.7897\n",
      "Epoch 16/25\n",
      "236/236 [==============================] - 124s 525ms/step - loss: 0.3927 - binary_accuracy: 0.8293 - val_loss: 0.4218 - val_binary_accuracy: 0.8160\n",
      "Epoch 17/25\n",
      "236/236 [==============================] - 121s 511ms/step - loss: 0.4178 - binary_accuracy: 0.8184 - val_loss: 0.8136 - val_binary_accuracy: 0.5137\n",
      "Epoch 18/25\n",
      "236/236 [==============================] - 122s 518ms/step - loss: 0.6335 - binary_accuracy: 0.6232 - val_loss: 0.8146 - val_binary_accuracy: 0.6069\n",
      "Epoch 19/25\n",
      "236/236 [==============================] - 125s 528ms/step - loss: 0.4787 - binary_accuracy: 0.7721 - val_loss: 0.4395 - val_binary_accuracy: 0.8029\n",
      "Epoch 20/25\n",
      "236/236 [==============================] - 132s 560ms/step - loss: 0.4375 - binary_accuracy: 0.8057 - val_loss: 0.7408 - val_binary_accuracy: 0.6440\n",
      "Epoch 21/25\n",
      "236/236 [==============================] - 125s 528ms/step - loss: 0.4224 - binary_accuracy: 0.8127 - val_loss: 0.6920 - val_binary_accuracy: 0.6858\n",
      "Epoch 22/25\n",
      "236/236 [==============================] - 121s 513ms/step - loss: 0.4498 - binary_accuracy: 0.7981 - val_loss: 0.4263 - val_binary_accuracy: 0.7969\n",
      "Epoch 23/25\n",
      "236/236 [==============================] - 120s 509ms/step - loss: 0.4216 - binary_accuracy: 0.8118 - val_loss: 0.4038 - val_binary_accuracy: 0.8124\n",
      "Epoch 24/25\n",
      "236/236 [==============================] - 119s 505ms/step - loss: 0.4186 - binary_accuracy: 0.8149 - val_loss: 0.6830 - val_binary_accuracy: 0.6810\n",
      "Epoch 25/25\n",
      "236/236 [==============================] - 119s 504ms/step - loss: 0.4083 - binary_accuracy: 0.8198 - val_loss: 0.4850 - val_binary_accuracy: 0.7885\n",
      "131/131 [==============================] - 11s 82ms/step\n",
      "Epoch 1/25\n",
      "236/236 [==============================] - 134s 559ms/step - loss: 0.7127 - binary_accuracy: 0.5350 - val_loss: 0.6816 - val_binary_accuracy: 0.5735\n",
      "Epoch 2/25\n",
      "236/236 [==============================] - 127s 540ms/step - loss: 0.6879 - binary_accuracy: 0.5546 - val_loss: 0.6803 - val_binary_accuracy: 0.5687\n",
      "Epoch 3/25\n",
      "236/236 [==============================] - 130s 551ms/step - loss: 0.6359 - binary_accuracy: 0.6247 - val_loss: 1.1140 - val_binary_accuracy: 0.5735\n",
      "Epoch 4/25\n",
      "236/236 [==============================] - 120s 509ms/step - loss: 0.5074 - binary_accuracy: 0.7529 - val_loss: 2.8127 - val_binary_accuracy: 0.5747\n",
      "Epoch 5/25\n",
      "236/236 [==============================] - 132s 559ms/step - loss: 0.4752 - binary_accuracy: 0.7750 - val_loss: 1.9064 - val_binary_accuracy: 0.5938\n",
      "Epoch 6/25\n",
      "236/236 [==============================] - 124s 527ms/step - loss: 0.4498 - binary_accuracy: 0.7917 - val_loss: 0.5211 - val_binary_accuracy: 0.7228\n",
      "Epoch 7/25\n",
      "236/236 [==============================] - 127s 538ms/step - loss: 0.4437 - binary_accuracy: 0.7961 - val_loss: 1.8589 - val_binary_accuracy: 0.5771\n",
      "Epoch 8/25\n",
      "236/236 [==============================] - 118s 499ms/step - loss: 0.4373 - binary_accuracy: 0.8046 - val_loss: 0.5597 - val_binary_accuracy: 0.7192\n",
      "Epoch 9/25\n",
      "236/236 [==============================] - 120s 506ms/step - loss: 0.4257 - binary_accuracy: 0.8094 - val_loss: 0.4460 - val_binary_accuracy: 0.7826\n",
      "Epoch 10/25\n",
      "236/236 [==============================] - 121s 512ms/step - loss: 0.4216 - binary_accuracy: 0.8165 - val_loss: 0.7480 - val_binary_accuracy: 0.6213\n",
      "Epoch 11/25\n"
     ]
    },
    {
     "name": "stdout",
     "output_type": "stream",
     "text": [
      "236/236 [==============================] - 118s 501ms/step - loss: 0.4161 - binary_accuracy: 0.8177 - val_loss: 1.1647 - val_binary_accuracy: 0.5735\n",
      "Epoch 12/25\n",
      "236/236 [==============================] - 118s 500ms/step - loss: 0.4094 - binary_accuracy: 0.8150 - val_loss: 0.7965 - val_binary_accuracy: 0.5962\n",
      "Epoch 13/25\n",
      "236/236 [==============================] - 119s 502ms/step - loss: 0.4108 - binary_accuracy: 0.8222 - val_loss: 0.5521 - val_binary_accuracy: 0.7754\n",
      "Epoch 14/25\n",
      "236/236 [==============================] - 119s 505ms/step - loss: 0.4083 - binary_accuracy: 0.8219 - val_loss: 0.4057 - val_binary_accuracy: 0.8076\n",
      "Epoch 15/25\n",
      "236/236 [==============================] - 119s 503ms/step - loss: 0.4066 - binary_accuracy: 0.8226 - val_loss: 0.5136 - val_binary_accuracy: 0.7300\n",
      "Epoch 16/25\n",
      "236/236 [==============================] - 118s 499ms/step - loss: 0.4137 - binary_accuracy: 0.8143 - val_loss: 0.3884 - val_binary_accuracy: 0.8280\n",
      "Epoch 17/25\n",
      "236/236 [==============================] - 118s 501ms/step - loss: 0.4148 - binary_accuracy: 0.8161 - val_loss: 0.7825 - val_binary_accuracy: 0.6153\n",
      "Epoch 18/25\n",
      "236/236 [==============================] - 120s 507ms/step - loss: 0.4288 - binary_accuracy: 0.8117 - val_loss: 1.2200 - val_binary_accuracy: 0.5735\n",
      "Epoch 19/25\n",
      "236/236 [==============================] - 118s 499ms/step - loss: 0.4140 - binary_accuracy: 0.8150 - val_loss: 1.2204 - val_binary_accuracy: 0.5795\n",
      "Epoch 20/25\n",
      "236/236 [==============================] - 118s 499ms/step - loss: nan - binary_accuracy: 0.5886 - val_loss: nan - val_binary_accuracy: 0.5735\n",
      "Epoch 21/25\n",
      "236/236 [==============================] - 118s 501ms/step - loss: nan - binary_accuracy: 0.5490 - val_loss: nan - val_binary_accuracy: 0.5735\n",
      "Epoch 22/25\n",
      "236/236 [==============================] - 117s 498ms/step - loss: nan - binary_accuracy: 0.5490 - val_loss: nan - val_binary_accuracy: 0.5735\n",
      "Epoch 23/25\n",
      "236/236 [==============================] - 118s 499ms/step - loss: nan - binary_accuracy: 0.5490 - val_loss: nan - val_binary_accuracy: 0.5735\n",
      "Epoch 24/25\n",
      "236/236 [==============================] - 124s 527ms/step - loss: nan - binary_accuracy: 0.5490 - val_loss: nan - val_binary_accuracy: 0.5735\n",
      "Epoch 25/25\n",
      "236/236 [==============================] - 118s 499ms/step - loss: nan - binary_accuracy: 0.5490 - val_loss: nan - val_binary_accuracy: 0.5735\n",
      "131/131 [==============================] - 11s 84ms/step\n",
      "Epoch 1/10\n",
      "118/118 [==============================] - 77s 626ms/step - loss: 0.7547 - binary_accuracy: 0.5397 - val_loss: 0.6915 - val_binary_accuracy: 0.5371\n",
      "Epoch 2/10\n",
      "118/118 [==============================] - 66s 557ms/step - loss: 0.6792 - binary_accuracy: 0.5687 - val_loss: 0.6918 - val_binary_accuracy: 0.5419\n",
      "Epoch 3/10\n",
      "118/118 [==============================] - 66s 558ms/step - loss: 0.6295 - binary_accuracy: 0.6224 - val_loss: 0.6798 - val_binary_accuracy: 0.5873\n",
      "Epoch 4/10\n",
      "118/118 [==============================] - 66s 559ms/step - loss: 0.5271 - binary_accuracy: 0.7327 - val_loss: 0.6355 - val_binary_accuracy: 0.6376\n",
      "Epoch 5/10\n",
      "118/118 [==============================] - 66s 563ms/step - loss: 0.4852 - binary_accuracy: 0.7659 - val_loss: 0.4646 - val_binary_accuracy: 0.7667\n",
      "Epoch 6/10\n",
      "118/118 [==============================] - 66s 556ms/step - loss: 0.4647 - binary_accuracy: 0.7839 - val_loss: 0.7831 - val_binary_accuracy: 0.6376\n",
      "Epoch 7/10\n",
      "118/118 [==============================] - 66s 557ms/step - loss: 0.4591 - binary_accuracy: 0.7838 - val_loss: 0.4427 - val_binary_accuracy: 0.7967\n",
      "Epoch 8/10\n",
      "118/118 [==============================] - 66s 559ms/step - loss: 0.4454 - binary_accuracy: 0.7951 - val_loss: 0.6540 - val_binary_accuracy: 0.6854\n",
      "Epoch 9/10\n",
      "118/118 [==============================] - 66s 562ms/step - loss: 0.4318 - binary_accuracy: 0.8044 - val_loss: 0.9768 - val_binary_accuracy: 0.6124\n",
      "Epoch 10/10\n",
      "118/118 [==============================] - 68s 557ms/step - loss: 0.7369 - binary_accuracy: 0.5373 - val_loss: 0.6907 - val_binary_accuracy: 0.5352\n",
      "Epoch 2/10\n",
      "118/118 [==============================] - 70s 591ms/step - loss: 0.6984 - binary_accuracy: 0.5419 - val_loss: 0.6902 - val_binary_accuracy: 0.5352\n",
      "Epoch 3/10\n",
      "118/118 [==============================] - 66s 561ms/step - loss: 0.6795 - binary_accuracy: 0.5607 - val_loss: 0.6841 - val_binary_accuracy: 0.5424\n",
      "Epoch 4/10\n",
      "118/118 [==============================] - 66s 560ms/step - loss: 0.4924 - binary_accuracy: 0.7642 - val_loss: 0.5316 - val_binary_accuracy: 0.7646\n",
      "Epoch 6/10\n",
      "118/118 [==============================] - 66s 557ms/step - loss: 0.4680 - binary_accuracy: 0.7790 - val_loss: 0.6164 - val_binary_accuracy: 0.7097\n",
      "Epoch 7/10\n",
      "118/118 [==============================] - 66s 559ms/step - loss: 0.4522 - binary_accuracy: 0.7924 - val_loss: 0.4454 - val_binary_accuracy: 0.8053\n",
      "Epoch 8/10\n",
      "118/118 [==============================] - 66s 560ms/step - loss: 0.4432 - binary_accuracy: 0.7947 - val_loss: 0.5062 - val_binary_accuracy: 0.7861\n",
      "Epoch 9/10\n",
      "118/118 [==============================] - 66s 557ms/step - loss: 0.4219 - binary_accuracy: 0.8075 - val_loss: 0.5326 - val_binary_accuracy: 0.7587\n",
      "66/66 [==============================] - 7s 95ms/step\n",
      "Epoch 1/10\n",
      "118/118 [==============================] - 68s 563ms/step - loss: 0.7344 - binary_accuracy: 0.5383 - val_loss: 0.6837 - val_binary_accuracy: 0.5723\n",
      "Epoch 2/10\n",
      "118/118 [==============================] - 67s 566ms/step - loss: 0.6953 - binary_accuracy: 0.5521 - val_loss: 0.6855 - val_binary_accuracy: 0.5687\n",
      "Epoch 3/10\n",
      "118/118 [==============================] - 70s 594ms/step - loss: 0.6872 - binary_accuracy: 0.5542 - val_loss: 0.6823 - val_binary_accuracy: 0.5675\n",
      "Epoch 4/10\n",
      "118/118 [==============================] - 68s 573ms/step - loss: 0.6816 - binary_accuracy: 0.5623 - val_loss: 0.6771 - val_binary_accuracy: 0.5520\n",
      "Epoch 5/10\n",
      "118/118 [==============================] - 67s 567ms/step - loss: 0.6199 - binary_accuracy: 0.6451 - val_loss: 0.9003 - val_binary_accuracy: 0.4456\n",
      "Epoch 6/10\n",
      "118/118 [==============================] - 67s 565ms/step - loss: 0.5057 - binary_accuracy: 0.7487 - val_loss: 5.1501 - val_binary_accuracy: 0.5735\n",
      "Epoch 7/10\n",
      "118/118 [==============================] - 67s 567ms/step - loss: 0.4683 - binary_accuracy: 0.7836 - val_loss: 1.9043 - val_binary_accuracy: 0.5854\n",
      "Epoch 8/10\n",
      "118/118 [==============================] - 72s 612ms/step - loss: 0.4502 - binary_accuracy: 0.7968 - val_loss: 0.8745 - val_binary_accuracy: 0.5568\n",
      "Epoch 9/10\n",
      "118/118 [==============================] - 70s 592ms/step - loss: 0.4355 - binary_accuracy: 0.8033 - val_loss: 0.5688 - val_binary_accuracy: 0.7157\n",
      "Epoch 10/10\n",
      "118/118 [==============================] - 71s 599ms/step - loss: 0.4292 - binary_accuracy: 0.8077 - val_loss: 0.5806 - val_binary_accuracy: 0.6774\n",
      "66/66 [==============================] - 7s 97ms/step\n",
      "Epoch 1/10\n",
      "118/118 [==============================] - 73s 600ms/step - loss: 0.7272 - binary_accuracy: 0.5346 - val_loss: 0.6905 - val_binary_accuracy: 0.5371\n",
      "Epoch 2/10\n",
      "118/118 [==============================] - 71s 604ms/step - loss: 0.6908 - binary_accuracy: 0.5463 - val_loss: 0.6894 - val_binary_accuracy: 0.5239\n",
      "Epoch 3/10\n",
      "118/118 [==============================] - 75s 634ms/step - loss: 0.6753 - binary_accuracy: 0.5651 - val_loss: 0.7034 - val_binary_accuracy: 0.4677\n",
      "Epoch 4/10\n",
      "118/118 [==============================] - 71s 600ms/step - loss: 0.6089 - binary_accuracy: 0.6578 - val_loss: 0.8346 - val_binary_accuracy: 0.4665\n",
      "Epoch 5/10\n",
      "118/118 [==============================] - 74s 627ms/step - loss: 0.5054 - binary_accuracy: 0.7481 - val_loss: 3.3825 - val_binary_accuracy: 0.5371\n",
      "Epoch 6/10\n",
      "118/118 [==============================] - 74s 627ms/step - loss: 0.4754 - binary_accuracy: 0.7751 - val_loss: 0.4452 - val_binary_accuracy: 0.7907\n",
      "Epoch 7/10\n",
      "118/118 [==============================] - 78s 664ms/step - loss: 0.4475 - binary_accuracy: 0.7965 - val_loss: 0.5282 - val_binary_accuracy: 0.7536\n",
      "Epoch 8/10\n",
      "118/118 [==============================] - 83s 705ms/step - loss: 0.4296 - binary_accuracy: 0.8042 - val_loss: 0.4534 - val_binary_accuracy: 0.8050\n",
      "Epoch 9/10\n",
      "118/118 [==============================] - 77s 653ms/step - loss: 0.4184 - binary_accuracy: 0.8142 - val_loss: 0.4120 - val_binary_accuracy: 0.8098\n",
      "Epoch 10/10\n",
      "118/118 [==============================] - 73s 617ms/step - loss: 0.4151 - binary_accuracy: 0.8158 - val_loss: 0.5633 - val_binary_accuracy: 0.7177\n",
      "66/66 [==============================] - 7s 109ms/step\n",
      "Epoch 1/10\n",
      "118/118 [==============================] - 76s 615ms/step - loss: 0.7274 - binary_accuracy: 0.5364 - val_loss: 0.6910 - val_binary_accuracy: 0.5352\n",
      "Epoch 2/10\n",
      "118/118 [==============================] - 67s 570ms/step - loss: 0.6954 - binary_accuracy: 0.5439 - val_loss: 0.6902 - val_binary_accuracy: 0.5352\n",
      "Epoch 3/10\n",
      "118/118 [==============================] - 72s 606ms/step - loss: 0.6869 - binary_accuracy: 0.5534 - val_loss: 0.6901 - val_binary_accuracy: 0.5317\n",
      "Epoch 4/10\n",
      "118/118 [==============================] - 70s 592ms/step - loss: 0.6475 - binary_accuracy: 0.6152 - val_loss: 0.7264 - val_binary_accuracy: 0.5364\n",
      "Epoch 5/10\n",
      "118/118 [==============================] - 67s 572ms/step - loss: 0.6138 - binary_accuracy: 0.6540 - val_loss: 0.9244 - val_binary_accuracy: 0.6129\n",
      "Epoch 6/10\n",
      "118/118 [==============================] - 67s 568ms/step - loss: 0.5007 - binary_accuracy: 0.7547 - val_loss: 0.4473 - val_binary_accuracy: 0.7945\n",
      "Epoch 7/10\n",
      "118/118 [==============================] - 70s 590ms/step - loss: 0.4843 - binary_accuracy: 0.7703 - val_loss: 0.4823 - val_binary_accuracy: 0.8029\n",
      "Epoch 8/10\n",
      "118/118 [==============================] - 68s 573ms/step - loss: 0.4601 - binary_accuracy: 0.7888 - val_loss: 0.4910 - val_binary_accuracy: 0.7658\n",
      "Epoch 9/10\n",
      "118/118 [==============================] - 67s 572ms/step - loss: nan - binary_accuracy: 0.6768 - val_loss: nan - val_binary_accuracy: 0.5364\n",
      "Epoch 10/10\n",
      "118/118 [==============================] - 71s 600ms/step - loss: nan - binary_accuracy: 0.5532 - val_loss: nan - val_binary_accuracy: 0.5364\n",
      "66/66 [==============================] - 7s 106ms/step\n",
      "Epoch 1/10\n",
      "118/118 [==============================] - 74s 605ms/step - loss: 0.7187 - binary_accuracy: 0.5355 - val_loss: 0.6866 - val_binary_accuracy: 0.5735\n",
      "Epoch 2/10\n",
      "118/118 [==============================] - 67s 568ms/step - loss: 0.6926 - binary_accuracy: 0.5493 - val_loss: 0.6823 - val_binary_accuracy: 0.5735\n",
      "Epoch 3/10\n",
      "118/118 [==============================] - 69s 583ms/step - loss: 0.6790 - binary_accuracy: 0.5649 - val_loss: 0.7466 - val_binary_accuracy: 0.5603\n",
      "Epoch 4/10\n",
      "118/118 [==============================] - 66s 562ms/step - loss: 0.6889 - binary_accuracy: 0.5459 - val_loss: 0.6872 - val_binary_accuracy: 0.5735\n",
      "Epoch 5/10\n",
      "118/118 [==============================] - 68s 577ms/step - loss: 0.6844 - binary_accuracy: 0.5526 - val_loss: 0.6907 - val_binary_accuracy: 0.5591\n",
      "Epoch 6/10\n",
      "118/118 [==============================] - 67s 567ms/step - loss: 0.6802 - binary_accuracy: 0.5566 - val_loss: 0.8154 - val_binary_accuracy: 0.5735\n",
      "Epoch 7/10\n",
      "118/118 [==============================] - 66s 563ms/step - loss: 0.6434 - binary_accuracy: 0.6150 - val_loss: 0.6776 - val_binary_accuracy: 0.5400\n",
      "Epoch 8/10\n",
      "118/118 [==============================] - 66s 558ms/step - loss: 0.5484 - binary_accuracy: 0.7323 - val_loss: 1.2150 - val_binary_accuracy: 0.5735\n",
      "Epoch 9/10\n",
      "118/118 [==============================] - 67s 564ms/step - loss: 0.4534 - binary_accuracy: 0.7842 - val_loss: 0.5963 - val_binary_accuracy: 0.6511\n",
      "Epoch 10/10\n",
      "118/118 [==============================] - 71s 598ms/step - loss: 0.4371 - binary_accuracy: 0.7997 - val_loss: 1.0946 - val_binary_accuracy: 0.5866\n",
      "66/66 [==============================] - 7s 96ms/step\n",
      "Epoch 1/10\n",
      "118/118 [==============================] - 70s 578ms/step - loss: 0.7135 - binary_accuracy: 0.5346 - val_loss: 0.6911 - val_binary_accuracy: 0.5371\n",
      "Epoch 2/10\n",
      "118/118 [==============================] - 69s 587ms/step - loss: 0.6663 - binary_accuracy: 0.5763 - val_loss: 0.6800 - val_binary_accuracy: 0.5538\n",
      "Epoch 3/10\n",
      "118/118 [==============================] - 68s 576ms/step - loss: 0.5529 - binary_accuracy: 0.7119 - val_loss: 1.4087 - val_binary_accuracy: 0.5383\n",
      "Epoch 4/10\n",
      "118/118 [==============================] - 68s 574ms/step - loss: 0.4937 - binary_accuracy: 0.7632 - val_loss: 2.0194 - val_binary_accuracy: 0.5120\n",
      "Epoch 5/10\n",
      "118/118 [==============================] - 68s 576ms/step - loss: 0.4535 - binary_accuracy: 0.7925 - val_loss: 0.6358 - val_binary_accuracy: 0.6711\n",
      "Epoch 6/10\n",
      "118/118 [==============================] - 67s 572ms/step - loss: 0.4328 - binary_accuracy: 0.8024 - val_loss: 0.5778 - val_binary_accuracy: 0.7081\n",
      "Epoch 7/10\n",
      "118/118 [==============================] - 69s 583ms/step - loss: 0.4201 - binary_accuracy: 0.8126 - val_loss: 0.4360 - val_binary_accuracy: 0.7787\n",
      "Epoch 8/10\n",
      "118/118 [==============================] - 68s 573ms/step - loss: 0.4176 - binary_accuracy: 0.8097 - val_loss: 0.4923 - val_binary_accuracy: 0.7440\n",
      "Epoch 9/10\n",
      "113/118 [===========================>..] - ETA: 2s - loss: 0.4091 - binary_accuracy: 0.8171"
     ]
    },
    {
     "ename": "KeyboardInterrupt",
     "evalue": "",
     "output_type": "error",
     "traceback": [
      "\u001b[0;31m---------------------------------------------------------------------------\u001b[0m",
      "\u001b[0;31mKeyboardInterrupt\u001b[0m                         Traceback (most recent call last)",
      "Cell \u001b[0;32mIn[75], line 5\u001b[0m\n\u001b[1;32m      2\u001b[0m grid \u001b[38;5;241m=\u001b[39m GridSearchCV(estimator\u001b[38;5;241m=\u001b[39mmodels, param_grid\u001b[38;5;241m=\u001b[39mparam_grid, cv\u001b[38;5;241m=\u001b[39m\u001b[38;5;241m3\u001b[39m)\n\u001b[1;32m      4\u001b[0m \u001b[38;5;66;03m# Fit grid\u001b[39;00m\n\u001b[0;32m----> 5\u001b[0m grid_result \u001b[38;5;241m=\u001b[39m \u001b[43mgrid\u001b[49m\u001b[38;5;241;43m.\u001b[39;49m\u001b[43mfit\u001b[49m\u001b[43m(\u001b[49m\u001b[43mX_train\u001b[49m\u001b[43m,\u001b[49m\u001b[43m \u001b[49m\u001b[43my_train\u001b[49m\u001b[43m)\u001b[49m\n",
      "File \u001b[0;32m~/opt/anaconda3/envs/ecgcap/lib/python3.8/site-packages/sklearn/base.py:1152\u001b[0m, in \u001b[0;36m_fit_context.<locals>.decorator.<locals>.wrapper\u001b[0;34m(estimator, *args, **kwargs)\u001b[0m\n\u001b[1;32m   1145\u001b[0m     estimator\u001b[38;5;241m.\u001b[39m_validate_params()\n\u001b[1;32m   1147\u001b[0m \u001b[38;5;28;01mwith\u001b[39;00m config_context(\n\u001b[1;32m   1148\u001b[0m     skip_parameter_validation\u001b[38;5;241m=\u001b[39m(\n\u001b[1;32m   1149\u001b[0m         prefer_skip_nested_validation \u001b[38;5;129;01mor\u001b[39;00m global_skip_validation\n\u001b[1;32m   1150\u001b[0m     )\n\u001b[1;32m   1151\u001b[0m ):\n\u001b[0;32m-> 1152\u001b[0m     \u001b[38;5;28;01mreturn\u001b[39;00m \u001b[43mfit_method\u001b[49m\u001b[43m(\u001b[49m\u001b[43mestimator\u001b[49m\u001b[43m,\u001b[49m\u001b[43m \u001b[49m\u001b[38;5;241;43m*\u001b[39;49m\u001b[43margs\u001b[49m\u001b[43m,\u001b[49m\u001b[43m \u001b[49m\u001b[38;5;241;43m*\u001b[39;49m\u001b[38;5;241;43m*\u001b[39;49m\u001b[43mkwargs\u001b[49m\u001b[43m)\u001b[49m\n",
      "File \u001b[0;32m~/opt/anaconda3/envs/ecgcap/lib/python3.8/site-packages/sklearn/model_selection/_search.py:898\u001b[0m, in \u001b[0;36mBaseSearchCV.fit\u001b[0;34m(self, X, y, groups, **fit_params)\u001b[0m\n\u001b[1;32m    892\u001b[0m     results \u001b[38;5;241m=\u001b[39m \u001b[38;5;28mself\u001b[39m\u001b[38;5;241m.\u001b[39m_format_results(\n\u001b[1;32m    893\u001b[0m         all_candidate_params, n_splits, all_out, all_more_results\n\u001b[1;32m    894\u001b[0m     )\n\u001b[1;32m    896\u001b[0m     \u001b[38;5;28;01mreturn\u001b[39;00m results\n\u001b[0;32m--> 898\u001b[0m \u001b[38;5;28;43mself\u001b[39;49m\u001b[38;5;241;43m.\u001b[39;49m\u001b[43m_run_search\u001b[49m\u001b[43m(\u001b[49m\u001b[43mevaluate_candidates\u001b[49m\u001b[43m)\u001b[49m\n\u001b[1;32m    900\u001b[0m \u001b[38;5;66;03m# multimetric is determined here because in the case of a callable\u001b[39;00m\n\u001b[1;32m    901\u001b[0m \u001b[38;5;66;03m# self.scoring the return type is only known after calling\u001b[39;00m\n\u001b[1;32m    902\u001b[0m first_test_score \u001b[38;5;241m=\u001b[39m all_out[\u001b[38;5;241m0\u001b[39m][\u001b[38;5;124m\"\u001b[39m\u001b[38;5;124mtest_scores\u001b[39m\u001b[38;5;124m\"\u001b[39m]\n",
      "File \u001b[0;32m~/opt/anaconda3/envs/ecgcap/lib/python3.8/site-packages/sklearn/model_selection/_search.py:1422\u001b[0m, in \u001b[0;36mGridSearchCV._run_search\u001b[0;34m(self, evaluate_candidates)\u001b[0m\n\u001b[1;32m   1420\u001b[0m \u001b[38;5;28;01mdef\u001b[39;00m \u001b[38;5;21m_run_search\u001b[39m(\u001b[38;5;28mself\u001b[39m, evaluate_candidates):\n\u001b[1;32m   1421\u001b[0m \u001b[38;5;250m    \u001b[39m\u001b[38;5;124;03m\"\"\"Search all candidates in param_grid\"\"\"\u001b[39;00m\n\u001b[0;32m-> 1422\u001b[0m     \u001b[43mevaluate_candidates\u001b[49m\u001b[43m(\u001b[49m\u001b[43mParameterGrid\u001b[49m\u001b[43m(\u001b[49m\u001b[38;5;28;43mself\u001b[39;49m\u001b[38;5;241;43m.\u001b[39;49m\u001b[43mparam_grid\u001b[49m\u001b[43m)\u001b[49m\u001b[43m)\u001b[49m\n",
      "File \u001b[0;32m~/opt/anaconda3/envs/ecgcap/lib/python3.8/site-packages/sklearn/model_selection/_search.py:845\u001b[0m, in \u001b[0;36mBaseSearchCV.fit.<locals>.evaluate_candidates\u001b[0;34m(candidate_params, cv, more_results)\u001b[0m\n\u001b[1;32m    837\u001b[0m \u001b[38;5;28;01mif\u001b[39;00m \u001b[38;5;28mself\u001b[39m\u001b[38;5;241m.\u001b[39mverbose \u001b[38;5;241m>\u001b[39m \u001b[38;5;241m0\u001b[39m:\n\u001b[1;32m    838\u001b[0m     \u001b[38;5;28mprint\u001b[39m(\n\u001b[1;32m    839\u001b[0m         \u001b[38;5;124m\"\u001b[39m\u001b[38;5;124mFitting \u001b[39m\u001b[38;5;132;01m{0}\u001b[39;00m\u001b[38;5;124m folds for each of \u001b[39m\u001b[38;5;132;01m{1}\u001b[39;00m\u001b[38;5;124m candidates,\u001b[39m\u001b[38;5;124m\"\u001b[39m\n\u001b[1;32m    840\u001b[0m         \u001b[38;5;124m\"\u001b[39m\u001b[38;5;124m totalling \u001b[39m\u001b[38;5;132;01m{2}\u001b[39;00m\u001b[38;5;124m fits\u001b[39m\u001b[38;5;124m\"\u001b[39m\u001b[38;5;241m.\u001b[39mformat(\n\u001b[1;32m    841\u001b[0m             n_splits, n_candidates, n_candidates \u001b[38;5;241m*\u001b[39m n_splits\n\u001b[1;32m    842\u001b[0m         )\n\u001b[1;32m    843\u001b[0m     )\n\u001b[0;32m--> 845\u001b[0m out \u001b[38;5;241m=\u001b[39m \u001b[43mparallel\u001b[49m\u001b[43m(\u001b[49m\n\u001b[1;32m    846\u001b[0m \u001b[43m    \u001b[49m\u001b[43mdelayed\u001b[49m\u001b[43m(\u001b[49m\u001b[43m_fit_and_score\u001b[49m\u001b[43m)\u001b[49m\u001b[43m(\u001b[49m\n\u001b[1;32m    847\u001b[0m \u001b[43m        \u001b[49m\u001b[43mclone\u001b[49m\u001b[43m(\u001b[49m\u001b[43mbase_estimator\u001b[49m\u001b[43m)\u001b[49m\u001b[43m,\u001b[49m\n\u001b[1;32m    848\u001b[0m \u001b[43m        \u001b[49m\u001b[43mX\u001b[49m\u001b[43m,\u001b[49m\n\u001b[1;32m    849\u001b[0m \u001b[43m        \u001b[49m\u001b[43my\u001b[49m\u001b[43m,\u001b[49m\n\u001b[1;32m    850\u001b[0m \u001b[43m        \u001b[49m\u001b[43mtrain\u001b[49m\u001b[38;5;241;43m=\u001b[39;49m\u001b[43mtrain\u001b[49m\u001b[43m,\u001b[49m\n\u001b[1;32m    851\u001b[0m \u001b[43m        \u001b[49m\u001b[43mtest\u001b[49m\u001b[38;5;241;43m=\u001b[39;49m\u001b[43mtest\u001b[49m\u001b[43m,\u001b[49m\n\u001b[1;32m    852\u001b[0m \u001b[43m        \u001b[49m\u001b[43mparameters\u001b[49m\u001b[38;5;241;43m=\u001b[39;49m\u001b[43mparameters\u001b[49m\u001b[43m,\u001b[49m\n\u001b[1;32m    853\u001b[0m \u001b[43m        \u001b[49m\u001b[43msplit_progress\u001b[49m\u001b[38;5;241;43m=\u001b[39;49m\u001b[43m(\u001b[49m\u001b[43msplit_idx\u001b[49m\u001b[43m,\u001b[49m\u001b[43m \u001b[49m\u001b[43mn_splits\u001b[49m\u001b[43m)\u001b[49m\u001b[43m,\u001b[49m\n\u001b[1;32m    854\u001b[0m \u001b[43m        \u001b[49m\u001b[43mcandidate_progress\u001b[49m\u001b[38;5;241;43m=\u001b[39;49m\u001b[43m(\u001b[49m\u001b[43mcand_idx\u001b[49m\u001b[43m,\u001b[49m\u001b[43m \u001b[49m\u001b[43mn_candidates\u001b[49m\u001b[43m)\u001b[49m\u001b[43m,\u001b[49m\n\u001b[1;32m    855\u001b[0m \u001b[43m        \u001b[49m\u001b[38;5;241;43m*\u001b[39;49m\u001b[38;5;241;43m*\u001b[39;49m\u001b[43mfit_and_score_kwargs\u001b[49m\u001b[43m,\u001b[49m\n\u001b[1;32m    856\u001b[0m \u001b[43m    \u001b[49m\u001b[43m)\u001b[49m\n\u001b[1;32m    857\u001b[0m \u001b[43m    \u001b[49m\u001b[38;5;28;43;01mfor\u001b[39;49;00m\u001b[43m \u001b[49m\u001b[43m(\u001b[49m\u001b[43mcand_idx\u001b[49m\u001b[43m,\u001b[49m\u001b[43m \u001b[49m\u001b[43mparameters\u001b[49m\u001b[43m)\u001b[49m\u001b[43m,\u001b[49m\u001b[43m \u001b[49m\u001b[43m(\u001b[49m\u001b[43msplit_idx\u001b[49m\u001b[43m,\u001b[49m\u001b[43m \u001b[49m\u001b[43m(\u001b[49m\u001b[43mtrain\u001b[49m\u001b[43m,\u001b[49m\u001b[43m \u001b[49m\u001b[43mtest\u001b[49m\u001b[43m)\u001b[49m\u001b[43m)\u001b[49m\u001b[43m \u001b[49m\u001b[38;5;129;43;01min\u001b[39;49;00m\u001b[43m \u001b[49m\u001b[43mproduct\u001b[49m\u001b[43m(\u001b[49m\n\u001b[1;32m    858\u001b[0m \u001b[43m        \u001b[49m\u001b[38;5;28;43menumerate\u001b[39;49m\u001b[43m(\u001b[49m\u001b[43mcandidate_params\u001b[49m\u001b[43m)\u001b[49m\u001b[43m,\u001b[49m\u001b[43m \u001b[49m\u001b[38;5;28;43menumerate\u001b[39;49m\u001b[43m(\u001b[49m\u001b[43mcv\u001b[49m\u001b[38;5;241;43m.\u001b[39;49m\u001b[43msplit\u001b[49m\u001b[43m(\u001b[49m\u001b[43mX\u001b[49m\u001b[43m,\u001b[49m\u001b[43m \u001b[49m\u001b[43my\u001b[49m\u001b[43m,\u001b[49m\u001b[43m \u001b[49m\u001b[43mgroups\u001b[49m\u001b[43m)\u001b[49m\u001b[43m)\u001b[49m\n\u001b[1;32m    859\u001b[0m \u001b[43m    \u001b[49m\u001b[43m)\u001b[49m\n\u001b[1;32m    860\u001b[0m \u001b[43m\u001b[49m\u001b[43m)\u001b[49m\n\u001b[1;32m    862\u001b[0m \u001b[38;5;28;01mif\u001b[39;00m \u001b[38;5;28mlen\u001b[39m(out) \u001b[38;5;241m<\u001b[39m \u001b[38;5;241m1\u001b[39m:\n\u001b[1;32m    863\u001b[0m     \u001b[38;5;28;01mraise\u001b[39;00m \u001b[38;5;167;01mValueError\u001b[39;00m(\n\u001b[1;32m    864\u001b[0m         \u001b[38;5;124m\"\u001b[39m\u001b[38;5;124mNo fits were performed. \u001b[39m\u001b[38;5;124m\"\u001b[39m\n\u001b[1;32m    865\u001b[0m         \u001b[38;5;124m\"\u001b[39m\u001b[38;5;124mWas the CV iterator empty? \u001b[39m\u001b[38;5;124m\"\u001b[39m\n\u001b[1;32m    866\u001b[0m         \u001b[38;5;124m\"\u001b[39m\u001b[38;5;124mWere there no candidates?\u001b[39m\u001b[38;5;124m\"\u001b[39m\n\u001b[1;32m    867\u001b[0m     )\n",
      "File \u001b[0;32m~/opt/anaconda3/envs/ecgcap/lib/python3.8/site-packages/sklearn/utils/parallel.py:65\u001b[0m, in \u001b[0;36mParallel.__call__\u001b[0;34m(self, iterable)\u001b[0m\n\u001b[1;32m     60\u001b[0m config \u001b[38;5;241m=\u001b[39m get_config()\n\u001b[1;32m     61\u001b[0m iterable_with_config \u001b[38;5;241m=\u001b[39m (\n\u001b[1;32m     62\u001b[0m     (_with_config(delayed_func, config), args, kwargs)\n\u001b[1;32m     63\u001b[0m     \u001b[38;5;28;01mfor\u001b[39;00m delayed_func, args, kwargs \u001b[38;5;129;01min\u001b[39;00m iterable\n\u001b[1;32m     64\u001b[0m )\n\u001b[0;32m---> 65\u001b[0m \u001b[38;5;28;01mreturn\u001b[39;00m \u001b[38;5;28;43msuper\u001b[39;49m\u001b[43m(\u001b[49m\u001b[43m)\u001b[49m\u001b[38;5;241;43m.\u001b[39;49m\u001b[38;5;21;43m__call__\u001b[39;49m\u001b[43m(\u001b[49m\u001b[43miterable_with_config\u001b[49m\u001b[43m)\u001b[49m\n",
      "File \u001b[0;32m~/opt/anaconda3/envs/ecgcap/lib/python3.8/site-packages/joblib/parallel.py:1863\u001b[0m, in \u001b[0;36mParallel.__call__\u001b[0;34m(self, iterable)\u001b[0m\n\u001b[1;32m   1861\u001b[0m     output \u001b[38;5;241m=\u001b[39m \u001b[38;5;28mself\u001b[39m\u001b[38;5;241m.\u001b[39m_get_sequential_output(iterable)\n\u001b[1;32m   1862\u001b[0m     \u001b[38;5;28mnext\u001b[39m(output)\n\u001b[0;32m-> 1863\u001b[0m     \u001b[38;5;28;01mreturn\u001b[39;00m output \u001b[38;5;28;01mif\u001b[39;00m \u001b[38;5;28mself\u001b[39m\u001b[38;5;241m.\u001b[39mreturn_generator \u001b[38;5;28;01melse\u001b[39;00m \u001b[38;5;28;43mlist\u001b[39;49m\u001b[43m(\u001b[49m\u001b[43moutput\u001b[49m\u001b[43m)\u001b[49m\n\u001b[1;32m   1865\u001b[0m \u001b[38;5;66;03m# Let's create an ID that uniquely identifies the current call. If the\u001b[39;00m\n\u001b[1;32m   1866\u001b[0m \u001b[38;5;66;03m# call is interrupted early and that the same instance is immediately\u001b[39;00m\n\u001b[1;32m   1867\u001b[0m \u001b[38;5;66;03m# re-used, this id will be used to prevent workers that were\u001b[39;00m\n\u001b[1;32m   1868\u001b[0m \u001b[38;5;66;03m# concurrently finalizing a task from the previous call to run the\u001b[39;00m\n\u001b[1;32m   1869\u001b[0m \u001b[38;5;66;03m# callback.\u001b[39;00m\n\u001b[1;32m   1870\u001b[0m \u001b[38;5;28;01mwith\u001b[39;00m \u001b[38;5;28mself\u001b[39m\u001b[38;5;241m.\u001b[39m_lock:\n",
      "File \u001b[0;32m~/opt/anaconda3/envs/ecgcap/lib/python3.8/site-packages/joblib/parallel.py:1792\u001b[0m, in \u001b[0;36mParallel._get_sequential_output\u001b[0;34m(self, iterable)\u001b[0m\n\u001b[1;32m   1790\u001b[0m \u001b[38;5;28mself\u001b[39m\u001b[38;5;241m.\u001b[39mn_dispatched_batches \u001b[38;5;241m+\u001b[39m\u001b[38;5;241m=\u001b[39m \u001b[38;5;241m1\u001b[39m\n\u001b[1;32m   1791\u001b[0m \u001b[38;5;28mself\u001b[39m\u001b[38;5;241m.\u001b[39mn_dispatched_tasks \u001b[38;5;241m+\u001b[39m\u001b[38;5;241m=\u001b[39m \u001b[38;5;241m1\u001b[39m\n\u001b[0;32m-> 1792\u001b[0m res \u001b[38;5;241m=\u001b[39m \u001b[43mfunc\u001b[49m\u001b[43m(\u001b[49m\u001b[38;5;241;43m*\u001b[39;49m\u001b[43margs\u001b[49m\u001b[43m,\u001b[49m\u001b[43m \u001b[49m\u001b[38;5;241;43m*\u001b[39;49m\u001b[38;5;241;43m*\u001b[39;49m\u001b[43mkwargs\u001b[49m\u001b[43m)\u001b[49m\n\u001b[1;32m   1793\u001b[0m \u001b[38;5;28mself\u001b[39m\u001b[38;5;241m.\u001b[39mn_completed_tasks \u001b[38;5;241m+\u001b[39m\u001b[38;5;241m=\u001b[39m \u001b[38;5;241m1\u001b[39m\n\u001b[1;32m   1794\u001b[0m \u001b[38;5;28mself\u001b[39m\u001b[38;5;241m.\u001b[39mprint_progress()\n",
      "File \u001b[0;32m~/opt/anaconda3/envs/ecgcap/lib/python3.8/site-packages/sklearn/utils/parallel.py:127\u001b[0m, in \u001b[0;36m_FuncWrapper.__call__\u001b[0;34m(self, *args, **kwargs)\u001b[0m\n\u001b[1;32m    125\u001b[0m     config \u001b[38;5;241m=\u001b[39m {}\n\u001b[1;32m    126\u001b[0m \u001b[38;5;28;01mwith\u001b[39;00m config_context(\u001b[38;5;241m*\u001b[39m\u001b[38;5;241m*\u001b[39mconfig):\n\u001b[0;32m--> 127\u001b[0m     \u001b[38;5;28;01mreturn\u001b[39;00m \u001b[38;5;28;43mself\u001b[39;49m\u001b[38;5;241;43m.\u001b[39;49m\u001b[43mfunction\u001b[49m\u001b[43m(\u001b[49m\u001b[38;5;241;43m*\u001b[39;49m\u001b[43margs\u001b[49m\u001b[43m,\u001b[49m\u001b[43m \u001b[49m\u001b[38;5;241;43m*\u001b[39;49m\u001b[38;5;241;43m*\u001b[39;49m\u001b[43mkwargs\u001b[49m\u001b[43m)\u001b[49m\n",
      "File \u001b[0;32m~/opt/anaconda3/envs/ecgcap/lib/python3.8/site-packages/sklearn/model_selection/_validation.py:729\u001b[0m, in \u001b[0;36m_fit_and_score\u001b[0;34m(estimator, X, y, scorer, train, test, verbose, parameters, fit_params, return_train_score, return_parameters, return_n_test_samples, return_times, return_estimator, split_progress, candidate_progress, error_score)\u001b[0m\n\u001b[1;32m    727\u001b[0m         estimator\u001b[38;5;241m.\u001b[39mfit(X_train, \u001b[38;5;241m*\u001b[39m\u001b[38;5;241m*\u001b[39mfit_params)\n\u001b[1;32m    728\u001b[0m     \u001b[38;5;28;01melse\u001b[39;00m:\n\u001b[0;32m--> 729\u001b[0m         \u001b[43mestimator\u001b[49m\u001b[38;5;241;43m.\u001b[39;49m\u001b[43mfit\u001b[49m\u001b[43m(\u001b[49m\u001b[43mX_train\u001b[49m\u001b[43m,\u001b[49m\u001b[43m \u001b[49m\u001b[43my_train\u001b[49m\u001b[43m,\u001b[49m\u001b[43m \u001b[49m\u001b[38;5;241;43m*\u001b[39;49m\u001b[38;5;241;43m*\u001b[39;49m\u001b[43mfit_params\u001b[49m\u001b[43m)\u001b[49m\n\u001b[1;32m    731\u001b[0m \u001b[38;5;28;01mexcept\u001b[39;00m \u001b[38;5;167;01mException\u001b[39;00m:\n\u001b[1;32m    732\u001b[0m     \u001b[38;5;66;03m# Note fit time as time until error\u001b[39;00m\n\u001b[1;32m    733\u001b[0m     fit_time \u001b[38;5;241m=\u001b[39m time\u001b[38;5;241m.\u001b[39mtime() \u001b[38;5;241m-\u001b[39m start_time\n",
      "File \u001b[0;32m~/opt/anaconda3/envs/ecgcap/lib/python3.8/site-packages/scikeras/wrappers.py:1491\u001b[0m, in \u001b[0;36mKerasClassifier.fit\u001b[0;34m(self, X, y, sample_weight, **kwargs)\u001b[0m\n\u001b[1;32m   1489\u001b[0m     sample_weight \u001b[38;5;241m=\u001b[39m \u001b[38;5;241m1\u001b[39m \u001b[38;5;28;01mif\u001b[39;00m sample_weight \u001b[38;5;129;01mis\u001b[39;00m \u001b[38;5;28;01mNone\u001b[39;00m \u001b[38;5;28;01melse\u001b[39;00m sample_weight\n\u001b[1;32m   1490\u001b[0m     sample_weight \u001b[38;5;241m*\u001b[39m\u001b[38;5;241m=\u001b[39m compute_sample_weight(class_weight\u001b[38;5;241m=\u001b[39m\u001b[38;5;28mself\u001b[39m\u001b[38;5;241m.\u001b[39mclass_weight, y\u001b[38;5;241m=\u001b[39my)\n\u001b[0;32m-> 1491\u001b[0m \u001b[38;5;28;43msuper\u001b[39;49m\u001b[43m(\u001b[49m\u001b[43m)\u001b[49m\u001b[38;5;241;43m.\u001b[39;49m\u001b[43mfit\u001b[49m\u001b[43m(\u001b[49m\u001b[43mX\u001b[49m\u001b[38;5;241;43m=\u001b[39;49m\u001b[43mX\u001b[49m\u001b[43m,\u001b[49m\u001b[43m \u001b[49m\u001b[43my\u001b[49m\u001b[38;5;241;43m=\u001b[39;49m\u001b[43my\u001b[49m\u001b[43m,\u001b[49m\u001b[43m \u001b[49m\u001b[43msample_weight\u001b[49m\u001b[38;5;241;43m=\u001b[39;49m\u001b[43msample_weight\u001b[49m\u001b[43m,\u001b[49m\u001b[43m \u001b[49m\u001b[38;5;241;43m*\u001b[39;49m\u001b[38;5;241;43m*\u001b[39;49m\u001b[43mkwargs\u001b[49m\u001b[43m)\u001b[49m\n\u001b[1;32m   1492\u001b[0m \u001b[38;5;28;01mreturn\u001b[39;00m \u001b[38;5;28mself\u001b[39m\n",
      "File \u001b[0;32m~/opt/anaconda3/envs/ecgcap/lib/python3.8/site-packages/scikeras/wrappers.py:760\u001b[0m, in \u001b[0;36mBaseWrapper.fit\u001b[0;34m(self, X, y, sample_weight, **kwargs)\u001b[0m\n\u001b[1;32m    755\u001b[0m kwargs[\u001b[38;5;124m\"\u001b[39m\u001b[38;5;124mepochs\u001b[39m\u001b[38;5;124m\"\u001b[39m] \u001b[38;5;241m=\u001b[39m kwargs\u001b[38;5;241m.\u001b[39mget(\n\u001b[1;32m    756\u001b[0m     \u001b[38;5;124m\"\u001b[39m\u001b[38;5;124mepochs\u001b[39m\u001b[38;5;124m\"\u001b[39m, \u001b[38;5;28mgetattr\u001b[39m(\u001b[38;5;28mself\u001b[39m, \u001b[38;5;124m\"\u001b[39m\u001b[38;5;124mfit__epochs\u001b[39m\u001b[38;5;124m\"\u001b[39m, \u001b[38;5;28mself\u001b[39m\u001b[38;5;241m.\u001b[39mepochs)\n\u001b[1;32m    757\u001b[0m )\n\u001b[1;32m    758\u001b[0m kwargs[\u001b[38;5;124m\"\u001b[39m\u001b[38;5;124minitial_epoch\u001b[39m\u001b[38;5;124m\"\u001b[39m] \u001b[38;5;241m=\u001b[39m kwargs\u001b[38;5;241m.\u001b[39mget(\u001b[38;5;124m\"\u001b[39m\u001b[38;5;124minitial_epoch\u001b[39m\u001b[38;5;124m\"\u001b[39m, \u001b[38;5;241m0\u001b[39m)\n\u001b[0;32m--> 760\u001b[0m \u001b[38;5;28;43mself\u001b[39;49m\u001b[38;5;241;43m.\u001b[39;49m\u001b[43m_fit\u001b[49m\u001b[43m(\u001b[49m\n\u001b[1;32m    761\u001b[0m \u001b[43m    \u001b[49m\u001b[43mX\u001b[49m\u001b[38;5;241;43m=\u001b[39;49m\u001b[43mX\u001b[49m\u001b[43m,\u001b[49m\n\u001b[1;32m    762\u001b[0m \u001b[43m    \u001b[49m\u001b[43my\u001b[49m\u001b[38;5;241;43m=\u001b[39;49m\u001b[43my\u001b[49m\u001b[43m,\u001b[49m\n\u001b[1;32m    763\u001b[0m \u001b[43m    \u001b[49m\u001b[43msample_weight\u001b[49m\u001b[38;5;241;43m=\u001b[39;49m\u001b[43msample_weight\u001b[49m\u001b[43m,\u001b[49m\n\u001b[1;32m    764\u001b[0m \u001b[43m    \u001b[49m\u001b[43mwarm_start\u001b[49m\u001b[38;5;241;43m=\u001b[39;49m\u001b[38;5;28;43mself\u001b[39;49m\u001b[38;5;241;43m.\u001b[39;49m\u001b[43mwarm_start\u001b[49m\u001b[43m,\u001b[49m\n\u001b[1;32m    765\u001b[0m \u001b[43m    \u001b[49m\u001b[38;5;241;43m*\u001b[39;49m\u001b[38;5;241;43m*\u001b[39;49m\u001b[43mkwargs\u001b[49m\u001b[43m,\u001b[49m\n\u001b[1;32m    766\u001b[0m \u001b[43m\u001b[49m\u001b[43m)\u001b[49m\n\u001b[1;32m    768\u001b[0m \u001b[38;5;28;01mreturn\u001b[39;00m \u001b[38;5;28mself\u001b[39m\n",
      "File \u001b[0;32m~/opt/anaconda3/envs/ecgcap/lib/python3.8/site-packages/scikeras/wrappers.py:928\u001b[0m, in \u001b[0;36mBaseWrapper._fit\u001b[0;34m(self, X, y, sample_weight, warm_start, epochs, initial_epoch, **kwargs)\u001b[0m\n\u001b[1;32m    924\u001b[0m X \u001b[38;5;241m=\u001b[39m \u001b[38;5;28mself\u001b[39m\u001b[38;5;241m.\u001b[39mfeature_encoder_\u001b[38;5;241m.\u001b[39mtransform(X)\n\u001b[1;32m    926\u001b[0m \u001b[38;5;28mself\u001b[39m\u001b[38;5;241m.\u001b[39m_check_model_compatibility(y)\n\u001b[0;32m--> 928\u001b[0m \u001b[38;5;28;43mself\u001b[39;49m\u001b[38;5;241;43m.\u001b[39;49m\u001b[43m_fit_keras_model\u001b[49m\u001b[43m(\u001b[49m\n\u001b[1;32m    929\u001b[0m \u001b[43m    \u001b[49m\u001b[43mX\u001b[49m\u001b[43m,\u001b[49m\n\u001b[1;32m    930\u001b[0m \u001b[43m    \u001b[49m\u001b[43my\u001b[49m\u001b[43m,\u001b[49m\n\u001b[1;32m    931\u001b[0m \u001b[43m    \u001b[49m\u001b[43msample_weight\u001b[49m\u001b[38;5;241;43m=\u001b[39;49m\u001b[43msample_weight\u001b[49m\u001b[43m,\u001b[49m\n\u001b[1;32m    932\u001b[0m \u001b[43m    \u001b[49m\u001b[43mwarm_start\u001b[49m\u001b[38;5;241;43m=\u001b[39;49m\u001b[43mwarm_start\u001b[49m\u001b[43m,\u001b[49m\n\u001b[1;32m    933\u001b[0m \u001b[43m    \u001b[49m\u001b[43mepochs\u001b[49m\u001b[38;5;241;43m=\u001b[39;49m\u001b[43mepochs\u001b[49m\u001b[43m,\u001b[49m\n\u001b[1;32m    934\u001b[0m \u001b[43m    \u001b[49m\u001b[43minitial_epoch\u001b[49m\u001b[38;5;241;43m=\u001b[39;49m\u001b[43minitial_epoch\u001b[49m\u001b[43m,\u001b[49m\n\u001b[1;32m    935\u001b[0m \u001b[43m    \u001b[49m\u001b[38;5;241;43m*\u001b[39;49m\u001b[38;5;241;43m*\u001b[39;49m\u001b[43mkwargs\u001b[49m\u001b[43m,\u001b[49m\n\u001b[1;32m    936\u001b[0m \u001b[43m\u001b[49m\u001b[43m)\u001b[49m\n",
      "File \u001b[0;32m~/opt/anaconda3/envs/ecgcap/lib/python3.8/site-packages/scikeras/wrappers.py:524\u001b[0m, in \u001b[0;36mBaseWrapper._fit_keras_model\u001b[0;34m(self, X, y, sample_weight, warm_start, epochs, initial_epoch, **kwargs)\u001b[0m\n\u001b[1;32m    522\u001b[0m         hist \u001b[38;5;241m=\u001b[39m \u001b[38;5;28mself\u001b[39m\u001b[38;5;241m.\u001b[39mmodel_\u001b[38;5;241m.\u001b[39mfit(x\u001b[38;5;241m=\u001b[39mX, y\u001b[38;5;241m=\u001b[39my, \u001b[38;5;241m*\u001b[39m\u001b[38;5;241m*\u001b[39mfit_args)\n\u001b[1;32m    523\u001b[0m \u001b[38;5;28;01melse\u001b[39;00m:\n\u001b[0;32m--> 524\u001b[0m     hist \u001b[38;5;241m=\u001b[39m \u001b[38;5;28;43mself\u001b[39;49m\u001b[38;5;241;43m.\u001b[39;49m\u001b[43mmodel_\u001b[49m\u001b[38;5;241;43m.\u001b[39;49m\u001b[43mfit\u001b[49m\u001b[43m(\u001b[49m\u001b[43mx\u001b[49m\u001b[38;5;241;43m=\u001b[39;49m\u001b[43mX\u001b[49m\u001b[43m,\u001b[49m\u001b[43m \u001b[49m\u001b[43my\u001b[49m\u001b[38;5;241;43m=\u001b[39;49m\u001b[43my\u001b[49m\u001b[43m,\u001b[49m\u001b[43m \u001b[49m\u001b[38;5;241;43m*\u001b[39;49m\u001b[38;5;241;43m*\u001b[39;49m\u001b[43mfit_args\u001b[49m\u001b[43m)\u001b[49m\n\u001b[1;32m    526\u001b[0m \u001b[38;5;28;01mif\u001b[39;00m \u001b[38;5;129;01mnot\u001b[39;00m warm_start \u001b[38;5;129;01mor\u001b[39;00m \u001b[38;5;129;01mnot\u001b[39;00m \u001b[38;5;28mhasattr\u001b[39m(\u001b[38;5;28mself\u001b[39m, \u001b[38;5;124m\"\u001b[39m\u001b[38;5;124mhistory_\u001b[39m\u001b[38;5;124m\"\u001b[39m) \u001b[38;5;129;01mor\u001b[39;00m initial_epoch \u001b[38;5;241m==\u001b[39m \u001b[38;5;241m0\u001b[39m:\n\u001b[1;32m    527\u001b[0m     \u001b[38;5;28mself\u001b[39m\u001b[38;5;241m.\u001b[39mhistory_ \u001b[38;5;241m=\u001b[39m defaultdict(\u001b[38;5;28mlist\u001b[39m)\n",
      "File \u001b[0;32m~/opt/anaconda3/envs/ecgcap/lib/python3.8/site-packages/keras/utils/traceback_utils.py:64\u001b[0m, in \u001b[0;36mfilter_traceback.<locals>.error_handler\u001b[0;34m(*args, **kwargs)\u001b[0m\n\u001b[1;32m     62\u001b[0m filtered_tb \u001b[38;5;241m=\u001b[39m \u001b[38;5;28;01mNone\u001b[39;00m\n\u001b[1;32m     63\u001b[0m \u001b[38;5;28;01mtry\u001b[39;00m:\n\u001b[0;32m---> 64\u001b[0m   \u001b[38;5;28;01mreturn\u001b[39;00m \u001b[43mfn\u001b[49m\u001b[43m(\u001b[49m\u001b[38;5;241;43m*\u001b[39;49m\u001b[43margs\u001b[49m\u001b[43m,\u001b[49m\u001b[43m \u001b[49m\u001b[38;5;241;43m*\u001b[39;49m\u001b[38;5;241;43m*\u001b[39;49m\u001b[43mkwargs\u001b[49m\u001b[43m)\u001b[49m\n\u001b[1;32m     65\u001b[0m \u001b[38;5;28;01mexcept\u001b[39;00m \u001b[38;5;167;01mException\u001b[39;00m \u001b[38;5;28;01mas\u001b[39;00m e:  \u001b[38;5;66;03m# pylint: disable=broad-except\u001b[39;00m\n\u001b[1;32m     66\u001b[0m   filtered_tb \u001b[38;5;241m=\u001b[39m _process_traceback_frames(e\u001b[38;5;241m.\u001b[39m__traceback__)\n",
      "File \u001b[0;32m~/opt/anaconda3/envs/ecgcap/lib/python3.8/site-packages/keras/engine/training.py:1216\u001b[0m, in \u001b[0;36mModel.fit\u001b[0;34m(self, x, y, batch_size, epochs, verbose, callbacks, validation_split, validation_data, shuffle, class_weight, sample_weight, initial_epoch, steps_per_epoch, validation_steps, validation_batch_size, validation_freq, max_queue_size, workers, use_multiprocessing)\u001b[0m\n\u001b[1;32m   1209\u001b[0m \u001b[38;5;28;01mwith\u001b[39;00m tf\u001b[38;5;241m.\u001b[39mprofiler\u001b[38;5;241m.\u001b[39mexperimental\u001b[38;5;241m.\u001b[39mTrace(\n\u001b[1;32m   1210\u001b[0m     \u001b[38;5;124m'\u001b[39m\u001b[38;5;124mtrain\u001b[39m\u001b[38;5;124m'\u001b[39m,\n\u001b[1;32m   1211\u001b[0m     epoch_num\u001b[38;5;241m=\u001b[39mepoch,\n\u001b[1;32m   1212\u001b[0m     step_num\u001b[38;5;241m=\u001b[39mstep,\n\u001b[1;32m   1213\u001b[0m     batch_size\u001b[38;5;241m=\u001b[39mbatch_size,\n\u001b[1;32m   1214\u001b[0m     _r\u001b[38;5;241m=\u001b[39m\u001b[38;5;241m1\u001b[39m):\n\u001b[1;32m   1215\u001b[0m   callbacks\u001b[38;5;241m.\u001b[39mon_train_batch_begin(step)\n\u001b[0;32m-> 1216\u001b[0m   tmp_logs \u001b[38;5;241m=\u001b[39m \u001b[38;5;28;43mself\u001b[39;49m\u001b[38;5;241;43m.\u001b[39;49m\u001b[43mtrain_function\u001b[49m\u001b[43m(\u001b[49m\u001b[43miterator\u001b[49m\u001b[43m)\u001b[49m\n\u001b[1;32m   1217\u001b[0m   \u001b[38;5;28;01mif\u001b[39;00m data_handler\u001b[38;5;241m.\u001b[39mshould_sync:\n\u001b[1;32m   1218\u001b[0m     context\u001b[38;5;241m.\u001b[39masync_wait()\n",
      "File \u001b[0;32m~/opt/anaconda3/envs/ecgcap/lib/python3.8/site-packages/tensorflow/python/util/traceback_utils.py:150\u001b[0m, in \u001b[0;36mfilter_traceback.<locals>.error_handler\u001b[0;34m(*args, **kwargs)\u001b[0m\n\u001b[1;32m    148\u001b[0m filtered_tb \u001b[38;5;241m=\u001b[39m \u001b[38;5;28;01mNone\u001b[39;00m\n\u001b[1;32m    149\u001b[0m \u001b[38;5;28;01mtry\u001b[39;00m:\n\u001b[0;32m--> 150\u001b[0m   \u001b[38;5;28;01mreturn\u001b[39;00m \u001b[43mfn\u001b[49m\u001b[43m(\u001b[49m\u001b[38;5;241;43m*\u001b[39;49m\u001b[43margs\u001b[49m\u001b[43m,\u001b[49m\u001b[43m \u001b[49m\u001b[38;5;241;43m*\u001b[39;49m\u001b[38;5;241;43m*\u001b[39;49m\u001b[43mkwargs\u001b[49m\u001b[43m)\u001b[49m\n\u001b[1;32m    151\u001b[0m \u001b[38;5;28;01mexcept\u001b[39;00m \u001b[38;5;167;01mException\u001b[39;00m \u001b[38;5;28;01mas\u001b[39;00m e:\n\u001b[1;32m    152\u001b[0m   filtered_tb \u001b[38;5;241m=\u001b[39m _process_traceback_frames(e\u001b[38;5;241m.\u001b[39m__traceback__)\n",
      "File \u001b[0;32m~/opt/anaconda3/envs/ecgcap/lib/python3.8/site-packages/tensorflow/python/eager/def_function.py:910\u001b[0m, in \u001b[0;36mFunction.__call__\u001b[0;34m(self, *args, **kwds)\u001b[0m\n\u001b[1;32m    907\u001b[0m compiler \u001b[38;5;241m=\u001b[39m \u001b[38;5;124m\"\u001b[39m\u001b[38;5;124mxla\u001b[39m\u001b[38;5;124m\"\u001b[39m \u001b[38;5;28;01mif\u001b[39;00m \u001b[38;5;28mself\u001b[39m\u001b[38;5;241m.\u001b[39m_jit_compile \u001b[38;5;28;01melse\u001b[39;00m \u001b[38;5;124m\"\u001b[39m\u001b[38;5;124mnonXla\u001b[39m\u001b[38;5;124m\"\u001b[39m\n\u001b[1;32m    909\u001b[0m \u001b[38;5;28;01mwith\u001b[39;00m OptionalXlaContext(\u001b[38;5;28mself\u001b[39m\u001b[38;5;241m.\u001b[39m_jit_compile):\n\u001b[0;32m--> 910\u001b[0m   result \u001b[38;5;241m=\u001b[39m \u001b[38;5;28;43mself\u001b[39;49m\u001b[38;5;241;43m.\u001b[39;49m\u001b[43m_call\u001b[49m\u001b[43m(\u001b[49m\u001b[38;5;241;43m*\u001b[39;49m\u001b[43margs\u001b[49m\u001b[43m,\u001b[49m\u001b[43m \u001b[49m\u001b[38;5;241;43m*\u001b[39;49m\u001b[38;5;241;43m*\u001b[39;49m\u001b[43mkwds\u001b[49m\u001b[43m)\u001b[49m\n\u001b[1;32m    912\u001b[0m new_tracing_count \u001b[38;5;241m=\u001b[39m \u001b[38;5;28mself\u001b[39m\u001b[38;5;241m.\u001b[39mexperimental_get_tracing_count()\n\u001b[1;32m    913\u001b[0m without_tracing \u001b[38;5;241m=\u001b[39m (tracing_count \u001b[38;5;241m==\u001b[39m new_tracing_count)\n",
      "File \u001b[0;32m~/opt/anaconda3/envs/ecgcap/lib/python3.8/site-packages/tensorflow/python/eager/def_function.py:942\u001b[0m, in \u001b[0;36mFunction._call\u001b[0;34m(self, *args, **kwds)\u001b[0m\n\u001b[1;32m    939\u001b[0m   \u001b[38;5;28mself\u001b[39m\u001b[38;5;241m.\u001b[39m_lock\u001b[38;5;241m.\u001b[39mrelease()\n\u001b[1;32m    940\u001b[0m   \u001b[38;5;66;03m# In this case we have created variables on the first call, so we run the\u001b[39;00m\n\u001b[1;32m    941\u001b[0m   \u001b[38;5;66;03m# defunned version which is guaranteed to never create variables.\u001b[39;00m\n\u001b[0;32m--> 942\u001b[0m   \u001b[38;5;28;01mreturn\u001b[39;00m \u001b[38;5;28;43mself\u001b[39;49m\u001b[38;5;241;43m.\u001b[39;49m\u001b[43m_stateless_fn\u001b[49m\u001b[43m(\u001b[49m\u001b[38;5;241;43m*\u001b[39;49m\u001b[43margs\u001b[49m\u001b[43m,\u001b[49m\u001b[43m \u001b[49m\u001b[38;5;241;43m*\u001b[39;49m\u001b[38;5;241;43m*\u001b[39;49m\u001b[43mkwds\u001b[49m\u001b[43m)\u001b[49m  \u001b[38;5;66;03m# pylint: disable=not-callable\u001b[39;00m\n\u001b[1;32m    943\u001b[0m \u001b[38;5;28;01melif\u001b[39;00m \u001b[38;5;28mself\u001b[39m\u001b[38;5;241m.\u001b[39m_stateful_fn \u001b[38;5;129;01mis\u001b[39;00m \u001b[38;5;129;01mnot\u001b[39;00m \u001b[38;5;28;01mNone\u001b[39;00m:\n\u001b[1;32m    944\u001b[0m   \u001b[38;5;66;03m# Release the lock early so that multiple threads can perform the call\u001b[39;00m\n\u001b[1;32m    945\u001b[0m   \u001b[38;5;66;03m# in parallel.\u001b[39;00m\n\u001b[1;32m    946\u001b[0m   \u001b[38;5;28mself\u001b[39m\u001b[38;5;241m.\u001b[39m_lock\u001b[38;5;241m.\u001b[39mrelease()\n",
      "File \u001b[0;32m~/opt/anaconda3/envs/ecgcap/lib/python3.8/site-packages/tensorflow/python/eager/function.py:3130\u001b[0m, in \u001b[0;36mFunction.__call__\u001b[0;34m(self, *args, **kwargs)\u001b[0m\n\u001b[1;32m   3127\u001b[0m \u001b[38;5;28;01mwith\u001b[39;00m \u001b[38;5;28mself\u001b[39m\u001b[38;5;241m.\u001b[39m_lock:\n\u001b[1;32m   3128\u001b[0m   (graph_function,\n\u001b[1;32m   3129\u001b[0m    filtered_flat_args) \u001b[38;5;241m=\u001b[39m \u001b[38;5;28mself\u001b[39m\u001b[38;5;241m.\u001b[39m_maybe_define_function(args, kwargs)\n\u001b[0;32m-> 3130\u001b[0m \u001b[38;5;28;01mreturn\u001b[39;00m \u001b[43mgraph_function\u001b[49m\u001b[38;5;241;43m.\u001b[39;49m\u001b[43m_call_flat\u001b[49m\u001b[43m(\u001b[49m\n\u001b[1;32m   3131\u001b[0m \u001b[43m    \u001b[49m\u001b[43mfiltered_flat_args\u001b[49m\u001b[43m,\u001b[49m\u001b[43m \u001b[49m\u001b[43mcaptured_inputs\u001b[49m\u001b[38;5;241;43m=\u001b[39;49m\u001b[43mgraph_function\u001b[49m\u001b[38;5;241;43m.\u001b[39;49m\u001b[43mcaptured_inputs\u001b[49m\u001b[43m)\u001b[49m\n",
      "File \u001b[0;32m~/opt/anaconda3/envs/ecgcap/lib/python3.8/site-packages/tensorflow/python/eager/function.py:1959\u001b[0m, in \u001b[0;36mConcreteFunction._call_flat\u001b[0;34m(self, args, captured_inputs, cancellation_manager)\u001b[0m\n\u001b[1;32m   1955\u001b[0m possible_gradient_type \u001b[38;5;241m=\u001b[39m gradients_util\u001b[38;5;241m.\u001b[39mPossibleTapeGradientTypes(args)\n\u001b[1;32m   1956\u001b[0m \u001b[38;5;28;01mif\u001b[39;00m (possible_gradient_type \u001b[38;5;241m==\u001b[39m gradients_util\u001b[38;5;241m.\u001b[39mPOSSIBLE_GRADIENT_TYPES_NONE\n\u001b[1;32m   1957\u001b[0m     \u001b[38;5;129;01mand\u001b[39;00m executing_eagerly):\n\u001b[1;32m   1958\u001b[0m   \u001b[38;5;66;03m# No tape is watching; skip to running the function.\u001b[39;00m\n\u001b[0;32m-> 1959\u001b[0m   \u001b[38;5;28;01mreturn\u001b[39;00m \u001b[38;5;28mself\u001b[39m\u001b[38;5;241m.\u001b[39m_build_call_outputs(\u001b[38;5;28;43mself\u001b[39;49m\u001b[38;5;241;43m.\u001b[39;49m\u001b[43m_inference_function\u001b[49m\u001b[38;5;241;43m.\u001b[39;49m\u001b[43mcall\u001b[49m\u001b[43m(\u001b[49m\n\u001b[1;32m   1960\u001b[0m \u001b[43m      \u001b[49m\u001b[43mctx\u001b[49m\u001b[43m,\u001b[49m\u001b[43m \u001b[49m\u001b[43margs\u001b[49m\u001b[43m,\u001b[49m\u001b[43m \u001b[49m\u001b[43mcancellation_manager\u001b[49m\u001b[38;5;241;43m=\u001b[39;49m\u001b[43mcancellation_manager\u001b[49m\u001b[43m)\u001b[49m)\n\u001b[1;32m   1961\u001b[0m forward_backward \u001b[38;5;241m=\u001b[39m \u001b[38;5;28mself\u001b[39m\u001b[38;5;241m.\u001b[39m_select_forward_and_backward_functions(\n\u001b[1;32m   1962\u001b[0m     args,\n\u001b[1;32m   1963\u001b[0m     possible_gradient_type,\n\u001b[1;32m   1964\u001b[0m     executing_eagerly)\n\u001b[1;32m   1965\u001b[0m forward_function, args_with_tangents \u001b[38;5;241m=\u001b[39m forward_backward\u001b[38;5;241m.\u001b[39mforward()\n",
      "File \u001b[0;32m~/opt/anaconda3/envs/ecgcap/lib/python3.8/site-packages/tensorflow/python/eager/function.py:598\u001b[0m, in \u001b[0;36m_EagerDefinedFunction.call\u001b[0;34m(self, ctx, args, cancellation_manager)\u001b[0m\n\u001b[1;32m    596\u001b[0m \u001b[38;5;28;01mwith\u001b[39;00m _InterpolateFunctionError(\u001b[38;5;28mself\u001b[39m):\n\u001b[1;32m    597\u001b[0m   \u001b[38;5;28;01mif\u001b[39;00m cancellation_manager \u001b[38;5;129;01mis\u001b[39;00m \u001b[38;5;28;01mNone\u001b[39;00m:\n\u001b[0;32m--> 598\u001b[0m     outputs \u001b[38;5;241m=\u001b[39m \u001b[43mexecute\u001b[49m\u001b[38;5;241;43m.\u001b[39;49m\u001b[43mexecute\u001b[49m\u001b[43m(\u001b[49m\n\u001b[1;32m    599\u001b[0m \u001b[43m        \u001b[49m\u001b[38;5;28;43mstr\u001b[39;49m\u001b[43m(\u001b[49m\u001b[38;5;28;43mself\u001b[39;49m\u001b[38;5;241;43m.\u001b[39;49m\u001b[43msignature\u001b[49m\u001b[38;5;241;43m.\u001b[39;49m\u001b[43mname\u001b[49m\u001b[43m)\u001b[49m\u001b[43m,\u001b[49m\n\u001b[1;32m    600\u001b[0m \u001b[43m        \u001b[49m\u001b[43mnum_outputs\u001b[49m\u001b[38;5;241;43m=\u001b[39;49m\u001b[38;5;28;43mself\u001b[39;49m\u001b[38;5;241;43m.\u001b[39;49m\u001b[43m_num_outputs\u001b[49m\u001b[43m,\u001b[49m\n\u001b[1;32m    601\u001b[0m \u001b[43m        \u001b[49m\u001b[43minputs\u001b[49m\u001b[38;5;241;43m=\u001b[39;49m\u001b[43margs\u001b[49m\u001b[43m,\u001b[49m\n\u001b[1;32m    602\u001b[0m \u001b[43m        \u001b[49m\u001b[43mattrs\u001b[49m\u001b[38;5;241;43m=\u001b[39;49m\u001b[43mattrs\u001b[49m\u001b[43m,\u001b[49m\n\u001b[1;32m    603\u001b[0m \u001b[43m        \u001b[49m\u001b[43mctx\u001b[49m\u001b[38;5;241;43m=\u001b[39;49m\u001b[43mctx\u001b[49m\u001b[43m)\u001b[49m\n\u001b[1;32m    604\u001b[0m   \u001b[38;5;28;01melse\u001b[39;00m:\n\u001b[1;32m    605\u001b[0m     outputs \u001b[38;5;241m=\u001b[39m execute\u001b[38;5;241m.\u001b[39mexecute_with_cancellation(\n\u001b[1;32m    606\u001b[0m         \u001b[38;5;28mstr\u001b[39m(\u001b[38;5;28mself\u001b[39m\u001b[38;5;241m.\u001b[39msignature\u001b[38;5;241m.\u001b[39mname),\n\u001b[1;32m    607\u001b[0m         num_outputs\u001b[38;5;241m=\u001b[39m\u001b[38;5;28mself\u001b[39m\u001b[38;5;241m.\u001b[39m_num_outputs,\n\u001b[0;32m   (...)\u001b[0m\n\u001b[1;32m    610\u001b[0m         ctx\u001b[38;5;241m=\u001b[39mctx,\n\u001b[1;32m    611\u001b[0m         cancellation_manager\u001b[38;5;241m=\u001b[39mcancellation_manager)\n",
      "File \u001b[0;32m~/opt/anaconda3/envs/ecgcap/lib/python3.8/site-packages/tensorflow/python/eager/execute.py:58\u001b[0m, in \u001b[0;36mquick_execute\u001b[0;34m(op_name, num_outputs, inputs, attrs, ctx, name)\u001b[0m\n\u001b[1;32m     56\u001b[0m \u001b[38;5;28;01mtry\u001b[39;00m:\n\u001b[1;32m     57\u001b[0m   ctx\u001b[38;5;241m.\u001b[39mensure_initialized()\n\u001b[0;32m---> 58\u001b[0m   tensors \u001b[38;5;241m=\u001b[39m \u001b[43mpywrap_tfe\u001b[49m\u001b[38;5;241;43m.\u001b[39;49m\u001b[43mTFE_Py_Execute\u001b[49m\u001b[43m(\u001b[49m\u001b[43mctx\u001b[49m\u001b[38;5;241;43m.\u001b[39;49m\u001b[43m_handle\u001b[49m\u001b[43m,\u001b[49m\u001b[43m \u001b[49m\u001b[43mdevice_name\u001b[49m\u001b[43m,\u001b[49m\u001b[43m \u001b[49m\u001b[43mop_name\u001b[49m\u001b[43m,\u001b[49m\n\u001b[1;32m     59\u001b[0m \u001b[43m                                      \u001b[49m\u001b[43minputs\u001b[49m\u001b[43m,\u001b[49m\u001b[43m \u001b[49m\u001b[43mattrs\u001b[49m\u001b[43m,\u001b[49m\u001b[43m \u001b[49m\u001b[43mnum_outputs\u001b[49m\u001b[43m)\u001b[49m\n\u001b[1;32m     60\u001b[0m \u001b[38;5;28;01mexcept\u001b[39;00m core\u001b[38;5;241m.\u001b[39m_NotOkStatusException \u001b[38;5;28;01mas\u001b[39;00m e:\n\u001b[1;32m     61\u001b[0m   \u001b[38;5;28;01mif\u001b[39;00m name \u001b[38;5;129;01mis\u001b[39;00m \u001b[38;5;129;01mnot\u001b[39;00m \u001b[38;5;28;01mNone\u001b[39;00m:\n",
      "\u001b[0;31mKeyboardInterrupt\u001b[0m: "
     ]
    }
   ],
   "source": [
    "# Initialize grid\n",
    "grid = GridSearchCV(estimator=models, param_grid=param_grid, cv=3, verbose=3)\n",
    "\n",
    "# Fit grid\n",
    "grid_result = grid.fit(X_train, y_train)"
   ]
  },
  {
   "cell_type": "markdown",
   "id": "624a0eb4",
   "metadata": {},
   "source": [
    "> The grid search above ended up taking too much time (the above results were cumulated over a 10 hour grid search and it was only 1/3 of the search), as such we stopped it. However, we noted down some models to have performed pretty well, notably in one of the runs we a **validation accuracy of 84.95%**. We will use the parameters for this result to run another grid search. \n",
    "\n",
    "Resetting our parameter grid, we want to see how high the accuracy scores can go. As such we perform another gridsearch using cross-validation."
   ]
  },
  {
   "cell_type": "code",
   "execution_count": 100,
   "id": "cb8e8d88",
   "metadata": {},
   "outputs": [],
   "source": [
    "# Set callbacks\n",
    "callbacks = keras.callbacks.EarlyStopping(monitor='val_loss', \n",
    "                                          verbose=1, \n",
    "                                          restore_best_weights=True,\n",
    "                                          patience=3\n",
    ")\n",
    "\n",
    "# Set our parameter grid with different batch sizes, epochs and learning rate\n",
    "param_grid = dict(batch_size=[32], \n",
    "                  epochs=[25], \n",
    "                  optimizer__learning_rate=[0.005])\n",
    "\n",
    "# Create an instance of the KerasClassifier to be used in GridSearchCV\n",
    "models = KerasClassifier(model=create_model, validation_split=0.1)"
   ]
  },
  {
   "cell_type": "markdown",
   "id": "b753d9f7",
   "metadata": {},
   "source": [
    "Next, we initialize the grid itself and fit it to our training data. "
   ]
  },
  {
   "cell_type": "code",
   "execution_count": 102,
   "id": "039e9486",
   "metadata": {
    "collapsed": true
   },
   "outputs": [
    {
     "name": "stdout",
     "output_type": "stream",
     "text": [
      "Epoch 1/25\n",
      "236/236 [==============================] - 134s 556ms/step - loss: 0.7098 - binary_accuracy: 0.5356 - val_loss: 0.6931 - val_binary_accuracy: 0.5371\n",
      "Epoch 2/25\n",
      "236/236 [==============================] - 126s 533ms/step - loss: 0.6879 - binary_accuracy: 0.5528 - val_loss: 0.6883 - val_binary_accuracy: 0.5132\n",
      "Epoch 3/25\n",
      "236/236 [==============================] - 124s 527ms/step - loss: 0.6720 - binary_accuracy: 0.5683 - val_loss: 0.6814 - val_binary_accuracy: 0.6172\n",
      "Epoch 4/25\n",
      "236/236 [==============================] - 124s 524ms/step - loss: 0.5572 - binary_accuracy: 0.7055 - val_loss: 0.5000 - val_binary_accuracy: 0.7464\n",
      "Epoch 5/25\n",
      "236/236 [==============================] - 118s 501ms/step - loss: 0.4627 - binary_accuracy: 0.7869 - val_loss: 0.5491 - val_binary_accuracy: 0.7225\n",
      "Epoch 6/25\n",
      "236/236 [==============================] - 124s 526ms/step - loss: 0.4440 - binary_accuracy: 0.7996 - val_loss: 0.4987 - val_binary_accuracy: 0.7644\n",
      "Epoch 7/25\n",
      "236/236 [==============================] - 123s 521ms/step - loss: 0.4312 - binary_accuracy: 0.8046 - val_loss: 0.4810 - val_binary_accuracy: 0.7715\n",
      "Epoch 8/25\n",
      "236/236 [==============================] - 129s 545ms/step - loss: 0.4186 - binary_accuracy: 0.8121 - val_loss: 0.4478 - val_binary_accuracy: 0.7990\n",
      "Epoch 9/25\n",
      "236/236 [==============================] - 125s 532ms/step - loss: 0.4197 - binary_accuracy: 0.8165 - val_loss: 0.5028 - val_binary_accuracy: 0.7440\n",
      "Epoch 10/25\n",
      "236/236 [==============================] - 121s 512ms/step - loss: 0.4042 - binary_accuracy: 0.8235 - val_loss: 0.4073 - val_binary_accuracy: 0.8074\n",
      "Epoch 11/25\n",
      "236/236 [==============================] - 119s 504ms/step - loss: 0.4027 - binary_accuracy: 0.8235 - val_loss: 0.3655 - val_binary_accuracy: 0.8349\n",
      "Epoch 12/25\n",
      "236/236 [==============================] - 127s 540ms/step - loss: 0.4048 - binary_accuracy: 0.8211 - val_loss: 0.3943 - val_binary_accuracy: 0.8289\n",
      "Epoch 13/25\n",
      "236/236 [==============================] - 139s 591ms/step - loss: 0.4023 - binary_accuracy: 0.8227 - val_loss: 0.4132 - val_binary_accuracy: 0.8134\n",
      "Epoch 14/25\n",
      "236/236 [==============================] - 123s 522ms/step - loss: 0.4013 - binary_accuracy: 0.8220 - val_loss: 0.4333 - val_binary_accuracy: 0.7907\n",
      "Epoch 15/25\n",
      "236/236 [==============================] - 120s 510ms/step - loss: 0.3950 - binary_accuracy: 0.8246 - val_loss: 0.5846 - val_binary_accuracy: 0.7165\n",
      "Epoch 16/25\n",
      "236/236 [==============================] - 122s 518ms/step - loss: 0.3963 - binary_accuracy: 0.8280 - val_loss: 0.4094 - val_binary_accuracy: 0.8110\n",
      "Epoch 17/25\n",
      "236/236 [==============================] - 120s 509ms/step - loss: 0.3953 - binary_accuracy: 0.8291 - val_loss: 0.3877 - val_binary_accuracy: 0.8325\n",
      "Epoch 18/25\n",
      "236/236 [==============================] - 121s 513ms/step - loss: 0.3946 - binary_accuracy: 0.8259 - val_loss: 0.4330 - val_binary_accuracy: 0.7990\n",
      "Epoch 19/25\n",
      "236/236 [==============================] - 121s 510ms/step - loss: 0.3947 - binary_accuracy: 0.8329 - val_loss: 0.5646 - val_binary_accuracy: 0.7452\n",
      "Epoch 20/25\n",
      "236/236 [==============================] - 125s 529ms/step - loss: 0.3881 - binary_accuracy: 0.8319 - val_loss: 0.4201 - val_binary_accuracy: 0.8146\n",
      "Epoch 21/25\n",
      "236/236 [==============================] - 124s 524ms/step - loss: 0.3865 - binary_accuracy: 0.8301 - val_loss: 0.4243 - val_binary_accuracy: 0.8050\n",
      "Epoch 22/25\n",
      "236/236 [==============================] - 122s 516ms/step - loss: 0.3909 - binary_accuracy: 0.8307 - val_loss: 0.3686 - val_binary_accuracy: 0.8397\n",
      "Epoch 23/25\n",
      "236/236 [==============================] - 121s 512ms/step - loss: 0.3917 - binary_accuracy: 0.8285 - val_loss: 0.5012 - val_binary_accuracy: 0.7404\n",
      "Epoch 24/25\n",
      "236/236 [==============================] - 122s 516ms/step - loss: 0.3845 - binary_accuracy: 0.8303 - val_loss: 0.4120 - val_binary_accuracy: 0.8289\n",
      "Epoch 25/25\n",
      "236/236 [==============================] - 120s 508ms/step - loss: 0.3922 - binary_accuracy: 0.8327 - val_loss: 0.3968 - val_binary_accuracy: 0.8098\n",
      "131/131 [==============================] - 12s 86ms/step\n",
      "Epoch 1/25\n",
      "236/236 [==============================] - 125s 519ms/step - loss: 0.7072 - binary_accuracy: 0.5375 - val_loss: 0.6911 - val_binary_accuracy: 0.5352\n",
      "Epoch 2/25\n",
      "236/236 [==============================] - 123s 521ms/step - loss: 0.6879 - binary_accuracy: 0.5545 - val_loss: 0.6877 - val_binary_accuracy: 0.5329\n",
      "Epoch 3/25\n",
      "236/236 [==============================] - 123s 523ms/step - loss: 0.6166 - binary_accuracy: 0.6453 - val_loss: 1.5694 - val_binary_accuracy: 0.5364\n",
      "Epoch 4/25\n",
      "236/236 [==============================] - 124s 524ms/step - loss: 0.4808 - binary_accuracy: 0.7710 - val_loss: 0.5272 - val_binary_accuracy: 0.7515\n",
      "Epoch 5/25\n",
      "236/236 [==============================] - 122s 516ms/step - loss: 0.4610 - binary_accuracy: 0.7877 - val_loss: 0.7561 - val_binary_accuracy: 0.6547\n",
      "Epoch 6/25\n",
      "236/236 [==============================] - 123s 523ms/step - loss: 0.4408 - binary_accuracy: 0.8032 - val_loss: 0.5177 - val_binary_accuracy: 0.7348\n",
      "Epoch 7/25\n",
      "236/236 [==============================] - 122s 516ms/step - loss: 0.4276 - binary_accuracy: 0.8094 - val_loss: 0.4140 - val_binary_accuracy: 0.8208\n",
      "Epoch 8/25\n",
      "236/236 [==============================] - 120s 508ms/step - loss: 0.4175 - binary_accuracy: 0.8109 - val_loss: 0.6449 - val_binary_accuracy: 0.6249\n",
      "Epoch 9/25\n",
      "236/236 [==============================] - 126s 533ms/step - loss: 0.4088 - binary_accuracy: 0.8157 - val_loss: 0.3883 - val_binary_accuracy: 0.8268\n",
      "Epoch 10/25\n",
      "236/236 [==============================] - 132s 560ms/step - loss: 0.4073 - binary_accuracy: 0.8149 - val_loss: 0.5963 - val_binary_accuracy: 0.6141\n",
      "Epoch 11/25\n",
      "236/236 [==============================] - 129s 547ms/step - loss: 0.4026 - binary_accuracy: 0.8166 - val_loss: 0.4235 - val_binary_accuracy: 0.8124\n",
      "Epoch 12/25\n",
      "236/236 [==============================] - 133s 566ms/step - loss: 0.4007 - binary_accuracy: 0.8227 - val_loss: 0.4036 - val_binary_accuracy: 0.8208\n",
      "Epoch 13/25\n",
      "236/236 [==============================] - 129s 548ms/step - loss: 0.4103 - binary_accuracy: 0.8129 - val_loss: 0.5927 - val_binary_accuracy: 0.7993\n",
      "Epoch 14/25\n",
      "236/236 [==============================] - 122s 519ms/step - loss: 0.3961 - binary_accuracy: 0.8199 - val_loss: 0.4554 - val_binary_accuracy: 0.7957\n",
      "Epoch 15/25\n",
      "236/236 [==============================] - 121s 511ms/step - loss: 0.3981 - binary_accuracy: 0.8192 - val_loss: 0.3986 - val_binary_accuracy: 0.8244\n",
      "Epoch 16/25\n",
      "236/236 [==============================] - 126s 534ms/step - loss: 0.3937 - binary_accuracy: 0.8256 - val_loss: 0.3892 - val_binary_accuracy: 0.8339\n",
      "Epoch 17/25\n",
      "236/236 [==============================] - 124s 527ms/step - loss: 0.3944 - binary_accuracy: 0.8259 - val_loss: 0.4107 - val_binary_accuracy: 0.8041\n",
      "Epoch 18/25\n",
      "236/236 [==============================] - 125s 530ms/step - loss: 0.3902 - binary_accuracy: 0.8266 - val_loss: 0.4346 - val_binary_accuracy: 0.7957\n",
      "Epoch 19/25\n",
      "236/236 [==============================] - 126s 535ms/step - loss: 0.3874 - binary_accuracy: 0.8255 - val_loss: 0.4556 - val_binary_accuracy: 0.7921\n",
      "Epoch 20/25\n",
      "236/236 [==============================] - 121s 514ms/step - loss: 0.3882 - binary_accuracy: 0.8248 - val_loss: 0.4444 - val_binary_accuracy: 0.7849\n",
      "Epoch 21/25\n",
      "236/236 [==============================] - 122s 519ms/step - loss: 0.3869 - binary_accuracy: 0.8297 - val_loss: 1.3463 - val_binary_accuracy: 0.5388\n",
      "Epoch 22/25\n",
      "236/236 [==============================] - 132s 558ms/step - loss: 0.3914 - binary_accuracy: 0.8343 - val_loss: 0.3585 - val_binary_accuracy: 0.8507\n",
      "Epoch 23/25\n",
      "236/236 [==============================] - 124s 523ms/step - loss: 0.3792 - binary_accuracy: 0.8285 - val_loss: 0.6089 - val_binary_accuracy: 0.7372\n",
      "Epoch 24/25\n",
      "236/236 [==============================] - 127s 538ms/step - loss: 0.3922 - binary_accuracy: 0.8312 - val_loss: 0.4072 - val_binary_accuracy: 0.8148\n",
      "Epoch 25/25\n",
      "236/236 [==============================] - 128s 540ms/step - loss: 0.3752 - binary_accuracy: 0.8357 - val_loss: 0.5632 - val_binary_accuracy: 0.7061\n",
      "131/131 [==============================] - 12s 85ms/step\n",
      "Epoch 1/25\n",
      "236/236 [==============================] - 134s 558ms/step - loss: 0.7126 - binary_accuracy: 0.5447 - val_loss: 0.6849 - val_binary_accuracy: 0.5735\n",
      "Epoch 2/25\n",
      "236/236 [==============================] - 123s 520ms/step - loss: 0.6600 - binary_accuracy: 0.5916 - val_loss: 0.8862 - val_binary_accuracy: 0.6141\n",
      "Epoch 3/25\n",
      "236/236 [==============================] - 122s 515ms/step - loss: 0.5639 - binary_accuracy: 0.6978 - val_loss: 0.4674 - val_binary_accuracy: 0.7754\n",
      "Epoch 4/25\n",
      "236/236 [==============================] - 123s 519ms/step - loss: 0.4749 - binary_accuracy: 0.7815 - val_loss: 0.4599 - val_binary_accuracy: 0.7658\n",
      "Epoch 5/25\n",
      "236/236 [==============================] - 123s 523ms/step - loss: 0.4548 - binary_accuracy: 0.7963 - val_loss: 0.4349 - val_binary_accuracy: 0.7814\n",
      "Epoch 6/25\n",
      "236/236 [==============================] - 127s 540ms/step - loss: 0.4339 - binary_accuracy: 0.8064 - val_loss: 0.4253 - val_binary_accuracy: 0.7969\n",
      "Epoch 7/25\n",
      "236/236 [==============================] - 124s 526ms/step - loss: 0.4330 - binary_accuracy: 0.8072 - val_loss: 0.4556 - val_binary_accuracy: 0.7742\n",
      "Epoch 8/25\n",
      "236/236 [==============================] - 122s 517ms/step - loss: 0.4202 - binary_accuracy: 0.8085 - val_loss: 0.4121 - val_binary_accuracy: 0.8100\n",
      "Epoch 9/25\n",
      "236/236 [==============================] - 122s 518ms/step - loss: 0.4242 - binary_accuracy: 0.8105 - val_loss: 0.4103 - val_binary_accuracy: 0.8184\n",
      "Epoch 10/25\n",
      "236/236 [==============================] - 128s 544ms/step - loss: 0.4184 - binary_accuracy: 0.8169 - val_loss: 0.3934 - val_binary_accuracy: 0.8136\n",
      "Epoch 11/25\n",
      "236/236 [==============================] - 120s 508ms/step - loss: 0.4147 - binary_accuracy: 0.8139 - val_loss: 0.4348 - val_binary_accuracy: 0.7849\n",
      "Epoch 12/25\n",
      "236/236 [==============================] - 120s 509ms/step - loss: 0.4120 - binary_accuracy: 0.8141 - val_loss: 0.3708 - val_binary_accuracy: 0.8303\n",
      "Epoch 13/25\n",
      "236/236 [==============================] - 122s 515ms/step - loss: 0.4133 - binary_accuracy: 0.8106 - val_loss: 0.3722 - val_binary_accuracy: 0.8244\n",
      "Epoch 14/25\n",
      "236/236 [==============================] - 122s 516ms/step - loss: 0.4085 - binary_accuracy: 0.8218 - val_loss: 0.4316 - val_binary_accuracy: 0.7933\n",
      "Epoch 15/25\n",
      "236/236 [==============================] - 122s 518ms/step - loss: 0.4072 - binary_accuracy: 0.8202 - val_loss: 0.4994 - val_binary_accuracy: 0.7419\n",
      "Epoch 16/25\n",
      "236/236 [==============================] - 123s 522ms/step - loss: 0.4080 - binary_accuracy: 0.8158 - val_loss: 0.4433 - val_binary_accuracy: 0.7790\n",
      "Epoch 17/25\n",
      "236/236 [==============================] - 121s 515ms/step - loss: 0.4261 - binary_accuracy: 0.8058 - val_loss: 0.3828 - val_binary_accuracy: 0.8280\n",
      "Epoch 18/25\n",
      "236/236 [==============================] - 122s 518ms/step - loss: 0.4079 - binary_accuracy: 0.8184 - val_loss: 0.3715 - val_binary_accuracy: 0.8363\n",
      "Epoch 19/25\n",
      "236/236 [==============================] - 122s 515ms/step - loss: 0.4024 - binary_accuracy: 0.8190 - val_loss: 0.4496 - val_binary_accuracy: 0.7802\n",
      "Epoch 20/25\n",
      "236/236 [==============================] - 122s 516ms/step - loss: 0.4016 - binary_accuracy: 0.8216 - val_loss: 0.5110 - val_binary_accuracy: 0.7491\n",
      "Epoch 21/25\n",
      "236/236 [==============================] - 121s 515ms/step - loss: 0.3991 - binary_accuracy: 0.8207 - val_loss: 0.5568 - val_binary_accuracy: 0.6906\n",
      "Epoch 22/25\n",
      "236/236 [==============================] - 124s 525ms/step - loss: 0.3982 - binary_accuracy: 0.8234 - val_loss: 0.4217 - val_binary_accuracy: 0.7969\n",
      "Epoch 23/25\n",
      "236/236 [==============================] - 127s 540ms/step - loss: 0.3973 - binary_accuracy: 0.8210 - val_loss: 0.3927 - val_binary_accuracy: 0.8268\n",
      "Epoch 24/25\n",
      "236/236 [==============================] - 122s 518ms/step - loss: 0.4077 - binary_accuracy: 0.8162 - val_loss: 0.4229 - val_binary_accuracy: 0.8124\n",
      "Epoch 25/25\n",
      "236/236 [==============================] - 122s 518ms/step - loss: 0.3999 - binary_accuracy: 0.8223 - val_loss: 0.3712 - val_binary_accuracy: 0.8387\n",
      "131/131 [==============================] - 11s 82ms/step\n",
      "Epoch 1/25\n",
      "353/353 [==============================] - 186s 519ms/step - loss: 0.7113 - binary_accuracy: 0.5419 - val_loss: 0.6956 - val_binary_accuracy: 0.5482\n",
      "Epoch 2/25\n",
      "353/353 [==============================] - 184s 521ms/step - loss: 0.6783 - binary_accuracy: 0.5655 - val_loss: 0.6582 - val_binary_accuracy: 0.5737\n",
      "Epoch 3/25\n",
      "353/353 [==============================] - 183s 517ms/step - loss: 0.5656 - binary_accuracy: 0.6961 - val_loss: 1.7410 - val_binary_accuracy: 0.5657\n",
      "Epoch 4/25\n",
      "353/353 [==============================] - 182s 516ms/step - loss: 0.4742 - binary_accuracy: 0.7792 - val_loss: 1.2956 - val_binary_accuracy: 0.5761\n",
      "Epoch 5/25\n",
      "353/353 [==============================] - 184s 522ms/step - loss: 0.4424 - binary_accuracy: 0.7977 - val_loss: 0.6420 - val_binary_accuracy: 0.6773\n",
      "Epoch 6/25\n",
      "353/353 [==============================] - 182s 516ms/step - loss: 0.4290 - binary_accuracy: 0.8088 - val_loss: 0.4606 - val_binary_accuracy: 0.7753\n",
      "Epoch 7/25\n",
      "353/353 [==============================] - 185s 523ms/step - loss: 0.4141 - binary_accuracy: 0.8160 - val_loss: 0.4595 - val_binary_accuracy: 0.7769\n",
      "Epoch 8/25\n",
      "353/353 [==============================] - 228s 645ms/step - loss: 0.5015 - binary_accuracy: 0.7539 - val_loss: 1.8327 - val_binary_accuracy: 0.4598\n",
      "Epoch 9/25\n",
      "353/353 [==============================] - 241s 682ms/step - loss: 0.4713 - binary_accuracy: 0.7785 - val_loss: 0.4633 - val_binary_accuracy: 0.7777\n",
      "Epoch 10/25\n",
      "353/353 [==============================] - 237s 670ms/step - loss: 0.4608 - binary_accuracy: 0.7829 - val_loss: 0.4764 - val_binary_accuracy: 0.7753\n",
      "Epoch 11/25\n",
      "353/353 [==============================] - 233s 661ms/step - loss: 0.4524 - binary_accuracy: 0.7929 - val_loss: 1.1802 - val_binary_accuracy: 0.5873\n",
      "Epoch 12/25\n",
      "353/353 [==============================] - 229s 649ms/step - loss: 0.4648 - binary_accuracy: 0.7810 - val_loss: 0.5507 - val_binary_accuracy: 0.7195\n",
      "Epoch 13/25\n",
      "353/353 [==============================] - 195s 552ms/step - loss: 0.4534 - binary_accuracy: 0.7932 - val_loss: 0.4347 - val_binary_accuracy: 0.8024\n",
      "Epoch 14/25\n",
      "353/353 [==============================] - 206s 584ms/step - loss: 0.4422 - binary_accuracy: 0.8002 - val_loss: 0.4575 - val_binary_accuracy: 0.7992\n",
      "Epoch 15/25\n",
      "353/353 [==============================] - 200s 566ms/step - loss: 0.4396 - binary_accuracy: 0.8038 - val_loss: 0.7107 - val_binary_accuracy: 0.5825\n",
      "Epoch 16/25\n",
      "353/353 [==============================] - 181s 513ms/step - loss: 0.4356 - binary_accuracy: 0.8017 - val_loss: 0.6282 - val_binary_accuracy: 0.6837\n",
      "Epoch 17/25\n",
      "353/353 [==============================] - 197s 557ms/step - loss: 0.4231 - binary_accuracy: 0.8130 - val_loss: 0.4277 - val_binary_accuracy: 0.8048\n",
      "Epoch 18/25\n",
      "353/353 [==============================] - 182s 517ms/step - loss: 0.4197 - binary_accuracy: 0.8120 - val_loss: 0.4276 - val_binary_accuracy: 0.7944\n",
      "Epoch 19/25\n",
      "353/353 [==============================] - 182s 514ms/step - loss: 0.4175 - binary_accuracy: 0.8171 - val_loss: 0.5244 - val_binary_accuracy: 0.7570\n",
      "Epoch 20/25\n",
      "353/353 [==============================] - 193s 548ms/step - loss: 0.4179 - binary_accuracy: 0.8130 - val_loss: 0.5339 - val_binary_accuracy: 0.7442\n",
      "Epoch 21/25\n",
      "353/353 [==============================] - 237s 673ms/step - loss: 0.4127 - binary_accuracy: 0.8206 - val_loss: 0.5549 - val_binary_accuracy: 0.7084\n",
      "Epoch 22/25\n",
      "353/353 [==============================] - 246s 696ms/step - loss: 0.4120 - binary_accuracy: 0.8140 - val_loss: 0.7330 - val_binary_accuracy: 0.6876\n",
      "Epoch 23/25\n",
      "353/353 [==============================] - 232s 657ms/step - loss: 0.4100 - binary_accuracy: 0.8173 - val_loss: 0.4133 - val_binary_accuracy: 0.8135\n",
      "Epoch 24/25\n",
      "353/353 [==============================] - 229s 649ms/step - loss: 0.4060 - binary_accuracy: 0.8215 - val_loss: 0.4313 - val_binary_accuracy: 0.7928\n",
      "Epoch 25/25\n",
      "353/353 [==============================] - 218s 618ms/step - loss: 0.4052 - binary_accuracy: 0.8200 - val_loss: 0.4461 - val_binary_accuracy: 0.7936\n"
     ]
    }
   ],
   "source": [
    "# Initialize grid\n",
    "grid = GridSearchCV(estimator=models, param_grid=param_grid, cv=3, verbose=3)\n",
    "\n",
    "# Fit grid\n",
    "grid_result = grid.fit(X_train, y_train)"
   ]
  },
  {
   "cell_type": "code",
   "execution_count": 103,
   "id": "cd82e687",
   "metadata": {},
   "outputs": [
    {
     "name": "stdout",
     "output_type": "stream",
     "text": [
      "Best: 0.777287 using {'batch_size': 32, 'epochs': 25, 'optimizer__learning_rate': 0.005}\n"
     ]
    }
   ],
   "source": [
    "print(\"Best: %f using %s\" % (grid_result.best_score_, grid_result.best_params_))"
   ]
  },
  {
   "cell_type": "code",
   "execution_count": 14,
   "id": "0033aec7",
   "metadata": {},
   "outputs": [
    {
     "name": "stderr",
     "output_type": "stream",
     "text": [
      "2024-04-15 00:37:24.646759: I tensorflow/core/platform/cpu_feature_guard.cc:151] This TensorFlow binary is optimized with oneAPI Deep Neural Network Library (oneDNN) to use the following CPU instructions in performance-critical operations:  SSE4.1 SSE4.2 AVX AVX2 FMA\n",
      "To enable them in other operations, rebuild TensorFlow with the appropriate compiler flags.\n"
     ]
    }
   ],
   "source": [
    "rnn_model_4 = keras.Sequential([\n",
    "    # the intermediate recurrent layers should return full sequences\n",
    "    GRU(16, activation='relu', return_sequences=True),\n",
    "    BatchNormalization(),\n",
    "    Dropout(0.15),\n",
    "\n",
    "    # the last recurrent layer only returns the final output\n",
    "    GRU(16, activation='relu', return_sequences=False),\n",
    "    BatchNormalization(),\n",
    "    Dropout(0.15),\n",
    "\n",
    "    # output layer\n",
    "    Dense(16, activation='relu'),\n",
    "    BatchNormalization(),\n",
    "    Dropout(0.15),\n",
    "    Dense(1, activation='sigmoid')],\n",
    ")"
   ]
  },
  {
   "cell_type": "code",
   "execution_count": 15,
   "id": "d688fbff",
   "metadata": {},
   "outputs": [],
   "source": [
    "# Compile our model with an optimizer, loss function and metric to look at\n",
    "rnn_model_4.compile(\n",
    "    # Optimizer\n",
    "    optimizer=keras.optimizers.Adam(learning_rate=0.005),  # learning rate can be adjusted here\n",
    "    # Loss function to minimize\n",
    "    loss=keras.losses.BinaryCrossentropy(),\n",
    "    # Metric used to evaluate model\n",
    "    metrics=[keras.metrics.BinaryAccuracy()]\n",
    ")"
   ]
  },
  {
   "cell_type": "code",
   "execution_count": 17,
   "id": "f35c514f",
   "metadata": {
    "collapsed": true
   },
   "outputs": [
    {
     "name": "stdout",
     "output_type": "stream",
     "text": [
      "Epoch 1/25\n",
      "353/353 [==============================] - 190s 538ms/step - loss: 0.6983 - binary_accuracy: 0.5390 - val_loss: 0.6906 - val_binary_accuracy: 0.5474\n",
      "Epoch 2/25\n",
      "353/353 [==============================] - 190s 538ms/step - loss: 0.6756 - binary_accuracy: 0.5662 - val_loss: 1.0253 - val_binary_accuracy: 0.4518\n",
      "Epoch 3/25\n",
      "353/353 [==============================] - 182s 516ms/step - loss: 0.6176 - binary_accuracy: 0.6362 - val_loss: 0.5817 - val_binary_accuracy: 0.6701\n",
      "Epoch 4/25\n",
      "353/353 [==============================] - 184s 521ms/step - loss: 0.5864 - binary_accuracy: 0.6728 - val_loss: 0.5713 - val_binary_accuracy: 0.7068\n",
      "Epoch 5/25\n",
      "353/353 [==============================] - 182s 516ms/step - loss: 0.5616 - binary_accuracy: 0.6980 - val_loss: 0.5859 - val_binary_accuracy: 0.6845\n",
      "Epoch 6/25\n",
      "353/353 [==============================] - 182s 514ms/step - loss: 0.5025 - binary_accuracy: 0.7490 - val_loss: 0.5695 - val_binary_accuracy: 0.7227\n",
      "Epoch 7/25\n",
      "353/353 [==============================] - 183s 520ms/step - loss: 0.4601 - binary_accuracy: 0.7891 - val_loss: 0.4058 - val_binary_accuracy: 0.8199\n",
      "Epoch 8/25\n",
      "353/353 [==============================] - 186s 526ms/step - loss: 0.4442 - binary_accuracy: 0.7959 - val_loss: 0.4544 - val_binary_accuracy: 0.7761\n",
      "Epoch 9/25\n",
      "353/353 [==============================] - 185s 525ms/step - loss: 0.4309 - binary_accuracy: 0.8076 - val_loss: 0.4043 - val_binary_accuracy: 0.8175\n",
      "Epoch 10/25\n",
      "353/353 [==============================] - 181s 513ms/step - loss: 0.4185 - binary_accuracy: 0.8146 - val_loss: 0.3758 - val_binary_accuracy: 0.8311\n",
      "Epoch 11/25\n",
      "353/353 [==============================] - 182s 516ms/step - loss: 0.4129 - binary_accuracy: 0.8179 - val_loss: 0.3868 - val_binary_accuracy: 0.8295\n",
      "Epoch 12/25\n",
      "353/353 [==============================] - 184s 520ms/step - loss: 0.4073 - binary_accuracy: 0.8225 - val_loss: 0.3737 - val_binary_accuracy: 0.8255\n",
      "Epoch 13/25\n",
      "353/353 [==============================] - 181s 512ms/step - loss: 0.3987 - binary_accuracy: 0.8243 - val_loss: 0.4044 - val_binary_accuracy: 0.8167\n",
      "Epoch 14/25\n",
      "353/353 [==============================] - 184s 521ms/step - loss: 0.3971 - binary_accuracy: 0.8258 - val_loss: 0.6437 - val_binary_accuracy: 0.6932\n",
      "Epoch 15/25\n",
      "353/353 [==============================] - 183s 518ms/step - loss: 0.3980 - binary_accuracy: 0.8280 - val_loss: 0.3881 - val_binary_accuracy: 0.8311\n",
      "Epoch 16/25\n",
      "353/353 [==============================] - 196s 556ms/step - loss: 0.3976 - binary_accuracy: 0.8266 - val_loss: 0.4166 - val_binary_accuracy: 0.8183\n",
      "Epoch 17/25\n",
      "353/353 [==============================] - 195s 553ms/step - loss: 0.3931 - binary_accuracy: 0.8255 - val_loss: 0.4342 - val_binary_accuracy: 0.7968\n",
      "Epoch 18/25\n",
      "353/353 [==============================] - 180s 511ms/step - loss: 0.3881 - binary_accuracy: 0.8305 - val_loss: 0.3678 - val_binary_accuracy: 0.8343\n",
      "Epoch 19/25\n",
      "353/353 [==============================] - 185s 524ms/step - loss: 0.3838 - binary_accuracy: 0.8308 - val_loss: 0.3789 - val_binary_accuracy: 0.8287\n",
      "Epoch 20/25\n",
      "353/353 [==============================] - 187s 531ms/step - loss: 0.3828 - binary_accuracy: 0.8324 - val_loss: 0.3684 - val_binary_accuracy: 0.8398\n",
      "Epoch 21/25\n",
      "353/353 [==============================] - 187s 530ms/step - loss: 0.3875 - binary_accuracy: 0.8301 - val_loss: 0.3830 - val_binary_accuracy: 0.8263\n",
      "Epoch 22/25\n",
      "353/353 [==============================] - 194s 549ms/step - loss: 0.3838 - binary_accuracy: 0.8301 - val_loss: 0.4535 - val_binary_accuracy: 0.7729\n",
      "Epoch 23/25\n",
      "353/353 [==============================] - 221s 628ms/step - loss: 0.3855 - binary_accuracy: 0.8315 - val_loss: 0.3566 - val_binary_accuracy: 0.8367\n",
      "Epoch 24/25\n",
      "353/353 [==============================] - 210s 594ms/step - loss: 0.3848 - binary_accuracy: 0.8278 - val_loss: 0.3531 - val_binary_accuracy: 0.8414\n",
      "Epoch 25/25\n",
      "353/353 [==============================] - 189s 536ms/step - loss: 0.3822 - binary_accuracy: 0.8324 - val_loss: 0.5798 - val_binary_accuracy: 0.7299\n"
     ]
    }
   ],
   "source": [
    "# Set callbacks\n",
    "callbacks = keras.callbacks.EarlyStopping(monitor='val_loss', \n",
    "                                          verbose=1, \n",
    "                                          restore_best_weights=True,\n",
    "                                          patience=25\n",
    ")\n",
    "\n",
    "# Fit our model, adding a validation set as well \n",
    "history = rnn_model_4.fit(X_train, \n",
    "                          y_train, \n",
    "                          batch_size=32,\n",
    "                          epochs=25, \n",
    "                          validation_split=0.1,\n",
    "                          callbacks=[callbacks]\n",
    ")"
   ]
  },
  {
   "cell_type": "code",
   "execution_count": 18,
   "id": "6fcd4acf",
   "metadata": {},
   "outputs": [
    {
     "name": "stdout",
     "output_type": "stream",
     "text": [
      "Train Accuracy: 0.8324\n",
      "Test Accuracy: 0.7459\n"
     ]
    }
   ],
   "source": [
    "# Evaluate the model using the test data and generate predictions\n",
    "train_accuracy = history.history[\"binary_accuracy\"][np.argmax(history.history[\"binary_accuracy\"])]\n",
    "result = rnn_model_4.evaluate(X_test, y_test, verbose=0)\n",
    "#result = rnn_model.evaluate(np.real(X_test.values.reshape(-1, 1000, 1)), y_test, verbose=0)\n",
    "\n",
    "print(f\"Train Accuracy: {train_accuracy:.4f}\")\n",
    "print(f\"Test Accuracy: {result[1]:.4f}\")"
   ]
  },
  {
   "cell_type": "code",
   "execution_count": 25,
   "id": "70181ef3",
   "metadata": {},
   "outputs": [
    {
     "data": {
      "image/png": "[encoded data removed]",
      "text/plain": [
       "<Figure size 640x480 with 1 Axes>"
      ]
     },
     "metadata": {},
     "output_type": "display_data"
    }
   ],
   "source": [
    "# Plotting accuracy function \n",
    "plt.plot(history.history['binary_accuracy'], marker='o')\n",
    "plt.plot(history.history['val_binary_accuracy'], marker='o')\n",
    "plt.title('Model Accuracy')\n",
    "plt.ylabel('Accuracy')\n",
    "plt.xlabel('Epoch')\n",
    "plt.legend(['Train', 'Validation'])\n",
    "plt.show()"
   ]
  },
  {
   "cell_type": "code",
   "execution_count": 27,
   "id": "96aba02a",
   "metadata": {},
   "outputs": [
    {
     "data": {
      "image/png": "[encoded data removed]",
      "text/plain": [
       "<Figure size 640x480 with 1 Axes>"
      ]
     },
     "metadata": {},
     "output_type": "display_data"
    }
   ],
   "source": [
    "# Plotting loss function \n",
    "plt.plot(history.history['loss'], marker='o')\n",
    "plt.plot(history.history['val_loss'], marker='o')\n",
    "plt.title('Model Loss')\n",
    "plt.ylabel('Loss')\n",
    "plt.xlabel('Epoch')\n",
    "#plt.xticks(epochs[:5:1])\n",
    "plt.legend(['Train', 'Validation'])\n",
    "plt.show()"
   ]
  },
  {
   "cell_type": "markdown",
   "id": "530547cd",
   "metadata": {},
   "source": [
    "From the graphs above, we see major fluctuations in the validation set. The reason for this is still unknown and would be investigated. \n",
    "\n",
    "We can look into the confusion matrix and classification report in the mean time. "
   ]
  },
  {
   "cell_type": "code",
   "execution_count": 28,
   "id": "53caf503",
   "metadata": {},
   "outputs": [
    {
     "data": {
      "text/html": [
       "<div>\n",
       "<style scoped>\n",
       "    .dataframe tbody tr th:only-of-type {\n",
       "        vertical-align: middle;\n",
       "    }\n",
       "\n",
       "    .dataframe tbody tr th {\n",
       "        vertical-align: top;\n",
       "    }\n",
       "\n",
       "    .dataframe thead th {\n",
       "        text-align: right;\n",
       "    }\n",
       "</style>\n",
       "<table border=\"1\" class=\"dataframe\">\n",
       "  <thead>\n",
       "    <tr style=\"text-align: right;\">\n",
       "      <th></th>\n",
       "      <th>Predicted Abnormal</th>\n",
       "      <th>Predicted Normal</th>\n",
       "    </tr>\n",
       "  </thead>\n",
       "  <tbody>\n",
       "    <tr>\n",
       "      <th>True Abnormal</th>\n",
       "      <td>943</td>\n",
       "      <td>786</td>\n",
       "    </tr>\n",
       "    <tr>\n",
       "      <th>True Normal</th>\n",
       "      <td>11</td>\n",
       "      <td>1396</td>\n",
       "    </tr>\n",
       "  </tbody>\n",
       "</table>\n",
       "</div>"
      ],
      "text/plain": [
       "               Predicted Abnormal  Predicted Normal\n",
       "True Abnormal                 943               786\n",
       "True Normal                    11              1396"
      ]
     },
     "metadata": {},
     "output_type": "display_data"
    }
   ],
   "source": [
    "# Calculate the predicted labels for each test image.\n",
    "predict_probas = rnn_model_4.predict(X_test)\n",
    "binary_array = (predict_probas > 0.5).astype(int).reshape(-1) # Binary classification requires only has 1 output\n",
    "#y_predict = np.argmax(predict_probas, axis=0)\n",
    "\n",
    "# Generate confusion matrix\n",
    "cf_matrix = confusion_matrix(y_test, binary_array)\n",
    "\n",
    "# label rows and columns\n",
    "cf_df = pd.DataFrame(\n",
    "    cf_matrix, \n",
    "    columns=[\"Predicted Abnormal\", \"Predicted Normal\"],\n",
    "    index=[\"True Abnormal\", \"True Normal\"]\n",
    ")\n",
    "\n",
    "display(cf_df)"
   ]
  },
  {
   "cell_type": "code",
   "execution_count": 29,
   "id": "43085ce0",
   "metadata": {},
   "outputs": [
    {
     "data": {
      "image/png": "[encoded data removed]",
      "text/plain": [
       "<Figure size 700x500 with 2 Axes>"
      ]
     },
     "metadata": {},
     "output_type": "display_data"
    }
   ],
   "source": [
    "plt.figure(figsize=(7,5))\n",
    "sns.heatmap(cf_matrix,\n",
    "            annot=True,\n",
    "            cbar=True,\n",
    "            cmap=\"viridis\",\n",
    "            linewidths=1,\n",
    "            fmt='d'\n",
    ")\n",
    "plt.title('Confusion Matrix', size=15)\n",
    "plt.xlabel(\"Predicted Label\", size=12)\n",
    "plt.ylabel(\"True Label\", size=12)\n",
    "plt.show()"
   ]
  },
  {
   "cell_type": "code",
   "execution_count": 32,
   "id": "37d9bf4d",
   "metadata": {},
   "outputs": [
    {
     "name": "stdout",
     "output_type": "stream",
     "text": [
      "              precision    recall  f1-score   support\n",
      "\n",
      "           0       0.99      0.55      0.70      1729\n",
      "           1       0.64      0.99      0.78      1407\n",
      "\n",
      "    accuracy                           0.75      3136\n",
      "   macro avg       0.81      0.77      0.74      3136\n",
      "weighted avg       0.83      0.75      0.74      3136\n",
      "\n"
     ]
    }
   ],
   "source": [
    "cr = classification_report(y_test, binary_array)\n",
    "print(cr)"
   ]
  },
  {
   "cell_type": "markdown",
   "id": "5208dbfd",
   "metadata": {},
   "source": [
    "Through the classification report, we actually see decent accuracy scores for the test set as well as high recall score again for the abnormal class. Let's look into the AUC score. "
   ]
  },
  {
   "cell_type": "code",
   "execution_count": 35,
   "id": "13096b4f",
   "metadata": {},
   "outputs": [
    {
     "data": {
      "image/png": "[encoded data removed]",
      "text/plain": [
       "<Figure size 640x480 with 1 Axes>"
      ]
     },
     "metadata": {},
     "output_type": "display_data"
    },
    {
     "name": "stdout",
     "output_type": "stream",
     "text": [
      "Area under curve (AUC):0.917682512004137\n",
      "\n"
     ]
    }
   ],
   "source": [
    "fprs, tprs, thresholds = roc_curve(y_test, predict_probas[:, 0])\n",
    "roc_auc = roc_auc_score(y_test, predict_probas[:, 0])\n",
    "\n",
    "plt.figure()\n",
    "plt.plot(fprs, tprs, color='darkorange',\n",
    "         lw=2, label='AUC = %0.2f' % roc_auc)\n",
    "plt.plot([0, 1], [0, 1], color='navy', lw=2, linestyle='--')\n",
    "plt.xlabel('False Positive Rate (FPR)')\n",
    "plt.ylabel('True Positive Rate (TPR)')\n",
    "plt.title('ROC Curve for ECG Rhythm Prediction Using RNN')\n",
    "plt.legend(loc=\"best\")\n",
    "plt.savefig('roc_curve.jpg')\n",
    "plt.show()\n",
    "\n",
    "print(f'Area under curve (AUC):{roc_auc}')\n",
    "print()"
   ]
  },
  {
   "cell_type": "markdown",
   "id": "cba1b382",
   "metadata": {},
   "source": [
    "Another high metric in AUC score, suggesting our model is good at classifying in the respective binary classifications. \n",
    "\n",
    "Saving the model"
   ]
  },
  {
   "cell_type": "code",
   "execution_count": 36,
   "id": "afea756d",
   "metadata": {},
   "outputs": [
    {
     "name": "stderr",
     "output_type": "stream",
     "text": [
      "2024-04-15 04:18:51.387674: W tensorflow/python/util/util.cc:368] Sets are not currently considered sequences, but this may change in the future, so consider avoiding using them.\n"
     ]
    },
    {
     "name": "stdout",
     "output_type": "stream",
     "text": [
      "INFO:tensorflow:Assets written to: ram://d5d8ebc3-aa1d-4014-8766-e41b4831e169/assets\n"
     ]
    },
    {
     "name": "stderr",
     "output_type": "stream",
     "text": [
      "WARNING:absl:<keras.layers.recurrent.GRUCell object at 0x7fe7442f81f0> has the same name 'GRUCell' as a built-in Keras object. Consider renaming <class 'keras.layers.recurrent.GRUCell'> to avoid naming conflicts when loading with `tf.keras.models.load_model`. If renaming is not possible, pass the object in the `custom_objects` parameter of the load function.\n",
      "WARNING:absl:<keras.layers.recurrent.GRUCell object at 0x7fe6f344a0d0> has the same name 'GRUCell' as a built-in Keras object. Consider renaming <class 'keras.layers.recurrent.GRUCell'> to avoid naming conflicts when loading with `tf.keras.models.load_model`. If renaming is not possible, pass the object in the `custom_objects` parameter of the load function.\n"
     ]
    }
   ],
   "source": [
    "with open('rnn_binary4.pkl', 'wb') as file:\n",
    "    pickle.dump(rnn_model_4, file)"
   ]
  },
  {
   "cell_type": "code",
   "execution_count": 65,
   "id": "ab97d918",
   "metadata": {},
   "outputs": [],
   "source": [
    "import joblib\n",
    "model = joblib.load('rnn_binary4.pkl')"
   ]
  },
  {
   "cell_type": "markdown",
   "id": "b5e05249",
   "metadata": {},
   "source": [
    "<a id='summary'></a>\n",
    "### Summary\n",
    "\n",
    "Here we will provide a quick recap of our problem space and how our solution will help with the situation. \n",
    "\n",
    "Biomedical signals have always played an important role in many medical settings. One of the major type is an ECG, a non invasive procedure that can measure your heart rhythm potentially detecting heart abnormalities and other conditions about your body. However, traditionally, ECGs heavily relied of human interpretation. Medical professionals who may not be adequately trained may misinterpret ECG readings. Even under intense trainings, physicians, such as cardiologist, can also make mistakes too. We propose the solution of using data science tools to help us with identifying ECG signals and classifying them, thereby giving medical professionals a second line of confirmation when they are diagnosing. This can also be extended to the general public, implementing this feature in smart wearable devices, allow users to be notified if they may potentially have certain heart abnormalities given that the wearable device monitors the users heart rhythms in the form of ECGs. \n",
    "\n",
    "Starting from the beginning of our journey, we gathered a data set from PhysioNet called PTB-XL that consists of 21799 ECG entries. Since this data set contains signals that possibly have multiple diagnosis at once, we had to be extra careful of which data rows we wanted to train our models on. First, we combined two data sources where one included patient information, and the other the patients ECG diagnosis. This was done in the first notebook, `1 - Metadata_Annotations_Cleaning.ipynb`. We also did some preliminary data cleaning by reducing columns where ones that did not give us immediate useability for our ECG signals, were dropped. \n",
    "\n",
    "In the second notebook, `2 - Ecg_Cleaning.ipynb`, we performed some baseline exploratory data analysis by looking at data distributions and statistical tests. Through these tests, we were able to pin down the use case of Fourier Transforms for ECG signal cleaning. By creating functions that would take in a timeseries signal, it would clean a signal by removing noising background frequencies defined by the user. This allowed for better and more precise ECGs to be fed into our models for training, giving improved results. \n",
    "\n",
    "In the following notebook, `3 - Baseline_Modeling`, we begin modeling by choosing simple algorithms such as Logistic Regression to see how our data plays. For better modeling, we decided to implement a binning method that let's us bin our signal based on amplitude and see how classification algorithms perform on it. We split our modeling into two ways, multiclass classification or binary classification. In the multiclass method, we fully utilize the extensive coverage of signals that may show multiple heart condition at a time. This ended up with 10 diagnostic superclasses in our target variable. With major class imbalance, modeling with 10 classes became really difficult as our models show. In contrast, using binary classification, greatly increase our model performances leading to positive results. \n",
    "\n",
    "As a side detour, we took a chance at autoencoders in the next notebook `4 - Autoencoders`. Autoencoders, utilize a bottle neck in a neural network architecture where information is squeezed extensively forcing the model to only learn about important features of the data before it is asked to reconstruct the original signal. We experimented using our 10 classes and found it difficult to getting the neural network to perform well. Most of the iterations results in underfitting of the validation signal leading to over fitting of the model overall. \n",
    "\n",
    "Last but not least, we have our last notebook `5 - Recurrent Neural Networks` where we utilize recurrent neural networks for time series analysis, in our case ECG signals. This time we do not implement the binning method as RNNs process data in sequence, allowing us to feed in the raw data after it has been preprocessed. The results are the best models thus far of all the machine learning algorithms used. However, due to computation inefficiencies, the best model has yet been found through grid search. Although we can confidently say that the RNN models are best are predicting binary classification for our problem space. \n",
    "\n",
    "Nowing that heart related problems can change a person in a really short amount of time, we want to make sure that we can catch the issue right away. This is where our models come into play. They are optimized for higher recall score on the abnormal binary class. This means that our algorithm will have a higher chance of alerting someone if they may have the slightest chance of experiencing certain heart abnormalities. This is the goal of our project, to be able to predict ECG conditions acting as the first line of alert. Further implications, such as whether or not the person may about to experience a heart attack or not is left to physicians to determine. "
   ]
  },
  {
   "cell_type": "code",
   "execution_count": null,
   "id": "e965053b",
   "metadata": {},
   "outputs": [],
   "source": []
  },
  {
   "cell_type": "code",
   "execution_count": null,
   "id": "00508da3",
   "metadata": {},
   "outputs": [],
   "source": []
  },
  {
   "cell_type": "code",
   "execution_count": null,
   "id": "ad480861",
   "metadata": {},
   "outputs": [],
   "source": []
  }
 ],
 "metadata": {
  "kernelspec": {
   "display_name": "ecgcap",
   "language": "python",
   "name": "ecgcap"
  },
  "language_info": {
   "codemirror_mode": {
    "name": "ipython",
    "version": 3
   },
   "file_extension": ".py",
   "mimetype": "text/x-python",
   "name": "python",
   "nbconvert_exporter": "python",
   "pygments_lexer": "ipython3",
   "version": "3.10.14"
  }
 },
 "nbformat": 4,
 "nbformat_minor": 5
}
