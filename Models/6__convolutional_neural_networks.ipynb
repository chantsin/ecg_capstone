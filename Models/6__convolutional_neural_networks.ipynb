{
 "cells": [
  {
   "cell_type": "markdown",
   "id": "13dc42e2",
   "metadata": {},
   "source": [
    "## ECG Classification Using Convolutional Neural Networks\n",
    "\n",
    "Author: Calvin Chan \n",
    "\n",
    "### Introduction\n",
    "For our last notebook, we will use the concept of convolution to model our ECG timeseries data. Traditionally, image analysis uses a 2D convolution to extract features from images, however since we are working with signals this would not work. Instead of 2D convolutions, we will convolve over our signals using 1D convolutions since our data only comes with one spatial dimension.\n",
    "\n",
    "In contrast to our RNN model being implemented using TensorFlow, we will implement our CNN using **PyTorch**. This is to showcase the flexibilty of PyTorch through Object-Oriented Programming. \n",
    "\n",
    "### Table of Contents\n",
    "1. [Data Import](#import)\n",
    "2. [Data Preprocessing](#preprocessing)  \n",
    "    2.1. [Binary Classification](#binary)  \n",
    "    2.2. [Signal Denoising](#denoising)  \n",
    "    2.3. [Train Test Split](#train_test)  \n",
    "    2.4. [Scaling](#scaling)  \n",
    "    2.5. [Transform to Torch Tensors](#torch)  \n",
    "    2.6. [Data Loaders](#loaders)  \n",
    "3. [CNN Setup and Implementation](#setup)\n",
    "4. [Sample Training on One Signal](#sample_train)\n",
    "5. [Training CNN Model](#training)\n",
    "6. [Model Evaluation](#eval)\n",
    "\n",
    "Here, we import all the necessary packages used in this notebook."
   ]
  },
  {
   "cell_type": "code",
   "execution_count": 41,
   "id": "db2e2f7d",
   "metadata": {},
   "outputs": [
    {
     "data": {
      "application/javascript": [
       "IPython.notebook.set_autosave_interval(60000)"
      ]
     },
     "metadata": {},
     "output_type": "display_data"
    },
    {
     "name": "stdout",
     "output_type": "stream",
     "text": [
      "Autosaving every 60 seconds\n"
     ]
    }
   ],
   "source": [
    "import numpy as np\n",
    "import pandas as pd\n",
    "import seaborn as sns\n",
    "import matplotlib.pyplot as plt \n",
    "import torch \n",
    "import torch.nn as nn\n",
    "import load_functions as f\n",
    "from sklearn.model_selection import train_test_split\n",
    "from sklearn.preprocessing import StandardScaler, LabelEncoder\n",
    "from sklearn.metrics import accuracy_score, classification_report, confusion_matrix, ConfusionMatrixDisplay, roc_curve, roc_auc_score\n",
    "from tqdm.notebook import trange, tnrange, tqdm_notebook\n",
    "from torch.utils.data import TensorDataset, DataLoader\n",
    "\n",
    "import sys\n",
    "sys.path.append('..')\n",
    "from Notebooks import ecg_cleaning as c\n",
    "\n",
    "# Autosave every minute\n",
    "%autosave 60"
   ]
  },
  {
   "cell_type": "markdown",
   "id": "c2385607",
   "metadata": {},
   "source": [
    "<a id='import'></a>\n",
    "### Data Import\n",
    "\n",
    "Below we load our full data set and only take Lead II for our model."
   ]
  },
  {
   "cell_type": "code",
   "execution_count": 2,
   "id": "3e6ffd42",
   "metadata": {},
   "outputs": [],
   "source": [
    "# File Path\n",
    "path = '../data/physionet.org/files/ptb-xl/1.0.3/'\n",
    "metadata = pd.read_csv('../data/cleaned_metadata.csv')\n",
    "\n",
    "# Import data\n",
    "full_data = f.load_signal(path, metadata)"
   ]
  },
  {
   "cell_type": "code",
   "execution_count": 3,
   "id": "f77e9b31",
   "metadata": {},
   "outputs": [
    {
     "data": {
      "text/plain": [
       "((15677, 1000, 12), (15677,))"
      ]
     },
     "execution_count": 3,
     "metadata": {},
     "output_type": "execute_result"
    }
   ],
   "source": [
    "# Let's look at the data shape \n",
    "full_data[0].shape, full_data[1].shape"
   ]
  },
  {
   "cell_type": "markdown",
   "id": "0cbb5e0b",
   "metadata": {},
   "source": [
    "We also want to look at Lead II only. "
   ]
  },
  {
   "cell_type": "code",
   "execution_count": 4,
   "id": "34590d4e",
   "metadata": {},
   "outputs": [
    {
     "data": {
      "text/plain": [
       "((15677, 1000), (15677,))"
      ]
     },
     "execution_count": 4,
     "metadata": {},
     "output_type": "execute_result"
    }
   ],
   "source": [
    "# Slicing only for Lead II \n",
    "X = full_data[0][:,:,1]\n",
    "y = full_data[1]\n",
    "\n",
    "X.shape, y.shape"
   ]
  },
  {
   "cell_type": "markdown",
   "id": "408f7b31",
   "metadata": {},
   "source": [
    "<a id='preprocessing'></a>\n",
    "### Data Preprocessing \n",
    "\n",
    "Below we preprocess our data, which includes transforming our column into binary, `normal` or `abnormal` classes, applying Fourier Transform signal denoising using `ecg_cleaning.py`, train test splitting our data, scaling, transforming arrays to torch tensors and finally packing them into data loaders. "
   ]
  },
  {
   "cell_type": "markdown",
   "id": "1c291acd",
   "metadata": {},
   "source": [
    "<a id='binary'></a>\n",
    "#### Binary Classification"
   ]
  },
  {
   "cell_type": "code",
   "execution_count": 5,
   "id": "a967adc4",
   "metadata": {},
   "outputs": [],
   "source": [
    "# Transform target column into binary classes\n",
    "y = y.apply(lambda x: f.binary(x))"
   ]
  },
  {
   "cell_type": "code",
   "execution_count": 6,
   "id": "36b893bd",
   "metadata": {},
   "outputs": [
    {
     "data": {
      "text/plain": [
       "diagnostic_superclass\n",
       "ABNO    8645\n",
       "NORM    7032\n",
       "Name: count, dtype: int64"
      ]
     },
     "execution_count": 6,
     "metadata": {},
     "output_type": "execute_result"
    }
   ],
   "source": [
    "# Sanity check\n",
    "y.value_counts()"
   ]
  },
  {
   "cell_type": "code",
   "execution_count": 7,
   "id": "f7b53dc4",
   "metadata": {},
   "outputs": [],
   "source": [
    "# Instantiate LabelEncoder \n",
    "label = LabelEncoder()\n",
    "\n",
    "# Fit binary classes\n",
    "label.fit(y)\n",
    "\n",
    "# Transform classes\n",
    "y = label.transform(y)"
   ]
  },
  {
   "cell_type": "code",
   "execution_count": 8,
   "id": "7cb26b72",
   "metadata": {},
   "outputs": [
    {
     "data": {
      "text/plain": [
       "array([0, 1])"
      ]
     },
     "execution_count": 8,
     "metadata": {},
     "output_type": "execute_result"
    }
   ],
   "source": [
    "# Checking how our label is encoded\n",
    "label.transform(['ABNO', 'NORM'])"
   ]
  },
  {
   "cell_type": "markdown",
   "id": "06ffe05f",
   "metadata": {},
   "source": [
    "As we can see, signals that are labeled `ABNO` are mapped to `0` and `NORM` are mapped `1`. "
   ]
  },
  {
   "cell_type": "markdown",
   "id": "d29d05a1",
   "metadata": {},
   "source": [
    "<a id='denoising'></a>\n",
    "#### Signal denoising using ecg_cleaning.py\n",
    "\n",
    "In this following section, we denoise our ECG signals using Fourier Tranforms. We have to specify the frequencies in which we want to take out for baseline wandering and powerline interference. "
   ]
  },
  {
   "cell_type": "code",
   "execution_count": 9,
   "id": "20ee70d6",
   "metadata": {},
   "outputs": [],
   "source": [
    "# Low sampling frequency\n",
    "sig_len = 1000\n",
    "sampling_frequency = 100\n",
    "time = np.arange(0, sig_len) / sampling_frequency\n",
    "\n",
    "# Baseline and PLI removal\n",
    "signal_bl = np.apply_along_axis(c.baseline_removal, axis=1, arr=X, freq_start=0.1, freq_stop=1.5)\n",
    "signal_pli = np.apply_along_axis(c.high_freq_removal, axis=1, arr=signal_bl, freq_start=40)"
   ]
  },
  {
   "cell_type": "code",
   "execution_count": 10,
   "id": "9160008c",
   "metadata": {},
   "outputs": [
    {
     "data": {
      "text/plain": [
       "(15677, 1000)"
      ]
     },
     "execution_count": 10,
     "metadata": {},
     "output_type": "execute_result"
    }
   ],
   "source": [
    "# Check shape\n",
    "signal_pli.shape"
   ]
  },
  {
   "cell_type": "markdown",
   "id": "c9149508",
   "metadata": {},
   "source": [
    "<a id='train_test'></a>\n",
    "#### Train Test Split\n",
    "\n",
    "After preprocessing our signals, we can split our data set to training and testing. We will use `20%` of our data as testing and the rest as training. Since we have a data imbalance, we will include `stratify` as well.  "
   ]
  },
  {
   "cell_type": "code",
   "execution_count": 11,
   "id": "5d6ca143",
   "metadata": {},
   "outputs": [
    {
     "data": {
      "text/plain": [
       "((12541, 1000), (3136, 1000), (12541,), (3136,))"
      ]
     },
     "execution_count": 11,
     "metadata": {},
     "output_type": "execute_result"
    }
   ],
   "source": [
    "# Train/Test split\n",
    "X_train, X_test, y_train, y_test = train_test_split(signal_pli, y, test_size=0.2, stratify=y)\n",
    "\n",
    "# Checking the shape\n",
    "X_train.shape, X_test.shape, y_train.shape, y_test.shape"
   ]
  },
  {
   "cell_type": "markdown",
   "id": "6fcb0132",
   "metadata": {},
   "source": [
    "<a id='scaling'></a>\n",
    "#### Scaling \n",
    "\n",
    "Next, we want to scale our data. Since we are using using a neural network, as we calculate the gradient during backpropagation, distances can affect how well this is performed. We will use `StandardScaler` for our case."
   ]
  },
  {
   "cell_type": "code",
   "execution_count": 12,
   "id": "877e1a3b",
   "metadata": {},
   "outputs": [],
   "source": [
    "# Instantiate standard scaler\n",
    "ss = StandardScaler()\n",
    "\n",
    "# Fit and transform training set\n",
    "X_train = ss.fit_transform(X_train)\n",
    "\n",
    "# Transform testing set\n",
    "X_test = ss.transform(X_test)"
   ]
  },
  {
   "cell_type": "markdown",
   "id": "cea219c4",
   "metadata": {},
   "source": [
    "<a id='torch'></a>\n",
    "#### Transforming arrays into Torch Tensors\n",
    "\n",
    "Finally, we need to transform our NumPy arrays into torch tensors using the `torch` module."
   ]
  },
  {
   "cell_type": "code",
   "execution_count": 13,
   "id": "ce48c226",
   "metadata": {},
   "outputs": [
    {
     "name": "stdout",
     "output_type": "stream",
     "text": [
      "torch.Size([12541, 1000]) torch.Size([3136, 1000]) torch.Size([12541]) torch.Size([3136])\n"
     ]
    }
   ],
   "source": [
    "# Transforming independent variables\n",
    "X_train = torch.tensor(X_train, dtype=torch.float32)\n",
    "X_test = torch.tensor(X_test, dtype=torch.float32)\n",
    "\n",
    "# Transforming dependent variables\n",
    "y_train = torch.tensor(y_train, dtype=torch.float32)\n",
    "y_test = torch.tensor(y_test, dtype=torch.float32)\n",
    "\n",
    "# Sanity check\n",
    "print(X_train.shape, X_test.shape, y_train.shape, y_test.shape)"
   ]
  },
  {
   "cell_type": "markdown",
   "id": "e9f42f4a",
   "metadata": {},
   "source": [
    "<a id='loaders'></a>\n",
    "#### Data Loaders\n",
    "\n",
    "Since we want to implement batching, we will use PyTorch's `DataLoader` to do so."
   ]
  },
  {
   "cell_type": "code",
   "execution_count": 14,
   "id": "d498b257",
   "metadata": {},
   "outputs": [],
   "source": [
    "####### Setting batch size #######\n",
    "\n",
    "train_batch = 64\n",
    "test_batch = 64\n",
    "\n",
    "train_dataset = TensorDataset(X_train.unsqueeze(1), y_train)\n",
    "test_dataset = TensorDataset(X_test.unsqueeze(1), y_test)\n",
    "\n",
    "# Shuffle training set\n",
    "training_loader = DataLoader(train_dataset, batch_size=train_batch, shuffle=True)\n",
    "\n",
    "# Don't shuffle validation set\n",
    "testing_loader = DataLoader(test_dataset, batch_size=test_batch, shuffle=False)"
   ]
  },
  {
   "cell_type": "markdown",
   "id": "a7569a59",
   "metadata": {},
   "source": [
    "<a id='setup'></a>\n",
    "### Model Setup and Implementation"
   ]
  },
  {
   "cell_type": "code",
   "execution_count": 15,
   "id": "53f4cbd9",
   "metadata": {},
   "outputs": [],
   "source": [
    "class SimpleCNN(nn.Module):\n",
    "    \"\"\"Starting off with a simple cnn.\"\"\"\n",
    "    \n",
    "    def __init__(self, lr=0.01):\n",
    "        super(SimpleCNN, self).__init__()\n",
    "        \n",
    "        ##### CONVOLUTION LAYERS #####\n",
    "        self.conv_layer = nn.Sequential(\n",
    "            \n",
    "            # Convolution block 1\n",
    "            nn.Conv1d(in_channels=1, out_channels=16, kernel_size=11, padding=5), # kernel_size=21, padding=10), \n",
    "            nn.LeakyReLU(inplace=True),\n",
    "            nn.MaxPool1d(kernel_size=2, stride=None),\n",
    "            # nn.MaxPool1d(kernel_size=2, stride=2),\n",
    "            nn.Dropout1d(0.2, inplace=True),\n",
    "            \n",
    "            # Convolution block 2\n",
    "            nn.Conv1d(in_channels=16, out_channels=32, kernel_size=11, padding=5), # kernel_size=21, padding=10),\n",
    "            nn.LeakyReLU(inplace=True),\n",
    "            nn.MaxPool1d(kernel_size=2, stride=None),\n",
    "            # nn.MaxPool1d(kernel_size=2, stride=2),\n",
    "            nn.Dropout1d(0.2, inplace=True),\n",
    "            \n",
    "            # Convolution block 3\n",
    "            nn.Conv1d(in_channels=32, out_channels=64, kernel_size=11, padding=5), # kernel_size=21, padding=10), \n",
    "            nn.LeakyReLU(inplace=True),\n",
    "            nn.MaxPool1d(kernel_size=2, stride=None),\n",
    "            # nn.MaxPool1d(kernel_size=2, stride=2),\n",
    "            nn.Dropout1d(0.2, inplace=True),\n",
    "        )\n",
    "        \n",
    "        ##### FULLY-CONNECTED LAYERS #####\n",
    "        self.fc_layer = nn.Sequential(\n",
    "            # nn.Linear(in_features=64*250, out_features=400),\n",
    "            nn.Linear(in_features=64*125, out_features=400),\n",
    "            nn.ReLU(inplace=True),\n",
    "            nn.Linear(in_features=400, out_features=16),\n",
    "            nn.ReLU(inplace=True),\n",
    "            nn.Linear(in_features=16, out_features=1),\n",
    "        )\n",
    "        \n",
    "        ##### OUTPUT LAYER ##### \n",
    "        self.sigmoid = nn.Sigmoid()\n",
    "\n",
    "        ##### LOSS FUNCTION #####\n",
    "        self.binary_entropy_loss = nn.BCELoss()\n",
    "        \n",
    "        ##### OPTIMIZER #####\n",
    "        self.optimizer = torch.optim.SGD(self.parameters(), lr=lr)\n",
    "        \n",
    "    def forward(self, x): \n",
    "        \"\"\"Perform forward pass.\"\"\"\n",
    "\n",
    "        # Pass through convolution layers\n",
    "        x = self.conv_layer(x)\n",
    "        \n",
    "        # Flatten the output after convolution\n",
    "        x = x.view(x.size(0), -1)\n",
    "        \n",
    "        # Pass through fully-connected layer\n",
    "        x = self.fc_layer(x)\n",
    "        \n",
    "        # Sigmoid output activation since we are doing binary classification\n",
    "        x = self.sigmoid(x)\n",
    "        \n",
    "        return x\n",
    "\n",
    "    def predict(self, x, threshold=0.5):\n",
    "        \"\"\"Make a binary prediction based on the sigmoid probabilities. \n",
    "        \n",
    "        Note: The threshold is set to 0.5 by default.\n",
    "        \"\"\"\n",
    "        \n",
    "        # Pass data through network once\n",
    "        predictions = self.forward(x)\n",
    "\n",
    "        # Hard class prediction: Make a prediction (0 or 1) based on forward pass results\n",
    "        hard_class_prediction = (predictions > threshold).numpy().astype(int).reshape(-1)\n",
    "\n",
    "        return hard_class_prediction\n",
    "    \n"
   ]
  },
  {
   "cell_type": "markdown",
   "id": "97dbe397",
   "metadata": {},
   "source": [
    "<a id='sample_train'></a>\n",
    "### Sample training on one signal"
   ]
  },
  {
   "cell_type": "code",
   "execution_count": 16,
   "id": "73a26591",
   "metadata": {},
   "outputs": [
    {
     "name": "stdout",
     "output_type": "stream",
     "text": [
      "torch.Size([1000]) torch.Size([])\n"
     ]
    }
   ],
   "source": [
    "# Sample training \n",
    "\n",
    "sample = X_train[0]\n",
    "sample_label = y_train[0]\n",
    "\n",
    "print(sample.shape, sample_label.shape)"
   ]
  },
  {
   "cell_type": "markdown",
   "id": "f2eb7f68",
   "metadata": {},
   "source": [
    "> **Note**: We have to add two dimensions to our data. Since we are dealing with 1 dimensional signals, the model takes an input tensor with the following format: `[batch_size, channels, signal_length]`.\n",
    "\n",
    "We are using a batch size of 1 and since we are only using 1 Lead in our ECG signals, our channels is also 1."
   ]
  },
  {
   "cell_type": "code",
   "execution_count": 17,
   "id": "c55d60ad",
   "metadata": {
    "scrolled": false
   },
   "outputs": [
    {
     "data": {
      "text/plain": [
       "torch.Size([1, 1, 1000])"
      ]
     },
     "execution_count": 17,
     "metadata": {},
     "output_type": "execute_result"
    }
   ],
   "source": [
    "# Using unsqueeze to add dimensions to our input signal\n",
    "sample.unsqueeze(0).unsqueeze(0).shape"
   ]
  },
  {
   "cell_type": "code",
   "execution_count": 18,
   "id": "6232a4ba",
   "metadata": {
    "scrolled": false
   },
   "outputs": [
    {
     "data": {
      "text/plain": [
       "SimpleCNN(\n",
       "  (conv_layer): Sequential(\n",
       "    (0): Conv1d(1, 16, kernel_size=(11,), stride=(1,), padding=(5,))\n",
       "    (1): LeakyReLU(negative_slope=0.01, inplace=True)\n",
       "    (2): MaxPool1d(kernel_size=2, stride=2, padding=0, dilation=1, ceil_mode=False)\n",
       "    (3): Dropout1d(p=0.2, inplace=True)\n",
       "    (4): Conv1d(16, 32, kernel_size=(11,), stride=(1,), padding=(5,))\n",
       "    (5): LeakyReLU(negative_slope=0.01, inplace=True)\n",
       "    (6): MaxPool1d(kernel_size=2, stride=2, padding=0, dilation=1, ceil_mode=False)\n",
       "    (7): Dropout1d(p=0.2, inplace=True)\n",
       "    (8): Conv1d(32, 64, kernel_size=(11,), stride=(1,), padding=(5,))\n",
       "    (9): LeakyReLU(negative_slope=0.01, inplace=True)\n",
       "    (10): MaxPool1d(kernel_size=2, stride=2, padding=0, dilation=1, ceil_mode=False)\n",
       "    (11): Dropout1d(p=0.2, inplace=True)\n",
       "  )\n",
       "  (fc_layer): Sequential(\n",
       "    (0): Linear(in_features=8000, out_features=400, bias=True)\n",
       "    (1): ReLU(inplace=True)\n",
       "    (2): Linear(in_features=400, out_features=16, bias=True)\n",
       "    (3): ReLU(inplace=True)\n",
       "    (4): Linear(in_features=16, out_features=1, bias=True)\n",
       "  )\n",
       "  (sigmoid): Sigmoid()\n",
       "  (binary_entropy_loss): BCELoss()\n",
       ")"
      ]
     },
     "execution_count": 18,
     "metadata": {},
     "output_type": "execute_result"
    }
   ],
   "source": [
    "# Initializing the model\n",
    "\n",
    "cnn_model = SimpleCNN()\n",
    "cnn_model"
   ]
  },
  {
   "cell_type": "code",
   "execution_count": 19,
   "id": "747da1eb",
   "metadata": {},
   "outputs": [],
   "source": [
    "# Clear any gradients from previous run (in this case this is our first and only run)\n",
    "cnn_model.optimizer.zero_grad()"
   ]
  },
  {
   "cell_type": "code",
   "execution_count": 20,
   "id": "1b2740ce",
   "metadata": {},
   "outputs": [],
   "source": [
    "# Pass through 1 training signal to model after reshaping size\n",
    "outputs = cnn_model.forward(sample.unsqueeze(0).unsqueeze(0))\n",
    "# outputs = cnn_model(sample.unsqueeze(1))"
   ]
  },
  {
   "cell_type": "code",
   "execution_count": 21,
   "id": "b77b6548",
   "metadata": {},
   "outputs": [
    {
     "data": {
      "text/plain": [
       "tensor([[0.4444]], grad_fn=<SigmoidBackward0>)"
      ]
     },
     "execution_count": 21,
     "metadata": {},
     "output_type": "execute_result"
    }
   ],
   "source": [
    "# Output after one pass\n",
    "outputs"
   ]
  },
  {
   "cell_type": "code",
   "execution_count": 22,
   "id": "1b0e06ac",
   "metadata": {},
   "outputs": [],
   "source": [
    "# Convert sigmoid output to hard predictions (1s and 0s)\n",
    "binary_array = (outputs > 0.5).numpy().astype(int).reshape(-1)"
   ]
  },
  {
   "cell_type": "code",
   "execution_count": 23,
   "id": "5788e195",
   "metadata": {},
   "outputs": [
    {
     "data": {
      "text/plain": [
       "array([0])"
      ]
     },
     "execution_count": 23,
     "metadata": {},
     "output_type": "execute_result"
    }
   ],
   "source": [
    "# Hard predictions\n",
    "binary_array"
   ]
  },
  {
   "cell_type": "code",
   "execution_count": 24,
   "id": "fcc59424",
   "metadata": {},
   "outputs": [
    {
     "data": {
      "text/plain": [
       "array([1])"
      ]
     },
     "execution_count": 24,
     "metadata": {},
     "output_type": "execute_result"
    }
   ],
   "source": [
    "# True labels \n",
    "sample_label.numpy().astype(int).reshape(-1)"
   ]
  },
  {
   "cell_type": "code",
   "execution_count": 25,
   "id": "ad32b28e",
   "metadata": {},
   "outputs": [],
   "source": [
    "# Compare hard predictions and true labels\n",
    "accuracy = (binary_array == sample_label.numpy().astype(int).reshape(-1)).sum().item() / sample_label.unsqueeze(0).size(0)\n",
    "\n",
    "# Keeping it as a tensor\n",
    "# accuracy = (binary_array == sample_label).sum().item() / sample_label.unsqueeze(0).size(0)"
   ]
  },
  {
   "cell_type": "code",
   "execution_count": 26,
   "id": "56dd5e7f",
   "metadata": {},
   "outputs": [
    {
     "data": {
      "text/plain": [
       "0.0"
      ]
     },
     "execution_count": 26,
     "metadata": {},
     "output_type": "execute_result"
    }
   ],
   "source": [
    "# Accuracy\n",
    "accuracy"
   ]
  },
  {
   "cell_type": "code",
   "execution_count": 27,
   "id": "8ef01e9f",
   "metadata": {},
   "outputs": [],
   "source": [
    "# Compute the binary entropy loss after one training and label\n",
    "# Note, we need to transform the label to a tensor of the right size as well\n",
    "loss = cnn_model.binary_entropy_loss(outputs, torch.tensor([[sample_label]]))"
   ]
  },
  {
   "cell_type": "code",
   "execution_count": 28,
   "id": "5d828989",
   "metadata": {},
   "outputs": [
    {
     "data": {
      "text/plain": [
       "tensor(0.8109, grad_fn=<BinaryCrossEntropyBackward0>)"
      ]
     },
     "execution_count": 28,
     "metadata": {},
     "output_type": "execute_result"
    }
   ],
   "source": [
    "# Loss\n",
    "loss"
   ]
  },
  {
   "cell_type": "code",
   "execution_count": 29,
   "id": "0d0f470b",
   "metadata": {},
   "outputs": [],
   "source": [
    "# Backpropagation - computes the gradients\n",
    "loss.backward()"
   ]
  },
  {
   "cell_type": "code",
   "execution_count": 30,
   "id": "3b87b04f",
   "metadata": {},
   "outputs": [],
   "source": [
    "# Update weights\n",
    "cnn_model.optimizer.step()"
   ]
  },
  {
   "cell_type": "markdown",
   "id": "3da115b1",
   "metadata": {},
   "source": [
    "### Evaluation Metrics\n",
    "Let's create some function that we will use as our metrics to evaluate how well our model is doing. "
   ]
  },
  {
   "cell_type": "code",
   "execution_count": 31,
   "id": "2042817b",
   "metadata": {},
   "outputs": [],
   "source": [
    "def get_accuracy(model, dataloader):\n",
    "    \"\"\"Calculate the accuracy of the model given the model itself and the data.\"\"\"\n",
    "    \n",
    "    model.eval()\n",
    "    \n",
    "    correct_label = 0\n",
    "    total_cases = 0\n",
    "    \n",
    "    # Pass through the data\n",
    "    with torch.no_grad():\n",
    "        for batch in dataloader:\n",
    "            signal, label = batch\n",
    "\n",
    "            # Get the prediction and compare to label\n",
    "            prediction = model.predict(signal)\n",
    "\n",
    "            # Get the number of samples in a batch\n",
    "            total_cases += label.size(0)\n",
    "            \n",
    "            # Count the number of correctly predicted labels\n",
    "            correct_label += (prediction == label.numpy().astype(int).reshape(-1)).sum().item()\n",
    "        \n",
    "    return (correct_label / total_cases) * 100\n",
    "\n",
    "def get_loss(model, dataloader):\n",
    "    \n",
    "    model.eval()\n",
    "    \n",
    "    loss = 0\n",
    "    \n",
    "    with torch.no_grad():\n",
    "        for batch in dataloader:\n",
    "\n",
    "            # Data from first batch (32 signals)\n",
    "            signal, label = batch\n",
    "\n",
    "            # Forward pass\n",
    "            output = model(signal)\n",
    "\n",
    "            # Calculate loss\n",
    "            loss += model.binary_entropy_loss(output.squeeze(1), label).item()\n",
    "            \n",
    "    return loss / len(dataloader)"
   ]
  },
  {
   "cell_type": "markdown",
   "id": "ce792822",
   "metadata": {},
   "source": [
    "Without any model training, let's see how accurate the model is at predicting our data set. "
   ]
  },
  {
   "cell_type": "code",
   "execution_count": 32,
   "id": "8171a362",
   "metadata": {},
   "outputs": [
    {
     "name": "stdout",
     "output_type": "stream",
     "text": [
      "Testing accuracy without training 55.13392857142857\n",
      "Testing loss without training 0.6877828264723018\n"
     ]
    }
   ],
   "source": [
    "# Testing accuracy without training\n",
    "print(f\"Testing accuracy without training {get_accuracy(cnn_model, testing_loader)}\")\n",
    "print(f\"Testing loss without training {get_loss(cnn_model, testing_loader)}\")"
   ]
  },
  {
   "cell_type": "markdown",
   "id": "3a8fbeb6",
   "metadata": {},
   "source": [
    "<a id='training'></a>\n",
    "### Training Model"
   ]
  },
  {
   "cell_type": "code",
   "execution_count": 33,
   "id": "d2e28ab0",
   "metadata": {},
   "outputs": [
    {
     "data": {
      "text/plain": [
       "SimpleCNN(\n",
       "  (conv_layer): Sequential(\n",
       "    (0): Conv1d(1, 16, kernel_size=(11,), stride=(1,), padding=(5,))\n",
       "    (1): LeakyReLU(negative_slope=0.01, inplace=True)\n",
       "    (2): MaxPool1d(kernel_size=2, stride=2, padding=0, dilation=1, ceil_mode=False)\n",
       "    (3): Dropout1d(p=0.2, inplace=True)\n",
       "    (4): Conv1d(16, 32, kernel_size=(11,), stride=(1,), padding=(5,))\n",
       "    (5): LeakyReLU(negative_slope=0.01, inplace=True)\n",
       "    (6): MaxPool1d(kernel_size=2, stride=2, padding=0, dilation=1, ceil_mode=False)\n",
       "    (7): Dropout1d(p=0.2, inplace=True)\n",
       "    (8): Conv1d(32, 64, kernel_size=(11,), stride=(1,), padding=(5,))\n",
       "    (9): LeakyReLU(negative_slope=0.01, inplace=True)\n",
       "    (10): MaxPool1d(kernel_size=2, stride=2, padding=0, dilation=1, ceil_mode=False)\n",
       "    (11): Dropout1d(p=0.2, inplace=True)\n",
       "  )\n",
       "  (fc_layer): Sequential(\n",
       "    (0): Linear(in_features=8000, out_features=400, bias=True)\n",
       "    (1): ReLU(inplace=True)\n",
       "    (2): Linear(in_features=400, out_features=16, bias=True)\n",
       "    (3): ReLU(inplace=True)\n",
       "    (4): Linear(in_features=16, out_features=1, bias=True)\n",
       "  )\n",
       "  (sigmoid): Sigmoid()\n",
       "  (binary_entropy_loss): BCELoss()\n",
       ")"
      ]
     },
     "execution_count": 33,
     "metadata": {},
     "output_type": "execute_result"
    }
   ],
   "source": [
    "# Instantiate model\n",
    "CNN_model = SimpleCNN(lr=0.05)\n",
    "CNN_model"
   ]
  },
  {
   "cell_type": "code",
   "execution_count": 34,
   "id": "e83c822e",
   "metadata": {
    "scrolled": false
   },
   "outputs": [
    {
     "name": "stdout",
     "output_type": "stream",
     "text": [
      "Training epoch: 1\n",
      "Train loss: 0.689 | Test loss: 0.6848 | Train accuracy: 54.4621 | Test accuracy: 55.1339\n",
      "Training epoch: 2\n",
      "Train loss: 0.6806 | Test loss: 0.6607 | Train accuracy: 55.8834 | Test accuracy: 61.7985\n",
      "Training epoch: 3\n",
      "Train loss: 0.6373 | Test loss: 0.5584 | Train accuracy: 65.5454 | Test accuracy: 72.9592\n",
      "Training epoch: 4\n",
      "Train loss: 0.5575 | Test loss: 0.4836 | Train accuracy: 73.2315 | Test accuracy: 78.1569\n",
      "Training epoch: 5\n",
      "Train loss: 0.4971 | Test loss: 0.4439 | Train accuracy: 78.0143 | Test accuracy: 79.7194\n",
      "Training epoch: 6\n",
      "Train loss: 0.4637 | Test loss: 0.4055 | Train accuracy: 80.647 | Test accuracy: 83.227\n",
      "Training epoch: 7\n",
      "Train loss: 0.4326 | Test loss: 0.454 | Train accuracy: 81.9456 | Test accuracy: 79.2411\n",
      "Training epoch: 8\n",
      "Train loss: 0.416 | Test loss: 0.3741 | Train accuracy: 82.7038 | Test accuracy: 83.8967\n",
      "Training epoch: 9\n",
      "Train loss: 0.4057 | Test loss: 0.3843 | Train accuracy: 83.2642 | Test accuracy: 83.4184\n",
      "Training epoch: 10\n",
      "Train loss: 0.3954 | Test loss: 0.3681 | Train accuracy: 83.9398 | Test accuracy: 84.3112\n",
      "...Training finished\n"
     ]
    }
   ],
   "source": [
    "num_epochs = 10\n",
    "\n",
    "training_accuracy = []\n",
    "testing_accuracy = []\n",
    "training_loss = []\n",
    "testing_loss = []\n",
    "\n",
    "# Loop over data \n",
    "for epoch in range(num_epochs):\n",
    "    \n",
    "    # Activate training model\n",
    "    CNN_model.train()\n",
    "    \n",
    "    loss_sum = 0\n",
    "    accuracy_sum = 0\n",
    "    \n",
    "    print(f\"Training epoch: {epoch+1}\")\n",
    "    \n",
    "    # Loop through batch in dataloader like in the function above\n",
    "    for batch in training_loader:\n",
    "        \n",
    "        # Data from first batch (32 signals)\n",
    "        inputs, labels = batch\n",
    "\n",
    "        # Forward pass\n",
    "        outputs = CNN_model(inputs)\n",
    "        \n",
    "        # Calculate loss\n",
    "        loss = CNN_model.binary_entropy_loss(outputs.squeeze(1), labels)\n",
    "        \n",
    "        # Clear gradients first from previous run\n",
    "        CNN_model.optimizer.zero_grad()\n",
    "        \n",
    "        # Backpropagation - compute the gradients\n",
    "        loss.backward()\n",
    "        \n",
    "        # Update model parameters based on computed gradients\n",
    "        CNN_model.optimizer.step()\n",
    "        \n",
    "        # Save loss in this batch\n",
    "        loss_sum += loss.item()\n",
    "        \n",
    "        # After updating the model, we want to compute the accuracy\n",
    "        with torch.no_grad():\n",
    "            predicted = CNN_model.predict(inputs)\n",
    "            accuracy_sum += (labels.numpy().astype(int).reshape(-1) == predicted).sum().item() / labels.size(0)\n",
    "            \n",
    "    # After the batch, we want to calculate the average training metrics\n",
    "    accuracy_avg = accuracy_sum / len(training_loader)\n",
    "    loss_avg = loss_sum / len(training_loader)\n",
    "    \n",
    "    # We will also calculate the testing metrics\n",
    "    test_accuracy = get_accuracy(CNN_model, testing_loader)\n",
    "    test_loss = get_loss(CNN_model, testing_loader)\n",
    "    \n",
    "    # Save metrics\n",
    "    training_accuracy.append(accuracy_avg)\n",
    "    training_loss.append(loss_avg)\n",
    "    testing_accuracy.append(test_accuracy)\n",
    "    testing_loss.append(test_loss)\n",
    "    \n",
    "    # Print results\n",
    "    print(f\"Train loss: {np.round(loss_avg, 3)} | \"\\\n",
    "          f\"Test loss: {np.round(test_loss, 3)} | \"\\\n",
    "          f\"Train accuracy: {np.round(accuracy_avg*100, 2)} | \"\\\n",
    "          f\"Test accuracy: {np.round(test_accuracy, 2)}\")\n",
    "    \n",
    "print(\"...Training finished\")"
   ]
  },
  {
   "cell_type": "markdown",
   "id": "e75d33bb",
   "metadata": {},
   "source": [
    "Let's look at our model accuracy:"
   ]
  },
  {
   "cell_type": "code",
   "execution_count": 40,
   "id": "e7cd5735",
   "metadata": {},
   "outputs": [
    {
     "name": "stdout",
     "output_type": "stream",
     "text": [
      "Train accuracy: 83.93981055536969\n",
      "Test accuracy: 84.31122448979592\n"
     ]
    }
   ],
   "source": [
    "print(f\"Train accuracy: {np.round(training_accuracy[-1]*100)}\")\n",
    "print(f\"Test accuracy: {np.round(testing_accuracy[-1])}\")"
   ]
  },
  {
   "cell_type": "markdown",
   "id": "d8dd8000",
   "metadata": {},
   "source": [
    "The result seems to be pretty good at approximately 83% accuracy without overfitting presenting. Let's see how the loss function decreased over the epochs along with the accuracy."
   ]
  },
  {
   "cell_type": "markdown",
   "id": "59d3cecb",
   "metadata": {},
   "source": [
    "<a id='eval'></a>\n",
    "### Model Evaluation\n",
    "\n",
    "Below we plot the training and testing loss as the model was being trained, as well as its accuracy."
   ]
  },
  {
   "cell_type": "code",
   "execution_count": 36,
   "id": "d34860b3",
   "metadata": {
    "scrolled": false
   },
   "outputs": [
    {
     "data": {
      "image/png": "[encoded data removed]",
      "text/plain": [
       "<Figure size 640x480 with 1 Axes>"
      ]
     },
     "metadata": {},
     "output_type": "display_data"
    },
    {
     "data": {
      "image/png": "[encoded data removed]",
      "text/plain": [
       "<Figure size 640x480 with 1 Axes>"
      ]
     },
     "metadata": {},
     "output_type": "display_data"
    }
   ],
   "source": [
    "plt.figure()\n",
    "plt.plot(range(1, len(training_loss)+1), training_loss, label=\"Training Loss\", marker='o')\n",
    "plt.plot(range(1, len(testing_loss)+1), testing_loss, label=\"Testing Loss\", marker='o')\n",
    "plt.title(\"Training and testing loss\".title())\n",
    "plt.xlabel(\"Epoch\")\n",
    "plt.ylabel(\"Loss\")\n",
    "plt.legend()\n",
    "plt.show()\n",
    "\n",
    "plt.figure()\n",
    "plt.plot(range(1, len(training_accuracy)+1), np.array(training_accuracy)*100, label=\"Training Accuracy\", marker='o')\n",
    "plt.plot(range(1, len(testing_accuracy)+1), testing_accuracy, label=\"Testing Accuracy\", marker='o')\n",
    "plt.title(\"Training and testing accuracy\".title())\n",
    "plt.xlabel(\"Epoch\")\n",
    "plt.ylabel(\"Accuracy (%)\")\n",
    "plt.legend()\n",
    "plt.show()"
   ]
  },
  {
   "cell_type": "markdown",
   "id": "c52fdf9e",
   "metadata": {},
   "source": [
    "From the plots above, we see that the training loss steadily decreases as the accuracy improves. On the other hand, the testing loss also decreases steadily except for at one epoch where it increased a little bit and then went back to decreasing. \n",
    "\n",
    "> **Note**: We saw a similar behaviour in our RNN model during training where the loss increases and then decreases again. The cause of this is still yet to be determined. \n",
    "\n",
    "We aren't stopping here though, we have to dig deeper into our results. Like how we did for our RNN model, we will look into the classification report to see how other metrics are, such as precision and recall, as well as the confusion matrix to see how our model is classifying these signals. "
   ]
  },
  {
   "cell_type": "code",
   "execution_count": 37,
   "id": "c0e0b88e",
   "metadata": {},
   "outputs": [
    {
     "name": "stdout",
     "output_type": "stream",
     "text": [
      "              precision    recall  f1-score   support\n",
      "\n",
      "         0.0       0.89      0.82      0.85      1729\n",
      "         1.0       0.80      0.87      0.83      1407\n",
      "\n",
      "    accuracy                           0.84      3136\n",
      "   macro avg       0.84      0.85      0.84      3136\n",
      "weighted avg       0.85      0.84      0.84      3136\n",
      "\n"
     ]
    }
   ],
   "source": [
    "# Make predictions \n",
    "predictions = CNN_model.predict(X_test.unsqueeze(1))\n",
    "\n",
    "# Compute classification report\n",
    "cr = classification_report(y_test, predictions)\n",
    "print(cr)"
   ]
  },
  {
   "cell_type": "markdown",
   "id": "4d459919",
   "metadata": {},
   "source": [
    "As a reminder, **Recall** score is defined as follows:\n",
    "\n",
    "$$\n",
    "\\rm Recall = \\frac{TP}{TP + FN}\n",
    "$$\n",
    "\n",
    "where  \n",
    "- **TP** = True Positive\n",
    "- **TN** = True Negative\n",
    "- **FP** = False Positive\n",
    "- **FN** = False Negative\n",
    "\n",
    "From our classification report, we see that our recall score is actually higher for `class 1` at 87%, that is `normal` labelled ECGs. \n",
    "> **Note**: We want a model that has a higher recall for `class 0` since we are trying to identify anyone that has even the slightest possibility of having an abnormal heart rhythm, even if this means misclassifying people who are fine. This can be another goal for when we optimize our model by adjusting parameters such as the binary prediction threshold.\n",
    "\n",
    "On the other hand, **Precision** is defined as follows:\n",
    "\n",
    "$$\n",
    "\\rm Precision = \\frac{TP}{TP + FP}\n",
    "$$\n",
    "\n",
    "For our situation we do not need to put as much emphasis on having a high precision since we are not as concerned with classifying precisely, rather we are more concerned about the models sensitivity in detecting abnormal ECGs. Nonetheless, our model precisely classified abnormal signals 89% of the time. \n",
    "\n",
    "Next, we will look into the confusion matrix."
   ]
  },
  {
   "cell_type": "code",
   "execution_count": 38,
   "id": "a4b896a3",
   "metadata": {},
   "outputs": [
    {
     "data": {
      "text/html": [
       "<div>\n",
       "<style scoped>\n",
       "    .dataframe tbody tr th:only-of-type {\n",
       "        vertical-align: middle;\n",
       "    }\n",
       "\n",
       "    .dataframe tbody tr th {\n",
       "        vertical-align: top;\n",
       "    }\n",
       "\n",
       "    .dataframe thead th {\n",
       "        text-align: right;\n",
       "    }\n",
       "</style>\n",
       "<table border=\"1\" class=\"dataframe\">\n",
       "  <thead>\n",
       "    <tr style=\"text-align: right;\">\n",
       "      <th></th>\n",
       "      <th>Predicted Abnormal</th>\n",
       "      <th>Predicted Normal</th>\n",
       "    </tr>\n",
       "  </thead>\n",
       "  <tbody>\n",
       "    <tr>\n",
       "      <th>True Abnormal</th>\n",
       "      <td>1415</td>\n",
       "      <td>314</td>\n",
       "    </tr>\n",
       "    <tr>\n",
       "      <th>True Normal</th>\n",
       "      <td>178</td>\n",
       "      <td>1229</td>\n",
       "    </tr>\n",
       "  </tbody>\n",
       "</table>\n",
       "</div>"
      ],
      "text/plain": [
       "               Predicted Abnormal  Predicted Normal\n",
       "True Abnormal                1415               314\n",
       "True Normal                   178              1229"
      ]
     },
     "metadata": {},
     "output_type": "display_data"
    }
   ],
   "source": [
    "# Generate confusion matrix\n",
    "cf_matrix = confusion_matrix(y_test, predictions)\n",
    "\n",
    "# label rows and columns\n",
    "cf_df = pd.DataFrame(\n",
    "    cf_matrix, \n",
    "    columns=[\"Predicted Abnormal\", \"Predicted Normal\"],\n",
    "    index=[\"True Abnormal\", \"True Normal\"]\n",
    ")\n",
    "\n",
    "# display(cf_df)"
   ]
  },
  {
   "cell_type": "code",
   "execution_count": 42,
   "id": "a589c4d4",
   "metadata": {},
   "outputs": [
    {
     "data": {
      "image/png": "[encoded data removed]",
      "text/plain": [
       "<Figure size 700x500 with 2 Axes>"
      ]
     },
     "metadata": {},
     "output_type": "display_data"
    }
   ],
   "source": [
    "plt.figure(figsize=(7,5))\n",
    "sns.heatmap(cf_matrix,\n",
    "            annot=True,\n",
    "            cbar=True,\n",
    "            cmap=\"viridis\",\n",
    "            linewidths=1,\n",
    "            fmt='d'\n",
    ")\n",
    "plt.title('Confusion Matrix', size=15)\n",
    "plt.xlabel(\"Predicted Label\", size=12)\n",
    "plt.ylabel(\"True Label\", size=12)\n",
    "plt.show()"
   ]
  },
  {
   "cell_type": "markdown",
   "id": "5a136627",
   "metadata": {},
   "source": [
    "Looking at the confusion matrix, we see that our model seems to **predict more abnormal signals as normal** rather than the other way around. Again this is not what we are hoping for if we are to deploy this model for early detection. This can be adjusted when we hyperparameter tune our model. \n",
    "\n",
    "Finally, we will look at the ROC curve and AUC score. "
   ]
  },
  {
   "cell_type": "code",
   "execution_count": 48,
   "id": "1abce038",
   "metadata": {
    "scrolled": false
   },
   "outputs": [
    {
     "data": {
      "image/png": "[encoded data removed]",
      "text/plain": [
       "<Figure size 640x480 with 1 Axes>"
      ]
     },
     "metadata": {},
     "output_type": "display_data"
    },
    {
     "name": "stdout",
     "output_type": "stream",
     "text": [
      "Area under curve (AUC):0.9102007108964802\n",
      "\n"
     ]
    }
   ],
   "source": [
    "prediction_prob = CNN_model.forward(X_test.unsqueeze(1)).detach().numpy()\n",
    "\n",
    "fprs, tprs, thresholds = roc_curve(y_test, prediction_prob)\n",
    "roc_auc = roc_auc_score(y_test, prediction_prob)\n",
    "\n",
    "plt.figure()\n",
    "plt.plot(fprs, tprs, color='darkorange',\n",
    "         lw=2, label='AUC = %0.2f' % roc_auc)\n",
    "plt.plot([0, 1], [0, 1], color='navy', lw=2, linestyle='--')\n",
    "plt.xlabel('False Positive Rate (FPR)')\n",
    "plt.ylabel('True Positive Rate (TPR)')\n",
    "plt.title('ROC Curve for ECG Rhythm Prediction Using CNN')\n",
    "plt.legend(loc=\"best\")\n",
    "plt.savefig('cnn_roc_curve.jpg')\n",
    "plt.show()\n",
    "\n",
    "print(f'Area under curve (AUC): {roc_auc}')\n",
    "print()"
   ]
  },
  {
   "cell_type": "markdown",
   "id": "b3837a06",
   "metadata": {},
   "source": [
    "As a reminder, the ROC Curve plots the performance of the model at various classification thresholds. We can see that our model already has a really high True Positive Rate (TPR or Recall) for a low False Positive Rate (FPR). \n",
    ">**Note**: FPR is the rate at which our model would classify an abnormal ECG signal as normal. \n",
    "\n",
    "On the other hand, our Area Under the Curve (AUC) score is at 0.91 which is pretty high. It can be interpreted as the probability of a random normal class being ranked higher than a random abnormal class, in terms of binary classification. "
   ]
  },
  {
   "cell_type": "code",
   "execution_count": null,
   "id": "9acf7b90",
   "metadata": {},
   "outputs": [],
   "source": []
  },
  {
   "cell_type": "code",
   "execution_count": null,
   "id": "bd5fbbd6",
   "metadata": {},
   "outputs": [],
   "source": []
  },
  {
   "cell_type": "code",
   "execution_count": null,
   "id": "c4a8d1f5",
   "metadata": {},
   "outputs": [],
   "source": []
  }
 ],
 "metadata": {
  "kernelspec": {
   "display_name": "ecgcap",
   "language": "python",
   "name": "ecgcap"
  },
  "language_info": {
   "codemirror_mode": {
    "name": "ipython",
    "version": 3
   },
   "file_extension": ".py",
   "mimetype": "text/x-python",
   "name": "python",
   "nbconvert_exporter": "python",
   "pygments_lexer": "ipython3",
   "version": "3.10.14"
  }
 },
 "nbformat": 4,
 "nbformat_minor": 5
}
