{
 "cells": [
  {
   "cell_type": "markdown",
   "id": "13dc42e2",
   "metadata": {},
   "source": [
    "## ECG Classification Using Convolutional Neural Networks\n",
    "\n",
    "Author: Calvin Chan \n",
    "\n",
    "### Introduction\n",
    "For our last notebook, we will use the concept of convolution to model our ECG timeseries data. Traditionally, image analysis uses a 2D convolution to extract features from images, however since we are working with signals this would not work. Instead of 2D convolutions, we will convolve over our signals using 1D convolutions since our data only comes with one spatial dimension.\n",
    "\n",
    "In contrast to our RNN model being implemented using TensorFlow, we will implement our CNN using **PyTorch**. This is to showcase the flexibilty of PyTorch through Object-Oriented Programming. \n",
    "\n",
    "### Table of Contents\n",
    "1. [Data Import](#import)\n",
    "2. [Data Preprocessing](#preprocessing)  \n",
    "    2.1. [Binary Classification](#binary)  \n",
    "    2.2. [Signal Denoising](#denoising)  \n",
    "    2.3. [Train Test Split](#train_test)  \n",
    "    2.4. [Scaling](#scaling)  \n",
    "    2.5. [Transform to Torch Tensors](#torch)  \n",
    "    2.6. [Data Loaders](#loaders)  \n",
    "3. [CNN Setup and Implementation](#setup)\n",
    "4. [Sample Training on One Signal](#sample_train)\n",
    "5. [Training CNN Model](#training)\n",
    "6. [Model Evaluation](#eval)\n",
    "\n",
    "Here, we import all the necessary packages used in this notebook."
   ]
  },
  {
   "cell_type": "code",
   "execution_count": 456,
   "id": "db2e2f7d",
   "metadata": {},
   "outputs": [],
   "source": [
    "import numpy as np\n",
    "import pandas as pd\n",
    "import matplotlib.pyplot as plt \n",
    "import torch \n",
    "import torch.nn as nn\n",
    "import load_functions as f\n",
    "from sklearn.model_selection import train_test_split\n",
    "from sklearn.preprocessing import StandardScaler, LabelEncoder\n",
    "from sklearn.metrics import accuracy_score, classification_report, confusion_matrix, ConfusionMatrixDisplay, roc_curve, roc_auc_score\n",
    "from tqdm.notebook import trange, tnrange, tqdm_notebook\n",
    "from torch.utils.data import TensorDataset, DataLoader\n",
    "\n",
    "import sys\n",
    "sys.path.append('..')\n",
    "from Notebooks import ecg_cleaning as c\n",
    "\n",
    "# Autosave every minute\n",
    "%autosave 60"
   ]
  },
  {
   "cell_type": "markdown",
   "id": "c2385607",
   "metadata": {},
   "source": [
    "<a id='import'></a>\n",
    "### Data Import\n",
    "\n",
    "Below we load our full data set."
   ]
  },
  {
   "cell_type": "code",
   "execution_count": 3,
   "id": "3e6ffd42",
   "metadata": {},
   "outputs": [],
   "source": [
    "# File Path\n",
    "path = '../data/physionet.org/files/ptb-xl/1.0.3/'\n",
    "metadata = pd.read_csv('../data/cleaned_metadata.csv')\n",
    "\n",
    "# Import data\n",
    "full_data = f.load_signal(path, metadata)"
   ]
  },
  {
   "cell_type": "code",
   "execution_count": 4,
   "id": "f77e9b31",
   "metadata": {},
   "outputs": [
    {
     "data": {
      "text/plain": [
       "((15677, 1000, 12), (15677,))"
      ]
     },
     "execution_count": 4,
     "metadata": {},
     "output_type": "execute_result"
    }
   ],
   "source": [
    "# Let's look at the data shape \n",
    "full_data[0].shape, full_data[1].shape"
   ]
  },
  {
   "cell_type": "markdown",
   "id": "0cbb5e0b",
   "metadata": {},
   "source": [
    "We also want to look at Lead II only. "
   ]
  },
  {
   "cell_type": "code",
   "execution_count": 5,
   "id": "34590d4e",
   "metadata": {},
   "outputs": [
    {
     "data": {
      "text/plain": [
       "((15677, 1000), (15677,))"
      ]
     },
     "execution_count": 5,
     "metadata": {},
     "output_type": "execute_result"
    }
   ],
   "source": [
    "# Slicing only for Lead II \n",
    "X = full_data[0][:,:,1]\n",
    "y = full_data[1]\n",
    "\n",
    "X.shape, y.shape"
   ]
  },
  {
   "cell_type": "markdown",
   "id": "408f7b31",
   "metadata": {},
   "source": [
    "<a id='preprocessing'></a>\n",
    "### Data Preprocessing "
   ]
  },
  {
   "cell_type": "markdown",
   "id": "1c291acd",
   "metadata": {},
   "source": [
    "<a id='binary'></a>\n",
    "#### Binary Classification"
   ]
  },
  {
   "cell_type": "code",
   "execution_count": 6,
   "id": "a967adc4",
   "metadata": {},
   "outputs": [],
   "source": [
    "# Transform target column into binary classes\n",
    "y = y.apply(lambda x: f.binary(x))"
   ]
  },
  {
   "cell_type": "code",
   "execution_count": 7,
   "id": "36b893bd",
   "metadata": {},
   "outputs": [
    {
     "data": {
      "text/plain": [
       "diagnostic_superclass\n",
       "ABNO    8645\n",
       "NORM    7032\n",
       "Name: count, dtype: int64"
      ]
     },
     "execution_count": 7,
     "metadata": {},
     "output_type": "execute_result"
    }
   ],
   "source": [
    "# Sanity check\n",
    "y.value_counts()"
   ]
  },
  {
   "cell_type": "code",
   "execution_count": 8,
   "id": "f7b53dc4",
   "metadata": {},
   "outputs": [],
   "source": [
    "# Instantiate LabelEncoder \n",
    "label = LabelEncoder()\n",
    "\n",
    "# Fit binary classes\n",
    "label.fit(y)\n",
    "\n",
    "# Transform classes\n",
    "y = label.transform(y)"
   ]
  },
  {
   "cell_type": "code",
   "execution_count": 9,
   "id": "7cb26b72",
   "metadata": {},
   "outputs": [
    {
     "data": {
      "text/plain": [
       "array([0, 1])"
      ]
     },
     "execution_count": 9,
     "metadata": {},
     "output_type": "execute_result"
    }
   ],
   "source": [
    "# Checking how our label is encoded\n",
    "label.transform(['ABNO', 'NORM'])"
   ]
  },
  {
   "cell_type": "markdown",
   "id": "06ffe05f",
   "metadata": {},
   "source": [
    "As we can see, signals that are labeled `ABNO` are mapped to `0` and `NORM` are mapped `1`. "
   ]
  },
  {
   "cell_type": "markdown",
   "id": "d29d05a1",
   "metadata": {},
   "source": [
    "<a id='denoising'></a>\n",
    "#### Signal denoising using ecg_cleaning.py\n",
    "\n",
    "In this following section, we denoise our ECG signals using Fourier Tranforms. We have to specify the frequencies in which we want to take out for baseline wandering and powerline interference. "
   ]
  },
  {
   "cell_type": "code",
   "execution_count": 11,
   "id": "20ee70d6",
   "metadata": {},
   "outputs": [],
   "source": [
    "# Low sampling frequency\n",
    "sig_len = 1000\n",
    "sampling_frequency = 100\n",
    "time = np.arange(0, sig_len) / sampling_frequency\n",
    "\n",
    "# Baseline and PLI removal\n",
    "signal_bl = np.apply_along_axis(c.baseline_removal, axis=1, arr=X, freq_start=0.1, freq_stop=1.5)\n",
    "signal_pli = np.apply_along_axis(c.high_freq_removal, axis=1, arr=signal_bl, freq_start=40)"
   ]
  },
  {
   "cell_type": "code",
   "execution_count": 12,
   "id": "9160008c",
   "metadata": {},
   "outputs": [
    {
     "data": {
      "text/plain": [
       "(15677, 1000)"
      ]
     },
     "execution_count": 12,
     "metadata": {},
     "output_type": "execute_result"
    }
   ],
   "source": [
    "# Check shape\n",
    "signal_pli.shape"
   ]
  },
  {
   "cell_type": "markdown",
   "id": "c9149508",
   "metadata": {},
   "source": [
    "<a id='train_test'></a>\n",
    "#### Train Test Split\n",
    "\n",
    "After preprocessing our signals, we can split our data set to training and testing. We will use `20%` of our data as testing and the rest as training. Since we have a data imbalance, we will include `stratify` as well.  "
   ]
  },
  {
   "cell_type": "code",
   "execution_count": 13,
   "id": "5d6ca143",
   "metadata": {},
   "outputs": [
    {
     "data": {
      "text/plain": [
       "((12541, 1000), (3136, 1000), (12541,), (3136,))"
      ]
     },
     "execution_count": 13,
     "metadata": {},
     "output_type": "execute_result"
    }
   ],
   "source": [
    "# Train/Test split\n",
    "X_train, X_test, y_train, y_test = train_test_split(signal_pli, y, test_size=0.2, stratify=y)\n",
    "\n",
    "# Checking the shape\n",
    "X_train.shape, X_test.shape, y_train.shape, y_test.shape"
   ]
  },
  {
   "cell_type": "markdown",
   "id": "6fcb0132",
   "metadata": {},
   "source": [
    "<a id='scaling'></a>\n",
    "#### Scaling \n",
    "\n",
    "Next, we want to scale our data. Since we are using using a neural network, as we calculate the gradient during backpropagation, distances can affect how well this is performed. We will use `StandardScaler` for our case."
   ]
  },
  {
   "cell_type": "code",
   "execution_count": 14,
   "id": "877e1a3b",
   "metadata": {},
   "outputs": [],
   "source": [
    "# Instantiate standard scaler\n",
    "ss = StandardScaler()\n",
    "\n",
    "# Fit and transform training set\n",
    "X_train = ss.fit_transform(X_train)\n",
    "\n",
    "# Transform testing set\n",
    "X_test = ss.transform(X_test)"
   ]
  },
  {
   "cell_type": "markdown",
   "id": "cea219c4",
   "metadata": {},
   "source": [
    "<a id='torch'></a>\n",
    "#### Transforming arrays into Torch Tensors\n",
    "\n",
    "Finally, we need to transform our NumPy arrays into torch tensors using the `torch` module."
   ]
  },
  {
   "cell_type": "code",
   "execution_count": 15,
   "id": "ce48c226",
   "metadata": {},
   "outputs": [
    {
     "name": "stdout",
     "output_type": "stream",
     "text": [
      "torch.Size([12541, 1000]) torch.Size([3136, 1000]) torch.Size([12541]) torch.Size([3136])\n"
     ]
    }
   ],
   "source": [
    "# Transforming independent variables\n",
    "X_train = torch.tensor(X_train, dtype=torch.float32)\n",
    "X_test = torch.tensor(X_test, dtype=torch.float32)\n",
    "\n",
    "# Transforming dependent variables\n",
    "y_train = torch.tensor(y_train, dtype=torch.float32)\n",
    "y_test = torch.tensor(y_test, dtype=torch.float32)\n",
    "\n",
    "# Sanity check\n",
    "print(X_train.shape, X_test.shape, y_train.shape, y_test.shape)"
   ]
  },
  {
   "cell_type": "markdown",
   "id": "e9f42f4a",
   "metadata": {},
   "source": [
    "<a id='loaders'></a>\n",
    "#### Data Loaders\n",
    "\n",
    "Since we want to implement batching, we will use PyTorch's `DataLoader` to do so."
   ]
  },
  {
   "cell_type": "code",
   "execution_count": 62,
   "id": "d498b257",
   "metadata": {},
   "outputs": [],
   "source": [
    "####### Setting batch size #######\n",
    "\n",
    "train_batch = 64\n",
    "test_batch = 64\n",
    "\n",
    "train_dataset = TensorDataset(X_train.unsqueeze(1), y_train)\n",
    "test_dataset = TensorDataset(X_test.unsqueeze(1), y_test)\n",
    "\n",
    "# Shuffle training set\n",
    "training_loader = DataLoader(train_dataset, batch_size=train_batch, shuffle=True)\n",
    "\n",
    "# Don't shuffle validation set\n",
    "testing_loader = DataLoader(test_dataset, batch_size=test_batch, shuffle=False)"
   ]
  },
  {
   "cell_type": "markdown",
   "id": "a7569a59",
   "metadata": {},
   "source": [
    "<a id='setup'></a>\n",
    "### Model Setup and Implementation"
   ]
  },
  {
   "cell_type": "code",
   "execution_count": 762,
   "id": "53f4cbd9",
   "metadata": {},
   "outputs": [],
   "source": [
    "class SimpleCNN(nn.Module):\n",
    "    \"\"\"Starting off with a simple cnn.\"\"\"\n",
    "    \n",
    "    def __init__(self, lr=0.01):\n",
    "        super(SimpleCNN, self).__init__()\n",
    "        \n",
    "        ##### CONVOLUTION LAYERS #####\n",
    "        self.conv_layer = nn.Sequential(\n",
    "            \n",
    "            # Convolution block 1\n",
    "            nn.Conv1d(in_channels=1, out_channels=16, kernel_size=11, padding=5), # kernel_size=21, padding=10), \n",
    "            nn.LeakyReLU(inplace=True),\n",
    "            nn.MaxPool1d(kernel_size=2, stride=None),\n",
    "            # nn.MaxPool1d(kernel_size=2, stride=2),\n",
    "            nn.Dropout1d(0.2, inplace=True),\n",
    "            \n",
    "            # Convolution block 2\n",
    "            nn.Conv1d(in_channels=16, out_channels=32, kernel_size=11, padding=5), # kernel_size=21, padding=10),\n",
    "            nn.LeakyReLU(inplace=True),\n",
    "            nn.MaxPool1d(kernel_size=2, stride=None),\n",
    "            # nn.MaxPool1d(kernel_size=2, stride=2),\n",
    "            nn.Dropout1d(0.2, inplace=True),\n",
    "            \n",
    "            # Convolution block 3\n",
    "            nn.Conv1d(in_channels=32, out_channels=64, kernel_size=11, padding=5), # kernel_size=21, padding=10), \n",
    "            nn.LeakyReLU(inplace=True),\n",
    "            nn.MaxPool1d(kernel_size=2, stride=None),\n",
    "            # nn.MaxPool1d(kernel_size=2, stride=2),\n",
    "            nn.Dropout1d(0.2, inplace=True),\n",
    "        )\n",
    "        \n",
    "        ##### FULLY-CONNECTED LAYERS #####\n",
    "        self.fc_layer = nn.Sequential(\n",
    "            # nn.Linear(in_features=64*250, out_features=400),\n",
    "            nn.Linear(in_features=64*125, out_features=400),\n",
    "            nn.ReLU(inplace=True),\n",
    "            nn.Linear(in_features=400, out_features=16),\n",
    "            nn.ReLU(inplace=True),\n",
    "            nn.Linear(in_features=16, out_features=1),\n",
    "        )\n",
    "        \n",
    "        ##### OUTPUT LAYER ##### \n",
    "        self.sigmoid = nn.Sigmoid()\n",
    "\n",
    "        ##### LOSS FUNCTION #####\n",
    "        self.binary_entropy_loss = nn.BCELoss()\n",
    "        \n",
    "        ##### OPTIMIZER #####\n",
    "        self.optimizer = torch.optim.SGD(self.parameters(), lr=lr)\n",
    "        \n",
    "    def forward(self, x): \n",
    "        \"\"\"Perform forward pass.\"\"\"\n",
    "\n",
    "        # Pass through convolution layers\n",
    "        x = self.conv_layer(x)\n",
    "        \n",
    "        # Flatten the output after convolution\n",
    "        x = x.view(x.size(0), -1)\n",
    "        \n",
    "        # Pass through fully-connected layer\n",
    "        x = self.fc_layer(x)\n",
    "        \n",
    "        # Sigmoid output activation since we are doing binary classification\n",
    "        x = self.sigmoid(x)\n",
    "        \n",
    "        return x\n",
    "\n",
    "    def predict(self, x, threshold=0.5):\n",
    "        \"\"\"Make a binary prediction based on the sigmoid probabilities. \n",
    "        \n",
    "        Note: The threshold is set to 0.5 by default.\n",
    "        \"\"\"\n",
    "        \n",
    "        # Pass data through network once\n",
    "        predictions = self.forward(x)\n",
    "\n",
    "        # Hard class prediction: Make a prediction (0 or 1) based on forward pass results\n",
    "        hard_class_prediction = (predictions > threshold).numpy().astype(int).reshape(-1)\n",
    "\n",
    "        return hard_class_prediction"
   ]
  },
  {
   "cell_type": "markdown",
   "id": "97dbe397",
   "metadata": {},
   "source": [
    "<a id='sample_train'></a>\n",
    "### Sample training on one signal"
   ]
  },
  {
   "cell_type": "code",
   "execution_count": 718,
   "id": "73a26591",
   "metadata": {},
   "outputs": [
    {
     "name": "stdout",
     "output_type": "stream",
     "text": [
      "torch.Size([1000]) torch.Size([])\n"
     ]
    }
   ],
   "source": [
    "# Sample training \n",
    "\n",
    "sample = X_train[0]\n",
    "sample_label = y_train[0]\n",
    "\n",
    "print(sample.shape, sample_label.shape)"
   ]
  },
  {
   "cell_type": "markdown",
   "id": "f2eb7f68",
   "metadata": {},
   "source": [
    "> **Note**: We have to add two dimensions to our data. Since we are dealing with 1 dimensional signals, the model takes an input tensor with the following format: `[batch_size, channels, signal_length]`.\n",
    "\n",
    "We are using a batch size of 1 and since we are only using 1 Lead in our ECG signals, our channels is also 1."
   ]
  },
  {
   "cell_type": "code",
   "execution_count": 719,
   "id": "c55d60ad",
   "metadata": {
    "scrolled": false
   },
   "outputs": [
    {
     "data": {
      "text/plain": [
       "torch.Size([1, 1, 1000])"
      ]
     },
     "execution_count": 719,
     "metadata": {},
     "output_type": "execute_result"
    }
   ],
   "source": [
    "# Using unsqueeze to add dimensions to our input signal\n",
    "sample.unsqueeze(0).unsqueeze(0).shape"
   ]
  },
  {
   "cell_type": "code",
   "execution_count": 720,
   "id": "6232a4ba",
   "metadata": {
    "scrolled": false
   },
   "outputs": [
    {
     "data": {
      "text/plain": [
       "SimpleCNN(\n",
       "  (conv_layer): Sequential(\n",
       "    (0): Conv1d(1, 16, kernel_size=(21,), stride=(1,), padding=(10,))\n",
       "    (1): LeakyReLU(negative_slope=0.01, inplace=True)\n",
       "    (2): MaxPool1d(kernel_size=2, stride=2, padding=0, dilation=1, ceil_mode=False)\n",
       "    (3): Conv1d(16, 32, kernel_size=(21,), stride=(1,), padding=(10,))\n",
       "    (4): LeakyReLU(negative_slope=0.01, inplace=True)\n",
       "    (5): MaxPool1d(kernel_size=2, stride=2, padding=0, dilation=1, ceil_mode=False)\n",
       "    (6): Conv1d(32, 64, kernel_size=(21,), stride=(1,), padding=(10,))\n",
       "    (7): LeakyReLU(negative_slope=0.01, inplace=True)\n",
       "    (8): MaxPool1d(kernel_size=2, stride=2, padding=0, dilation=1, ceil_mode=False)\n",
       "  )\n",
       "  (fc_layer): Sequential(\n",
       "    (0): Linear(in_features=8000, out_features=400, bias=True)\n",
       "    (1): ReLU(inplace=True)\n",
       "    (2): Linear(in_features=400, out_features=16, bias=True)\n",
       "    (3): ReLU(inplace=True)\n",
       "    (4): Linear(in_features=16, out_features=1, bias=True)\n",
       "  )\n",
       "  (sigmoid): Sigmoid()\n",
       "  (binary_entropy_loss): BCELoss()\n",
       ")"
      ]
     },
     "execution_count": 720,
     "metadata": {},
     "output_type": "execute_result"
    }
   ],
   "source": [
    "# Initializing the model\n",
    "\n",
    "cnn_model = SimpleCNN()\n",
    "cnn_model"
   ]
  },
  {
   "cell_type": "code",
   "execution_count": 721,
   "id": "747da1eb",
   "metadata": {},
   "outputs": [],
   "source": [
    "# Clear any gradients from previous run (in this case this is our first and only run)\n",
    "cnn_model.optimizer.zero_grad()"
   ]
  },
  {
   "cell_type": "code",
   "execution_count": 722,
   "id": "1b2740ce",
   "metadata": {},
   "outputs": [],
   "source": [
    "# Pass through 1 training signal to model after reshaping size\n",
    "# outputs = cnn_model.forward(sample.unsqueeze(0).unsqueeze(0))\n",
    "outputs = cnn_model(sample.unsqueeze(1))"
   ]
  },
  {
   "cell_type": "code",
   "execution_count": 723,
   "id": "b77b6548",
   "metadata": {},
   "outputs": [
    {
     "data": {
      "text/plain": [
       "tensor([[0.4542]], grad_fn=<SigmoidBackward0>)"
      ]
     },
     "execution_count": 723,
     "metadata": {},
     "output_type": "execute_result"
    }
   ],
   "source": [
    "# Output after one pass\n",
    "outputs"
   ]
  },
  {
   "cell_type": "code",
   "execution_count": 724,
   "id": "1b0e06ac",
   "metadata": {},
   "outputs": [],
   "source": [
    "# Convert sigmoid output to hard predictions (1s and 0s)\n",
    "binary_array = (outputs > 0.5).numpy().astype(int).reshape(-1)"
   ]
  },
  {
   "cell_type": "code",
   "execution_count": 725,
   "id": "5788e195",
   "metadata": {},
   "outputs": [
    {
     "data": {
      "text/plain": [
       "tensor([[False]])"
      ]
     },
     "execution_count": 725,
     "metadata": {},
     "output_type": "execute_result"
    }
   ],
   "source": [
    "# Hard predictions\n",
    "binary_array"
   ]
  },
  {
   "cell_type": "code",
   "execution_count": 726,
   "id": "fcc59424",
   "metadata": {},
   "outputs": [
    {
     "data": {
      "text/plain": [
       "tensor(1.)"
      ]
     },
     "execution_count": 726,
     "metadata": {},
     "output_type": "execute_result"
    }
   ],
   "source": [
    "# True labels \n",
    "sample_label.numpy().astype(int).reshape(-1)"
   ]
  },
  {
   "cell_type": "code",
   "execution_count": 728,
   "id": "ad32b28e",
   "metadata": {},
   "outputs": [],
   "source": [
    "# Compare hard predictions and true labels\n",
    "# accuracy = (binary_array == sample_label.numpy().astype(int).reshape(-1)).sum().item() / sample_label.unsqueeze(0).size(0)\n",
    "\n",
    "# Keeping it as a tensor\n",
    "accuracy = (binary_array == sample_label).sum().item() / sample_label.unsqueeze(0).size(0)"
   ]
  },
  {
   "cell_type": "code",
   "execution_count": 729,
   "id": "56dd5e7f",
   "metadata": {},
   "outputs": [
    {
     "data": {
      "text/plain": [
       "0.0"
      ]
     },
     "execution_count": 729,
     "metadata": {},
     "output_type": "execute_result"
    }
   ],
   "source": [
    "# Accuracy\n",
    "accuracy"
   ]
  },
  {
   "cell_type": "code",
   "execution_count": 730,
   "id": "8ef01e9f",
   "metadata": {},
   "outputs": [],
   "source": [
    "# Compute the binary entropy loss after one training and label\n",
    "# Note, we need to transform the label to a tensor of the right size as well\n",
    "loss = cnn_model.binary_entropy_loss(outputs, torch.tensor([[sample_label]]))"
   ]
  },
  {
   "cell_type": "code",
   "execution_count": 731,
   "id": "5d828989",
   "metadata": {},
   "outputs": [
    {
     "data": {
      "text/plain": [
       "tensor(0.7892, grad_fn=<BinaryCrossEntropyBackward0>)"
      ]
     },
     "execution_count": 731,
     "metadata": {},
     "output_type": "execute_result"
    }
   ],
   "source": [
    "# Loss\n",
    "loss"
   ]
  },
  {
   "cell_type": "code",
   "execution_count": 732,
   "id": "0d0f470b",
   "metadata": {},
   "outputs": [],
   "source": [
    "# Backpropagation - computes the gradients\n",
    "loss.backward()"
   ]
  },
  {
   "cell_type": "code",
   "execution_count": 733,
   "id": "3b87b04f",
   "metadata": {},
   "outputs": [],
   "source": [
    "# Update weights\n",
    "cnn_model.optimizer.step()"
   ]
  },
  {
   "cell_type": "markdown",
   "id": "3da115b1",
   "metadata": {},
   "source": [
    "### Evaluation Metrics\n",
    "Let's create some function that we will use as our metrics to evaluate how well our model is doing. "
   ]
  },
  {
   "cell_type": "code",
   "execution_count": 743,
   "id": "2042817b",
   "metadata": {},
   "outputs": [],
   "source": [
    "def get_accuracy(model, dataloader):\n",
    "    \"\"\"Calculate the accuracy of the model given the model itself and the data.\"\"\"\n",
    "    \n",
    "    model.eval()\n",
    "    \n",
    "    correct_label = 0\n",
    "    total_cases = 0\n",
    "    \n",
    "    # Pass through the data\n",
    "    with torch.no_grad():\n",
    "        for batch in dataloader:\n",
    "            signal, label = batch\n",
    "\n",
    "            # Get the prediction and compare to label\n",
    "            prediction = model.predict(signal)\n",
    "\n",
    "            # Get the number of samples in a batch\n",
    "            total_cases += label.size(0)\n",
    "            \n",
    "            # Count the number of correctly predicted labels\n",
    "            correct_label += (prediction == label.numpy().astype(int).reshape(-1)).sum().item()\n",
    "        \n",
    "    return (correct_label / total_cases) * 100\n",
    "\n",
    "def get_loss(model, dataloader):\n",
    "    \n",
    "    model.eval()\n",
    "    \n",
    "    loss = 0\n",
    "    \n",
    "    with torch.no_grad():\n",
    "        for batch in dataloader:\n",
    "\n",
    "            # Data from first batch (32 signals)\n",
    "            signal, label = batch\n",
    "\n",
    "            # Forward pass\n",
    "            output = model(signal)\n",
    "\n",
    "            # Calculate loss\n",
    "            loss += model.binary_entropy_loss(output.squeeze(1), label).item()\n",
    "            \n",
    "    return loss / len(dataloader)"
   ]
  },
  {
   "cell_type": "markdown",
   "id": "ce792822",
   "metadata": {},
   "source": [
    "Without any model training, let's see how accurate the model is at predicting our data set. "
   ]
  },
  {
   "cell_type": "code",
   "execution_count": 750,
   "id": "8171a362",
   "metadata": {},
   "outputs": [
    {
     "name": "stdout",
     "output_type": "stream",
     "text": [
      "Testing accuracy without training 55.13392857142857\n",
      "Testing loss without training 0.6877334859906411\n"
     ]
    }
   ],
   "source": [
    "# Testing accuracy without training\n",
    "print(f\"Testing accuracy without training {get_accuracy(cnn_model, testing_loader)}\")\n",
    "print(f\"Testing loss without training {get_loss(cnn_model, testing_loader)}\")"
   ]
  },
  {
   "cell_type": "markdown",
   "id": "3a8fbeb6",
   "metadata": {},
   "source": [
    "<a id='training'></a>\n",
    "### Training Model"
   ]
  },
  {
   "cell_type": "code",
   "execution_count": 766,
   "id": "d2e28ab0",
   "metadata": {},
   "outputs": [
    {
     "data": {
      "text/plain": [
       "SimpleCNN(\n",
       "  (conv_layer): Sequential(\n",
       "    (0): Conv1d(1, 16, kernel_size=(11,), stride=(1,), padding=(5,))\n",
       "    (1): LeakyReLU(negative_slope=0.01, inplace=True)\n",
       "    (2): MaxPool1d(kernel_size=2, stride=2, padding=0, dilation=1, ceil_mode=False)\n",
       "    (3): Dropout1d(p=0.2, inplace=True)\n",
       "    (4): Conv1d(16, 32, kernel_size=(11,), stride=(1,), padding=(5,))\n",
       "    (5): LeakyReLU(negative_slope=0.01, inplace=True)\n",
       "    (6): MaxPool1d(kernel_size=2, stride=2, padding=0, dilation=1, ceil_mode=False)\n",
       "    (7): Dropout1d(p=0.2, inplace=True)\n",
       "    (8): Conv1d(32, 64, kernel_size=(11,), stride=(1,), padding=(5,))\n",
       "    (9): LeakyReLU(negative_slope=0.01, inplace=True)\n",
       "    (10): MaxPool1d(kernel_size=2, stride=2, padding=0, dilation=1, ceil_mode=False)\n",
       "    (11): Dropout1d(p=0.2, inplace=True)\n",
       "  )\n",
       "  (fc_layer): Sequential(\n",
       "    (0): Linear(in_features=8000, out_features=400, bias=True)\n",
       "    (1): ReLU(inplace=True)\n",
       "    (2): Linear(in_features=400, out_features=16, bias=True)\n",
       "    (3): ReLU(inplace=True)\n",
       "    (4): Linear(in_features=16, out_features=1, bias=True)\n",
       "  )\n",
       "  (sigmoid): Sigmoid()\n",
       "  (binary_entropy_loss): BCELoss()\n",
       ")"
      ]
     },
     "execution_count": 766,
     "metadata": {},
     "output_type": "execute_result"
    }
   ],
   "source": [
    "# Instantiate model\n",
    "CNN_model = SimpleCNN(lr=0.05)\n",
    "CNN_model"
   ]
  },
  {
   "cell_type": "code",
   "execution_count": 767,
   "id": "e83c822e",
   "metadata": {
    "scrolled": false
   },
   "outputs": [
    {
     "name": "stdout",
     "output_type": "stream",
     "text": [
      "Training epoch: 1\n",
      "Train loss: 0.6893 | Test loss: 0.6872 | Train accuracy: 54.9484 | Test accuracy: 55.1339\n",
      "Training epoch: 2\n",
      "Train loss: 0.6862 | Test loss: 0.6819 | Train accuracy: 55.1504 | Test accuracy: 55.1339\n",
      "Training epoch: 3\n",
      "Train loss: 0.6697 | Test loss: 0.6353 | Train accuracy: 59.3588 | Test accuracy: 59.1199\n",
      "Training epoch: 4\n",
      "Train loss: 0.6014 | Test loss: 0.5562 | Train accuracy: 68.8542 | Test accuracy: 70.5995\n",
      "Training epoch: 5\n",
      "Train loss: 0.5285 | Test loss: 0.4858 | Train accuracy: 75.8631 | Test accuracy: 77.3916\n",
      "Training epoch: 6\n",
      "Train loss: 0.482 | Test loss: 0.505 | Train accuracy: 79.4034 | Test accuracy: 74.3304\n",
      "Training epoch: 7\n",
      "Train loss: 0.444 | Test loss: 0.4329 | Train accuracy: 80.9021 | Test accuracy: 80.389\n",
      "Training epoch: 8\n",
      "Train loss: 0.4237 | Test loss: 0.4092 | Train accuracy: 82.5235 | Test accuracy: 81.9515\n",
      "Training epoch: 9\n",
      "Train loss: 0.4096 | Test loss: 0.3958 | Train accuracy: 82.9342 | Test accuracy: 82.8763\n",
      "Training epoch: 10\n",
      "Train loss: 0.3941 | Test loss: 0.3877 | Train accuracy: 83.8366 | Test accuracy: 83.1952\n",
      "...Training finished\n"
     ]
    }
   ],
   "source": [
    "num_epochs = 10\n",
    "\n",
    "training_accuracy = []\n",
    "testing_accuracy = []\n",
    "training_loss = []\n",
    "testing_loss = []\n",
    "\n",
    "# Loop over data \n",
    "for epoch in range(num_epochs):\n",
    "    \n",
    "    # Activate training model\n",
    "    CNN_model.train()\n",
    "    \n",
    "    loss_sum = 0\n",
    "    accuracy_sum = 0\n",
    "    \n",
    "    print(f\"Training epoch: {epoch+1}\")\n",
    "    \n",
    "    # Loop through batch in dataloader like in the function above\n",
    "    for batch in training_loader:\n",
    "        \n",
    "        # Data from first batch (32 signals)\n",
    "        inputs, labels = batch\n",
    "\n",
    "        # Forward pass\n",
    "        outputs = CNN_model(inputs)\n",
    "        \n",
    "        # Calculate loss\n",
    "        # loss = CNN_model.binary_entropy_loss(outputs.squeeze(), labels)\n",
    "        loss = CNN_model.binary_entropy_loss(outputs.squeeze(1), labels)\n",
    "        \n",
    "        # Clear gradients first from previous run\n",
    "        CNN_model.optimizer.zero_grad()\n",
    "        \n",
    "        # Backpropagation - compute the gradients\n",
    "        loss.backward()\n",
    "        \n",
    "        # Update model parameters based on computed gradients\n",
    "        CNN_model.optimizer.step()\n",
    "        \n",
    "        # Save loss in this batch\n",
    "        loss_sum += loss.item()\n",
    "        \n",
    "        # After updating the model, we want to compute the accuracy\n",
    "        with torch.no_grad():\n",
    "            predicted = CNN_model.predict(inputs)\n",
    "            accuracy_sum += (labels.numpy().astype(int).reshape(-1) == predicted).sum().item() / labels.size(0)\n",
    "            \n",
    "    # After the batch, we want to calculate the average training metrics\n",
    "    accuracy_avg = accuracy_sum / len(training_loader)\n",
    "    loss_avg = loss_sum / len(training_loader)\n",
    "    \n",
    "    # We will also calculate the testing metrics\n",
    "    test_accuracy = get_accuracy(CNN_model, testing_loader)\n",
    "    test_loss = get_loss(CNN_model, testing_loader)\n",
    "    \n",
    "    # Save metrics\n",
    "    training_accuracy.append(accuracy_avg)\n",
    "    training_loss.append(loss_avg)\n",
    "    testing_accuracy.append(test_accuracy)\n",
    "    testing_loss.append(test_loss)\n",
    "    \n",
    "    # Print results\n",
    "    print(f\"Train loss: {np.round(loss_avg, 4)} | \"\\\n",
    "          f\"Test loss: {np.round(test_loss, 4)} | \"\\\n",
    "          f\"Train accuracy: {np.round(accuracy_avg*100, 4)} | \"\\\n",
    "          f\"Test accuracy: {np.round(test_accuracy, 4)}\")\n",
    "    \n",
    "print(\"...Training finished\")"
   ]
  },
  {
   "cell_type": "markdown",
   "id": "59d3cecb",
   "metadata": {},
   "source": [
    "<a id='eval'></a>\n",
    "### Model Evaluation"
   ]
  },
  {
   "cell_type": "code",
   "execution_count": 770,
   "id": "d34860b3",
   "metadata": {
    "scrolled": false
   },
   "outputs": [
    {
     "data": {
      "image/png": "[encoded data removed]",
      "text/plain": [
       "<Figure size 640x480 with 1 Axes>"
      ]
     },
     "metadata": {},
     "output_type": "display_data"
    },
    {
     "data": {
      "image/png": "[encoded data removed]",
      "text/plain": [
       "<Figure size 640x480 with 1 Axes>"
      ]
     },
     "metadata": {},
     "output_type": "display_data"
    }
   ],
   "source": [
    "plt.figure()\n",
    "plt.plot(range(1, len(training_loss)+1), training_loss, label=\"Training Loss\", marker='.')\n",
    "plt.plot(range(1, len(testing_loss)+1), testing_loss, label=\"Testing Loss\", marker='.')\n",
    "plt.title(\"Training and testing loss\".title())\n",
    "plt.xlabel(\"Epoch\")\n",
    "plt.ylabel(\"Loss\")\n",
    "plt.legend()\n",
    "plt.show()\n",
    "\n",
    "plt.figure()\n",
    "plt.plot(range(1, len(training_accuracy)+1), np.array(training_accuracy)*100, label=\"Training Accuracy\", marker='.')\n",
    "plt.plot(range(1, len(testing_accuracy)+1), testing_accuracy, label=\"Testing Accuracy\", marker='.')\n",
    "plt.title(\"Training and testing accuracy\".title())\n",
    "plt.xlabel(\"Epoch\")\n",
    "plt.ylabel(\"Accuracy\")\n",
    "plt.legend()\n",
    "plt.show()"
   ]
  },
  {
   "cell_type": "code",
   "execution_count": null,
   "id": "a589c4d4",
   "metadata": {},
   "outputs": [],
   "source": []
  }
 ],
 "metadata": {
  "kernelspec": {
   "display_name": "ecgcap",
   "language": "python",
   "name": "ecgcap"
  },
  "language_info": {
   "codemirror_mode": {
    "name": "ipython",
    "version": 3
   },
   "file_extension": ".py",
   "mimetype": "text/x-python",
   "name": "python",
   "nbconvert_exporter": "python",
   "pygments_lexer": "ipython3",
   "version": "3.10.14"
  }
 },
 "nbformat": 4,
 "nbformat_minor": 5
}
