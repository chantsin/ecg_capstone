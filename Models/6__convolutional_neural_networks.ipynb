{
 "cells": [
  {
   "cell_type": "markdown",
   "id": "13dc42e2",
   "metadata": {},
   "source": [
    "## ECG Classification Using Convolutional Neural Networks\n",
    "\n",
    "Author: Calvin Chan \n",
    "\n",
    "### Introduction\n",
    "In our last notebook, we will use the concept of convolution to model our ECG timeseries data. Traditionally, image analysis uses a 2D convolution to extract features from images, however since we are working with signals this would not work. Instead of 2D convolutions, we can convolve over our signals using a 1D framework. \n",
    "\n",
    "### Table of Contents\n",
    "\n",
    "Here, we import all the necessary packages used in this notebook."
   ]
  },
  {
   "cell_type": "code",
   "execution_count": 2,
   "id": "db2e2f7d",
   "metadata": {},
   "outputs": [],
   "source": [
    "import numpy as np\n",
    "import pandas as pd\n",
    "import matplotlib.pyplot as plt \n",
    "import torch \n",
    "import torch.nn as nn\n",
    "import load_functions as f\n",
    "from sklearn.model_selection import train_test_split\n",
    "from sklearn.preprocessing import StandardScaler, LabelEncoder\n",
    "from sklearn.metrics import accuracy_score, classification_report, confusion_matrix, ConfusionMatrixDisplay, roc_curve, roc_auc_score\n",
    "from tqdm.notebook import trange, tnrange, tqdm_notebook\n",
    "from torch.utils.data import TensorDataset, DataLoader\n",
    "\n",
    "import sys\n",
    "sys.path.append('..')\n",
    "from Notebooks import ecg_cleaning as c"
   ]
  },
  {
   "cell_type": "markdown",
   "id": "c2385607",
   "metadata": {},
   "source": [
    "### Data Import\n",
    "\n",
    "Below we load our full data set."
   ]
  },
  {
   "cell_type": "code",
   "execution_count": 3,
   "id": "3e6ffd42",
   "metadata": {},
   "outputs": [],
   "source": [
    "# File Path\n",
    "path = '../data/physionet.org/files/ptb-xl/1.0.3/'\n",
    "metadata = pd.read_csv('../data/cleaned_metadata.csv')\n",
    "\n",
    "# Import data\n",
    "full_data = f.load_signal(path, metadata)"
   ]
  },
  {
   "cell_type": "code",
   "execution_count": 4,
   "id": "f77e9b31",
   "metadata": {},
   "outputs": [
    {
     "data": {
      "text/plain": [
       "((15677, 1000, 12), (15677,))"
      ]
     },
     "execution_count": 4,
     "metadata": {},
     "output_type": "execute_result"
    }
   ],
   "source": [
    "# Let's look at the data shape \n",
    "full_data[0].shape, full_data[1].shape"
   ]
  },
  {
   "cell_type": "markdown",
   "id": "0cbb5e0b",
   "metadata": {},
   "source": [
    "We also want to look at Lead II only. "
   ]
  },
  {
   "cell_type": "code",
   "execution_count": 5,
   "id": "34590d4e",
   "metadata": {},
   "outputs": [
    {
     "data": {
      "text/plain": [
       "((15677, 1000), (15677,))"
      ]
     },
     "execution_count": 5,
     "metadata": {},
     "output_type": "execute_result"
    }
   ],
   "source": [
    "# Slicing only for Lead II \n",
    "X = full_data[0][:,:,1]\n",
    "y = full_data[1]\n",
    "\n",
    "X.shape, y.shape"
   ]
  },
  {
   "cell_type": "markdown",
   "id": "408f7b31",
   "metadata": {},
   "source": [
    "### Data Preprocessing "
   ]
  },
  {
   "cell_type": "code",
   "execution_count": 6,
   "id": "a967adc4",
   "metadata": {},
   "outputs": [],
   "source": [
    "# Transform target column into binary classes\n",
    "y = y.apply(lambda x: f.binary(x))"
   ]
  },
  {
   "cell_type": "code",
   "execution_count": 7,
   "id": "36b893bd",
   "metadata": {},
   "outputs": [
    {
     "data": {
      "text/plain": [
       "diagnostic_superclass\n",
       "ABNO    8645\n",
       "NORM    7032\n",
       "Name: count, dtype: int64"
      ]
     },
     "execution_count": 7,
     "metadata": {},
     "output_type": "execute_result"
    }
   ],
   "source": [
    "# Sanity check\n",
    "y.value_counts()"
   ]
  },
  {
   "cell_type": "code",
   "execution_count": 8,
   "id": "f7b53dc4",
   "metadata": {},
   "outputs": [],
   "source": [
    "# Instantiate LabelEncoder \n",
    "label = LabelEncoder()\n",
    "\n",
    "# Fit binary classes\n",
    "label.fit(y)\n",
    "\n",
    "# Transform classes\n",
    "y = label.transform(y)"
   ]
  },
  {
   "cell_type": "code",
   "execution_count": 9,
   "id": "7cb26b72",
   "metadata": {},
   "outputs": [
    {
     "data": {
      "text/plain": [
       "array([0, 1])"
      ]
     },
     "execution_count": 9,
     "metadata": {},
     "output_type": "execute_result"
    }
   ],
   "source": [
    "# Checking how our label is encoded\n",
    "label.transform(['ABNO', 'NORM'])"
   ]
  },
  {
   "cell_type": "markdown",
   "id": "06ffe05f",
   "metadata": {},
   "source": [
    "As we can see, signals that are labeled `ABNO` are mapped to `0` and `NORM` are mapped `1`. "
   ]
  },
  {
   "cell_type": "markdown",
   "id": "d29d05a1",
   "metadata": {},
   "source": [
    "#### Signal denoising using ecg_cleaning.py\n",
    "\n",
    "In this following section, we denoise our ECG signals using Fourier Tranforms. We have to specify the frequencies in which we want to take out for baseline wandering and powerline interference. "
   ]
  },
  {
   "cell_type": "code",
   "execution_count": 10,
   "id": "3239935f",
   "metadata": {},
   "outputs": [
    {
     "data": {
      "text/plain": [
       "(15677, 1000)"
      ]
     },
     "execution_count": 10,
     "metadata": {},
     "output_type": "execute_result"
    }
   ],
   "source": [
    "X.shape"
   ]
  },
  {
   "cell_type": "code",
   "execution_count": 11,
   "id": "20ee70d6",
   "metadata": {},
   "outputs": [],
   "source": [
    "# Low sampling frequency\n",
    "sig_len = 1000\n",
    "sampling_frequency = 100\n",
    "time = np.arange(0, sig_len) / sampling_frequency\n",
    "\n",
    "# Baseline and PLI removal\n",
    "signal_bl = np.apply_along_axis(c.baseline_removal, axis=1, arr=X, freq_start=0.1, freq_stop=1.5)\n",
    "signal_pli = np.apply_along_axis(c.high_freq_removal, axis=1, arr=signal_bl, freq_start=40)"
   ]
  },
  {
   "cell_type": "code",
   "execution_count": 12,
   "id": "9160008c",
   "metadata": {},
   "outputs": [
    {
     "data": {
      "text/plain": [
       "(15677, 1000)"
      ]
     },
     "execution_count": 12,
     "metadata": {},
     "output_type": "execute_result"
    }
   ],
   "source": [
    "signal_pli.shape"
   ]
  },
  {
   "cell_type": "markdown",
   "id": "c9149508",
   "metadata": {},
   "source": [
    "#### Train Test Split\n",
    "\n",
    "After preprocessing our signals, we can split our data set to training and testing. We will use `20%` of our data as testing and the rest as training. Since we have a data imbalance, we will include `stratify` as well.  "
   ]
  },
  {
   "cell_type": "code",
   "execution_count": 13,
   "id": "5d6ca143",
   "metadata": {},
   "outputs": [
    {
     "data": {
      "text/plain": [
       "((12541, 1000), (3136, 1000), (12541,), (3136,))"
      ]
     },
     "execution_count": 13,
     "metadata": {},
     "output_type": "execute_result"
    }
   ],
   "source": [
    "# Train/Test split\n",
    "X_train, X_test, y_train, y_test = train_test_split(signal_pli, y, test_size=0.2, stratify=y)\n",
    "\n",
    "# Checking the shape\n",
    "X_train.shape, X_test.shape, y_train.shape, y_test.shape"
   ]
  },
  {
   "cell_type": "markdown",
   "id": "6fcb0132",
   "metadata": {},
   "source": [
    "#### Scaling \n",
    "\n",
    "Next, we want to scale our data. Since we are using using a neural network, as we calculate the gradient during backpropagation, distances can affect how well this is performed. We will use `StandardScaler` for our case."
   ]
  },
  {
   "cell_type": "code",
   "execution_count": 14,
   "id": "877e1a3b",
   "metadata": {},
   "outputs": [],
   "source": [
    "# Instantiate standard scaler\n",
    "ss = StandardScaler()\n",
    "\n",
    "# Fit and transform training set\n",
    "X_train = ss.fit_transform(X_train)\n",
    "\n",
    "# Transform testing set\n",
    "X_test = ss.transform(X_test)"
   ]
  },
  {
   "cell_type": "markdown",
   "id": "cea219c4",
   "metadata": {},
   "source": [
    "#### Transforming arrays into Torch Tensors"
   ]
  },
  {
   "cell_type": "code",
   "execution_count": 15,
   "id": "ce48c226",
   "metadata": {},
   "outputs": [
    {
     "name": "stdout",
     "output_type": "stream",
     "text": [
      "torch.Size([12541, 1000]) torch.Size([3136, 1000]) torch.Size([12541]) torch.Size([3136])\n"
     ]
    }
   ],
   "source": [
    "# Transforming independent variables\n",
    "X_train = torch.tensor(X_train, dtype=torch.float32)\n",
    "X_test = torch.tensor(X_test, dtype=torch.float32)\n",
    "\n",
    "# Transforming dependent variables\n",
    "y_train = torch.tensor(y_train, dtype=torch.float32)\n",
    "y_test = torch.tensor(y_test, dtype=torch.float32)\n",
    "\n",
    "# Sanity check\n",
    "print(X_train.shape, X_test.shape, y_train.shape, y_test.shape)"
   ]
  },
  {
   "cell_type": "markdown",
   "id": "e9f42f4a",
   "metadata": {},
   "source": [
    "#### Data Loaders"
   ]
  },
  {
   "cell_type": "code",
   "execution_count": 62,
   "id": "d498b257",
   "metadata": {},
   "outputs": [],
   "source": [
    "####### Setting batch size #######\n",
    "batch_size = 128\n",
    "\n",
    "# Shuffle training set\n",
    "training_loader = DataLoader(TensorDataset(X_train.unsqueeze(1), y_train.unsqueeze(1)), batch_size=batch_size, shuffle=True)\n",
    "\n",
    "# Don't shuffle validation set\n",
    "testing_loader = DataLoader(TensorDataset(X_test.unsqueeze(1), y_test.unsqueeze(1)), batch_size=batch_size, shuffle=False)"
   ]
  },
  {
   "cell_type": "code",
   "execution_count": 297,
   "id": "fff67e07",
   "metadata": {},
   "outputs": [],
   "source": [
    "train_dataset = TensorDataset(X_train.unsqueeze(1), y_train)\n",
    "test_dataset = TensorDataset(X_test.unsqueeze(1), y_test)\n",
    "\n",
    "training_loader = DataLoader(train_dataset, batch_size=64, shuffle=True)\n",
    "testing_loader = DataLoader(test_dataset, batch_size=64, shuffle=False)"
   ]
  },
  {
   "cell_type": "markdown",
   "id": "a7569a59",
   "metadata": {},
   "source": [
    "### Model Setup and Implementation"
   ]
  },
  {
   "cell_type": "code",
   "execution_count": 302,
   "id": "f07880da",
   "metadata": {},
   "outputs": [
    {
     "data": {
      "text/plain": [
       "16000"
      ]
     },
     "execution_count": 302,
     "metadata": {},
     "output_type": "execute_result"
    }
   ],
   "source": [
    "64*250"
   ]
  },
  {
   "cell_type": "code",
   "execution_count": 317,
   "id": "53f4cbd9",
   "metadata": {},
   "outputs": [],
   "source": [
    "class SimpleCNN(nn.Module):\n",
    "    \"\"\"Starting off with a simple cnn.\"\"\"\n",
    "    \n",
    "    def __init__(self, lr=0.001):\n",
    "        super(SimpleCNN, self).__init__()\n",
    "        \n",
    "        ##### CONVOLUTION LAYERS #####\n",
    "        self.conv_layer = nn.Sequential(\n",
    "            \n",
    "            # Convolution block 1\n",
    "            nn.Conv1d(in_channels=1, out_channels=16, kernel_size=11, padding=5),\n",
    "            nn.LeakyReLU(inplace=True),\n",
    "            nn.MaxPool1d(kernel_size=2, stride=None),\n",
    "            # nn.MaxPool1d(kernel_size=2, stride=2),\n",
    "            # nn.Dropout1d(0.2, inplace=True),\n",
    "            \n",
    "            # Convolution block 2\n",
    "            nn.Conv1d(in_channels=16, out_channels=32, kernel_size=11, padding=5),\n",
    "            nn.LeakyReLU(inplace=True),\n",
    "            nn.MaxPool1d(kernel_size=2, stride=None),\n",
    "            # nn.MaxPool1d(kernel_size=2, stride=2),\n",
    "            # nn.Dropout1d(0.2, inplace=True),\n",
    "            \n",
    "            # Convolution block 3\n",
    "            nn.Conv1d(in_channels=32, out_channels=64, kernel_size=11, padding=5),\n",
    "            nn.LeakyReLU(inplace=True),\n",
    "            nn.MaxPool1d(kernel_size=2, stride=None),\n",
    "            # nn.MaxPool1d(kernel_size=2, stride=2),\n",
    "            # nn.Dropout1d(0.2, inplace=True),\n",
    "        )\n",
    "        \n",
    "        ##### FULLY-CONNECTED LAYERS #####\n",
    "        self.fc_layer = nn.Sequential(\n",
    "            # nn.Linear(in_features=64*250, out_features=400),\n",
    "            nn.Linear(in_features=64*125, out_features=400),\n",
    "            nn.ReLU(inplace=True),\n",
    "            nn.Linear(in_features=400, out_features=16),\n",
    "            nn.ReLU(inplace=True),\n",
    "            nn.Linear(in_features=16, out_features=1),\n",
    "        )\n",
    "        \n",
    "        ##### OUTPUT LAYER ##### \n",
    "        self.sigmoid = nn.Sigmoid()\n",
    "\n",
    "        ##### LOSS FUNCTION #####\n",
    "        self.binary_entropy_loss = nn.BCELoss()\n",
    "        \n",
    "        ##### OPTIMIZER #####\n",
    "        self.optimizer = torch.optim.SGD(self.parameters(), lr=lr)\n",
    "        \n",
    "    def forward(self, x): \n",
    "        \"\"\"Perform forward pass.\"\"\"\n",
    "\n",
    "        # Pass through convolution layers\n",
    "        x = self.conv_layer(x)\n",
    "        \n",
    "        # Flatten the output after convolution\n",
    "        x = x.view(x.size(0), -1)\n",
    "        \n",
    "        # Pass through fully-connected layer\n",
    "        x = self.fc_layer(x)\n",
    "        \n",
    "        x = self.sigmoid(x)\n",
    "        \n",
    "        return x\n",
    "\n",
    "    def predict(self, x):\n",
    "        \"\"\"Make prediction.\"\"\"\n",
    "\n",
    "        predictions = self.forward(x)\n",
    "\n",
    "        # Hard class prediction: output from sigmoid with the higher percentage\n",
    "        hard_class_prediction = torch.argmax(predictions, dim=1)\n",
    "\n",
    "        return hard_class_prediction\n"
   ]
  },
  {
   "cell_type": "markdown",
   "id": "97dbe397",
   "metadata": {},
   "source": [
    "### Sample training on one signal"
   ]
  },
  {
   "cell_type": "code",
   "execution_count": 239,
   "id": "73a26591",
   "metadata": {},
   "outputs": [
    {
     "name": "stdout",
     "output_type": "stream",
     "text": [
      "torch.Size([1000]) torch.Size([])\n"
     ]
    }
   ],
   "source": [
    "# Sample training \n",
    "\n",
    "sample = X_train[0]\n",
    "sample_label = y_train[0]\n",
    "\n",
    "print(sample.shape, sample_label.shape)"
   ]
  },
  {
   "cell_type": "markdown",
   "id": "f2eb7f68",
   "metadata": {},
   "source": [
    "> **Note**: We have to add two dimensions to our data. Since we are dealing with 1 dimensional signals, the model takes an input tensor with the following format: `[batch_size, channels, signal_length]`.\n",
    "\n",
    "We are using a batch size of 1 and since we are only using 1 Lead in our ECG signals, our channels is also 1."
   ]
  },
  {
   "cell_type": "code",
   "execution_count": 240,
   "id": "c55d60ad",
   "metadata": {
    "scrolled": false
   },
   "outputs": [
    {
     "data": {
      "text/plain": [
       "torch.Size([1, 1, 1000])"
      ]
     },
     "execution_count": 240,
     "metadata": {},
     "output_type": "execute_result"
    }
   ],
   "source": [
    "# Using unsqueeze to add dimensions to our input signal\n",
    "sample.unsqueeze(0).unsqueeze(0).shape"
   ]
  },
  {
   "cell_type": "code",
   "execution_count": 241,
   "id": "6232a4ba",
   "metadata": {
    "scrolled": false
   },
   "outputs": [
    {
     "data": {
      "text/plain": [
       "SimpleCNN(\n",
       "  (conv_layer): Sequential(\n",
       "    (0): Conv1d(1, 16, kernel_size=(3,), stride=(1,), padding=(1,))\n",
       "    (1): ReLU(inplace=True)\n",
       "    (2): MaxPool1d(kernel_size=2, stride=2, padding=0, dilation=1, ceil_mode=False)\n",
       "    (3): Dropout1d(p=0.2, inplace=True)\n",
       "    (4): Conv1d(16, 32, kernel_size=(3,), stride=(1,), padding=(1,))\n",
       "    (5): ReLU(inplace=True)\n",
       "    (6): MaxPool1d(kernel_size=2, stride=2, padding=0, dilation=1, ceil_mode=False)\n",
       "    (7): Dropout1d(p=0.2, inplace=True)\n",
       "  )\n",
       "  (fc_layer): Sequential(\n",
       "    (0): Linear(in_features=8000, out_features=400, bias=True)\n",
       "    (1): ReLU(inplace=True)\n",
       "    (2): Linear(in_features=400, out_features=16, bias=True)\n",
       "    (3): ReLU(inplace=True)\n",
       "    (4): Linear(in_features=16, out_features=1, bias=True)\n",
       "  )\n",
       "  (sigmoid): Sigmoid()\n",
       "  (binary_entropy_loss): BCELoss()\n",
       ")"
      ]
     },
     "execution_count": 241,
     "metadata": {},
     "output_type": "execute_result"
    }
   ],
   "source": [
    "# Initializing the model\n",
    "\n",
    "cnn_model = SimpleCNN()\n",
    "cnn_model"
   ]
  },
  {
   "cell_type": "code",
   "execution_count": 242,
   "id": "747da1eb",
   "metadata": {},
   "outputs": [],
   "source": [
    "# Clear any gradients from previous run (in this case this is our first and only run)\n",
    "cnn_model.optimizer.zero_grad()"
   ]
  },
  {
   "cell_type": "code",
   "execution_count": 245,
   "id": "1b2740ce",
   "metadata": {},
   "outputs": [],
   "source": [
    "# Pass through 1 training signal to model after reshaping size\n",
    "outputs = cnn_model(sample.unsqueeze(0).unsqueeze(0))"
   ]
  },
  {
   "cell_type": "code",
   "execution_count": 247,
   "id": "81c1cbc8",
   "metadata": {},
   "outputs": [
    {
     "data": {
      "text/plain": [
       "tensor([[0.4835]], grad_fn=<SigmoidBackward0>)"
      ]
     },
     "execution_count": 247,
     "metadata": {},
     "output_type": "execute_result"
    }
   ],
   "source": [
    "# Output after one pass\n",
    "outputs"
   ]
  },
  {
   "cell_type": "code",
   "execution_count": 224,
   "id": "8ef01e9f",
   "metadata": {},
   "outputs": [],
   "source": [
    "# Compute the binary entropy loss after one training and label\n",
    "# Note, we need to transform the label to a tensor of the right size as well\n",
    "loss = cnn_model.binary_entropy_loss(outputs, torch.tensor([[sample_label]]))"
   ]
  },
  {
   "cell_type": "code",
   "execution_count": 225,
   "id": "5d828989",
   "metadata": {},
   "outputs": [
    {
     "data": {
      "text/plain": [
       "tensor(0.7268, grad_fn=<BinaryCrossEntropyBackward0>)"
      ]
     },
     "execution_count": 225,
     "metadata": {},
     "output_type": "execute_result"
    }
   ],
   "source": [
    "# Loss\n",
    "loss"
   ]
  },
  {
   "cell_type": "code",
   "execution_count": 226,
   "id": "0d0f470b",
   "metadata": {},
   "outputs": [],
   "source": [
    "# Backpropagation - computes the gradients\n",
    "loss.backward()"
   ]
  },
  {
   "cell_type": "code",
   "execution_count": 227,
   "id": "3b87b04f",
   "metadata": {},
   "outputs": [],
   "source": [
    "# Update weights\n",
    "cnn_model.optimizer.step()"
   ]
  },
  {
   "cell_type": "markdown",
   "id": "f65a5c61",
   "metadata": {},
   "source": [
    "Let's create a function to evaluate the accuracy of our model given the model itself and the data set. "
   ]
  },
  {
   "cell_type": "code",
   "execution_count": 309,
   "id": "e5ad8ead",
   "metadata": {},
   "outputs": [],
   "source": [
    "def get_accuracy(model, dataloader):\n",
    "    \n",
    "    model.eval()\n",
    "    \n",
    "    correct_label = 0\n",
    "    total_cases = 0\n",
    "    \n",
    "    # Pass through the data\n",
    "    with torch.no_grad():\n",
    "        for batch in dataloader:\n",
    "            signal, label = batch\n",
    "\n",
    "            # Get the prediction and compare to label\n",
    "            prediction = model.predict(signal)\n",
    "\n",
    "            # Get the number of samples in a batch\n",
    "            total_cases += label.size(0)\n",
    "\n",
    "            # Count the number of correctly predicted labels\n",
    "            correct_label += (prediction == label).sum().item()\n",
    "        \n",
    "    return (correct_label / total_cases) * 100"
   ]
  },
  {
   "cell_type": "code",
   "execution_count": 312,
   "id": "c275b867",
   "metadata": {},
   "outputs": [
    {
     "data": {
      "text/plain": [
       "55.13392857142857"
      ]
     },
     "execution_count": 312,
     "metadata": {},
     "output_type": "execute_result"
    }
   ],
   "source": [
    "get_accuracy(cnn_model, testing_loader)"
   ]
  },
  {
   "cell_type": "markdown",
   "id": "3a8fbeb6",
   "metadata": {},
   "source": [
    "### Training Model"
   ]
  },
  {
   "cell_type": "code",
   "execution_count": 322,
   "id": "c41a6ff7",
   "metadata": {},
   "outputs": [],
   "source": [
    "# Instantiate model\n",
    "CNN_model = SimpleCNN(lr=0.1)"
   ]
  },
  {
   "cell_type": "code",
   "execution_count": 323,
   "id": "e83c822e",
   "metadata": {
    "scrolled": true
   },
   "outputs": [
    {
     "name": "stdout",
     "output_type": "stream",
     "text": [
      "Training epoch: 1\n",
      "Average loss: 0.6863 | Average training accuracy: 55.1465 | Average testing accuracy: 55.1339\n",
      "Training epoch: 2\n",
      "Average loss: 0.6281 | Average training accuracy: 55.1449 | Average testing accuracy: 55.1339\n",
      "Training epoch: 3\n",
      "Average loss: 0.5308 | Average training accuracy: 55.148 | Average testing accuracy: 55.1339\n",
      "Training epoch: 4\n",
      "Average loss: 0.4514 | Average training accuracy: 55.1492 | Average testing accuracy: 55.1339\n",
      "Training epoch: 5\n",
      "Average loss: 0.4081 | Average training accuracy: 55.1465 | Average testing accuracy: 55.1339\n",
      "...Training finished\n"
     ]
    }
   ],
   "source": [
    "# Loop over data \n",
    "for epoch in range(5):\n",
    "    \n",
    "    # Activate training model\n",
    "    CNN_model.train()\n",
    "    \n",
    "    loss_sum = 0\n",
    "    # accuracy_sum = 0\n",
    "    accuracy_sum = []\n",
    "    total_predictions = 0\n",
    "    \n",
    "    print(f\"Training epoch: {epoch+1}\")\n",
    "    \n",
    "    # Loop through batch in dataloader like in the function above\n",
    "    for batch in training_loader:\n",
    "        \n",
    "        # Data from first batch (32 signals)\n",
    "        inputs, labels = batch\n",
    "\n",
    "        # Forward pass\n",
    "        outputs = CNN_model(inputs)\n",
    "        \n",
    "        # Calculate loss\n",
    "        # loss = CNN_model.binary_entropy_loss(outputs.squeeze(), labels)\n",
    "        loss = CNN_model.binary_entropy_loss(outputs.squeeze(1), labels)\n",
    "        \n",
    "        # Clear gradients first from previous run\n",
    "        CNN_model.optimizer.zero_grad()\n",
    "        \n",
    "        # Backpropagation - compute the gradients\n",
    "        loss.backward()\n",
    "        \n",
    "        # Update model parameters based on computed gradients\n",
    "        CNN_model.optimizer.step()\n",
    "        \n",
    "        # Save loss in this batch\n",
    "        loss_sum += loss.item()\n",
    "        \n",
    "        # After updating the model, we want to compute the accuracy\n",
    "        with torch.no_grad():\n",
    "            predicted = CNN_model.predict(inputs)\n",
    "            # accuracy_sum += (labels == predicted).sum().item() / len(labels)\n",
    "            accuracy_sum.append((labels == predicted).sum().item() / len(labels))\n",
    "            # total_predictions += labels.size(0)\n",
    "            \n",
    "    # After the batch, we want to calculate the average metrics\n",
    "    loss_avg = loss_sum / len(training_loader)\n",
    "    # accuracy_avg = accuracy_sum / total_predictions\n",
    "    # print(accuracy_sum)\n",
    "    accuracy_avg = np.average(accuracy_sum)\n",
    "    \n",
    "    # Calculate test accuracy after 1 epoch\n",
    "    test_accuracy = get_accuracy(CNN_model, testing_loader)\n",
    "    \n",
    "    # Print results\n",
    "    print(f\"Average loss: {np.round(loss_avg, 4)} | \"\\\n",
    "          f\"Average training accuracy: {np.round(accuracy_avg*100, 4)} | \"\\\n",
    "          f\"Average testing accuracy: {np.round(test_accuracy, 4)}\")\n",
    "    \n",
    "print(\"...Training finished\")"
   ]
  },
  {
   "cell_type": "markdown",
   "id": "59d3cecb",
   "metadata": {},
   "source": [
    "### Accuracy Scores"
   ]
  },
  {
   "cell_type": "code",
   "execution_count": 79,
   "id": "d34860b3",
   "metadata": {},
   "outputs": [
    {
     "data": {
      "image/png": "[encoded data removed]",
      "text/plain": [
       "<Figure size 640x480 with 1 Axes>"
      ]
     },
     "metadata": {},
     "output_type": "display_data"
    }
   ],
   "source": [
    "plt.figure()\n",
    "plt.plot(total_train_loss, label=\"Training Loss\")\n",
    "plt.plot(total_test_loss, label=\"Validation Loss\")\n",
    "plt.xlabel(\"Epoch\")\n",
    "plt.ylabel(\"Loss\")\n",
    "plt.legend()\n",
    "plt.show()"
   ]
  },
  {
   "cell_type": "code",
   "execution_count": 126,
   "id": "9071fa35",
   "metadata": {},
   "outputs": [
    {
     "name": "stdout",
     "output_type": "stream",
     "text": [
      "Accuracy score on test set: 55.13%\n"
     ]
    }
   ],
   "source": [
    "from sklearn.metrics import accuracy_score\n",
    "\n",
    "# Make predictions\n",
    "binary_classification = CNN_model.predict(X_test.unsqueeze(1))\n",
    "\n",
    "# Calculate the score on the test set\n",
    "accuracy = accuracy_score(y_test, binary_classification)\n",
    "print(f\"Accuracy score on test set: {round(accuracy * 100, 2)}%\")"
   ]
  },
  {
   "cell_type": "code",
   "execution_count": null,
   "id": "a589c4d4",
   "metadata": {},
   "outputs": [],
   "source": []
  }
 ],
 "metadata": {
  "kernelspec": {
   "display_name": "ecgcap",
   "language": "python",
   "name": "ecgcap"
  },
  "language_info": {
   "codemirror_mode": {
    "name": "ipython",
    "version": 3
   },
   "file_extension": ".py",
   "mimetype": "text/x-python",
   "name": "python",
   "nbconvert_exporter": "python",
   "pygments_lexer": "ipython3",
   "version": "3.10.14"
  }
 },
 "nbformat": 4,
 "nbformat_minor": 5
}
